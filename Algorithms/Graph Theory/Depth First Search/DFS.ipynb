{
 "cells": [
  {
   "cell_type": "code",
   "execution_count": 1,
   "metadata": {},
   "outputs": [],
   "source": [
    "from Graph import Graph"
   ]
  },
  {
   "cell_type": "code",
   "execution_count": 2,
   "metadata": {},
   "outputs": [],
   "source": [
    "g = Graph(n=5, graph_base=\"dwg\")"
   ]
  },
  {
   "cell_type": "code",
   "execution_count": 3,
   "metadata": {},
   "outputs": [],
   "source": [
    "g.add_directed_edge_with_weight(0, 1, 4)\n",
    "g.add_directed_edge_with_weight(0, 2, 5)\n",
    "g.add_directed_edge_with_weight(1, 2, -2)\n",
    "g.add_directed_edge_with_weight(1, 3, 6)\n",
    "g.add_directed_edge_with_weight(2, 3, 1)\n",
    "g.add_directed_edge_with_weight(2, 2, 10)"
   ]
  },
  {
   "cell_type": "code",
   "execution_count": 4,
   "metadata": {},
   "outputs": [
    {
     "data": {
      "text/plain": [
       "{0: [[1, 4], [2, 5]], 1: [[2, -2], [3, 6]], 2: [[3, 1], [2, 10]], 3: [], 4: []}"
      ]
     },
     "execution_count": 4,
     "metadata": {},
     "output_type": "execute_result"
    }
   ],
   "source": [
    "g.display_graph()"
   ]
  },
  {
   "cell_type": "code",
   "execution_count": 5,
   "metadata": {},
   "outputs": [],
   "source": [
    "g2 = Graph(n=5, graph_base=\"dug\")"
   ]
  },
  {
   "cell_type": "code",
   "execution_count": 6,
   "metadata": {},
   "outputs": [
    {
     "data": {
      "text/plain": [
       "{0: [1, 2], 1: [2, 3], 2: [3, 2], 3: [], 4: []}"
      ]
     },
     "execution_count": 6,
     "metadata": {},
     "output_type": "execute_result"
    }
   ],
   "source": [
    "g2.add_directed_edge_without_weight(0, 1)\n",
    "g2.add_directed_edge_without_weight(0, 2)\n",
    "g2.add_directed_edge_without_weight(1, 2)\n",
    "g2.add_directed_edge_without_weight(1, 3)\n",
    "g2.add_directed_edge_without_weight(2, 3)\n",
    "g2.add_directed_edge_without_weight(2, 2)\n",
    "\n",
    "g2.display_graph()"
   ]
  },
  {
   "cell_type": "code",
   "execution_count": null,
   "metadata": {},
   "outputs": [],
   "source": []
  }
 ],
 "metadata": {
  "kernelspec": {
   "display_name": "deep",
   "language": "python",
   "name": "python3"
  },
  "language_info": {
   "codemirror_mode": {
    "name": "ipython",
    "version": 3
   },
   "file_extension": ".py",
   "mimetype": "text/x-python",
   "name": "python",
   "nbconvert_exporter": "python",
   "pygments_lexer": "ipython3",
   "version": "3.10.8"
  },
  "orig_nbformat": 4,
  "vscode": {
   "interpreter": {
    "hash": "750b0b0bcdd9fe2e206a310bba2895779907b3630475ba10ada1c3aa2da185e2"
   }
  }
 },
 "nbformat": 4,
 "nbformat_minor": 2
}
