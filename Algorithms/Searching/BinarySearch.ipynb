{
 "cells": [
  {
   "cell_type": "code",
   "execution_count": 2,
   "metadata": {},
   "outputs": [],
   "source": [
    "def binary_search(seq: list[int], search: int) -> int | bool | str:\n",
    "    # The usual binary Search algorithm expects a sorted input list of integers\n",
    "    # and returns the index of the searched value if found \n",
    "\n",
    "    # Extend the algorithm to default to \n",
    "    # providing search of existence\n",
    "    # if a sorted list is not given by the user\n",
    "    sorted_seq = sorted(seq)\n",
    "\n",
    "    if sorted_seq == seq:\n",
    "        # User doesn't want a search of existence\n",
    "        # instead wants an index position\n",
    "        print(\"Sorted sequence provided. User expects a search of index.\")\n",
    "        user_expects_existence = False\n",
    "    elif sorted_seq != seq:\n",
    "        print(\"Sorted sequence not provided. User expects a search of existence.\")\n",
    "        user_expects_existence = True\n",
    "        \n",
    "    left = 0\n",
    "    right = len(seq) - 1 \n",
    "\n",
    "    while left <= right:\n",
    "        midpoint = (left + right) // 2\n",
    "        midvalue = sorted_seq[midpoint]\n",
    "\n",
    "        if midvalue == search:\n",
    "            # The searched value is the value stored in the\n",
    "            # index 'midpoint', return this index\n",
    "            if user_expects_existence:\n",
    "                return True\n",
    "            \n",
    "            return midpoint\n",
    "            \n",
    "        elif (midvalue > search):\n",
    "            # The searched value, if exists,\n",
    "            # is in the left part of the midpoint\n",
    "            # so change right to midpoint -1 and keep\n",
    "            # left unchanged. Don't include midpoint\n",
    "            # as we have already checked it against the searched value\n",
    "            right = midpoint - 1\n",
    "        else:\n",
    "            # The searched value, if exists,\n",
    "            # is in the right part of the midpoint\n",
    "            # change left to midpoint + 1 and keep right\n",
    "            # unchanged. Don't include midpoint\n",
    "            # as we have already checked it against the searched value\n",
    "            left = midpoint + 1\n",
    "\n",
    "    # Return boolean 'False' to indicate binary search\n",
    "    # algorithm terminated and the searched value is not in the\n",
    "    # provided list of integers\n",
    "\n",
    "    if user_expects_existence:\n",
    "        return False\n",
    "    else:\n",
    "        return \"The searched value doesn't exist in the given list.\"   "
   ]
  },
  {
   "cell_type": "code",
   "execution_count": 9,
   "metadata": {},
   "outputs": [
    {
     "name": "stdout",
     "output_type": "stream",
     "text": [
      "[1, 2, 3, 3, 8, 8, 8, 9, 10, 11, 11, 11, 12, 12, 12, 13, 18, 19, 19, 20, 20, 20, 21, 22, 22, 23, 25, 26, 27, 28, 30, 30, 32, 34, 34, 35, 35, 35, 36, 37, 37, 39, 39, 42, 46, 47, 47, 48, 49, 50, 50, 50, 51, 53, 53, 54, 56, 58, 58, 59, 60, 63, 63, 63, 65, 65, 65, 66, 68, 71, 73, 73, 74, 76, 76, 76, 77, 77, 79, 80, 80, 80, 82, 84, 84, 85, 87, 87, 88, 92, 95, 95, 95, 96, 96, 96, 97, 99, 100, 100]\n",
      "48\n"
     ]
    }
   ],
   "source": [
    "# Test Algorithm (Search of index)\n",
    "\n",
    "import random\n",
    "\n",
    "l = []\n",
    "\n",
    "for _ in range(100):\n",
    "    l.append(random.randint(1, 100))\n",
    "\n",
    "search_value = random.randint(1, 100)\n",
    "\n",
    "l = sorted(l)\n",
    "\n",
    "print(l)\n",
    "print(search_value)"
   ]
  },
  {
   "cell_type": "code",
   "execution_count": 10,
   "metadata": {},
   "outputs": [
    {
     "name": "stdout",
     "output_type": "stream",
     "text": [
      "Sorted sequence provided. User expects a search of index.\n"
     ]
    },
    {
     "data": {
      "text/plain": [
       "47"
      ]
     },
     "execution_count": 10,
     "metadata": {},
     "output_type": "execute_result"
    }
   ],
   "source": [
    "binary_search(l, search_value)"
   ]
  },
  {
   "cell_type": "code",
   "execution_count": 7,
   "metadata": {},
   "outputs": [
    {
     "name": "stdout",
     "output_type": "stream",
     "text": [
      "[62, 16, 47, 96, 52, 11, 43, 86, 80, 34, 73, 53, 22, 3, 11, 83, 63, 98, 91, 90, 85, 78, 100, 60, 91, 96, 73, 54, 43, 90, 58, 96, 65, 71, 41, 51, 87, 4, 14, 29, 15, 47, 60, 42, 34, 58, 43, 90, 20, 78, 66, 34, 72, 82, 6, 22, 23, 43, 66, 85, 91, 96, 98, 96, 80, 100, 26, 58, 13, 82, 63, 86, 80, 36, 37, 2, 13, 19, 91, 39, 62, 2, 1, 59, 68, 65, 65, 67, 30, 80, 41, 39, 18, 37, 13, 67, 10, 100, 69, 56]\n",
      "47\n"
     ]
    }
   ],
   "source": [
    "# Test Algorithm (Search of Existence)\n",
    "\n",
    "import random\n",
    "\n",
    "l = []\n",
    "\n",
    "for _ in range(100):\n",
    "    l.append(random.randint(1, 100))\n",
    "\n",
    "search_value = random.randint(1, 100)\n",
    "\n",
    "print(l)\n",
    "print(search_value)"
   ]
  },
  {
   "cell_type": "code",
   "execution_count": 8,
   "metadata": {},
   "outputs": [
    {
     "name": "stdout",
     "output_type": "stream",
     "text": [
      "Sorted sequence not provided. User expects a search of existence.\n"
     ]
    },
    {
     "data": {
      "text/plain": [
       "True"
      ]
     },
     "execution_count": 8,
     "metadata": {},
     "output_type": "execute_result"
    }
   ],
   "source": [
    "binary_search(l, search_value)"
   ]
  },
  {
   "cell_type": "code",
   "execution_count": 11,
   "metadata": {},
   "outputs": [],
   "source": [
    "def classic_binary_search(seq: list[int], search: int) -> int | None:\n",
    "    left = 0\n",
    "    right = len(seq) - 1\n",
    "\n",
    "    while left <= right:\n",
    "        midpoint = left + (right - left) // 2\n",
    "        current_item = seq[midpoint]\n",
    "        if current_item == search:\n",
    "            return midpoint\n",
    "        elif search < current_item:\n",
    "            right = midpoint - 1\n",
    "        else:\n",
    "            left = midpoint + 1\n",
    "    return None"
   ]
  },
  {
   "cell_type": "code",
   "execution_count": 12,
   "metadata": {},
   "outputs": [],
   "source": [
    "import bisect\n",
    "\n",
    "# Used standard library 'bisect'\n",
    "def performant_binary_search(sorted_seq: list[int], search: int) -> int | None:\n",
    "    index = bisect.bisect_left(sorted_seq, search)\n",
    "    \n",
    "    if index != len(sorted_seq) and sorted_seq[index] == search:\n",
    "        return index\n",
    "    \n",
    "    return None "
   ]
  },
  {
   "cell_type": "code",
   "execution_count": 13,
   "metadata": {},
   "outputs": [
    {
     "name": "stdout",
     "output_type": "stream",
     "text": [
      "[1, 1, 1, 2, 2, 4, 6, 6, 7, 9, 9, 11, 12, 13, 13, 15, 16, 17, 19, 22, 24, 25, 26, 28, 29, 30, 31, 31, 34, 35, 35, 36, 37, 38, 39, 40, 42, 43, 43, 45, 45, 49, 49, 51, 51, 53, 53, 54, 55, 56, 59, 60, 60, 60, 61, 61, 62, 62, 62, 64, 64, 64, 65, 65, 65, 66, 66, 67, 68, 69, 70, 72, 72, 73, 73, 75, 76, 77, 81, 83, 84, 84, 86, 87, 87, 89, 91, 92, 92, 93, 94, 94, 94, 95, 96, 97, 98, 99, 100, 100]\n",
      "99\n"
     ]
    }
   ],
   "source": [
    "# Test Algorithm (Classic Binary Search)\n",
    "\n",
    "import random\n",
    "\n",
    "l = []\n",
    "\n",
    "for _ in range(100):\n",
    "    l.append(random.randint(1, 100))\n",
    "\n",
    "search_value = random.randint(1, 100)\n",
    "\n",
    "l = sorted(l)\n",
    "\n",
    "print(l)\n",
    "print(search_value)"
   ]
  },
  {
   "cell_type": "code",
   "execution_count": 17,
   "metadata": {},
   "outputs": [
    {
     "data": {
      "text/plain": [
       "97"
      ]
     },
     "execution_count": 17,
     "metadata": {},
     "output_type": "execute_result"
    }
   ],
   "source": [
    "classic_binary_search(l, search_value)"
   ]
  },
  {
   "cell_type": "code",
   "execution_count": 18,
   "metadata": {},
   "outputs": [
    {
     "data": {
      "text/plain": [
       "97"
      ]
     },
     "execution_count": 18,
     "metadata": {},
     "output_type": "execute_result"
    }
   ],
   "source": [
    "performant_binary_search(l, search_value)"
   ]
  },
  {
   "cell_type": "code",
   "execution_count": null,
   "metadata": {},
   "outputs": [],
   "source": []
  }
 ],
 "metadata": {
  "kernelspec": {
   "display_name": "deep",
   "language": "python",
   "name": "python3"
  },
  "language_info": {
   "codemirror_mode": {
    "name": "ipython",
    "version": 3
   },
   "file_extension": ".py",
   "mimetype": "text/x-python",
   "name": "python",
   "nbconvert_exporter": "python",
   "pygments_lexer": "ipython3",
   "version": "3.10.8"
  },
  "orig_nbformat": 4,
  "vscode": {
   "interpreter": {
    "hash": "750b0b0bcdd9fe2e206a310bba2895779907b3630475ba10ada1c3aa2da185e2"
   }
  }
 },
 "nbformat": 4,
 "nbformat_minor": 2
}
