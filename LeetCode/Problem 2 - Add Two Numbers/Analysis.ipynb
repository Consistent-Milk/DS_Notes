{
 "cells": [
  {
   "attachments": {},
   "cell_type": "markdown",
   "metadata": {},
   "source": [
    "### Problem Statement"
   ]
  },
  {
   "attachments": {},
   "cell_type": "markdown",
   "metadata": {},
   "source": [
    "You are given two non-empty linked lists representing two non-negative integers. The digits are stored in reverse order, and each of their nodes contains a single digit. Add the two numbers and return the sum as a linked list.\n",
    "\n",
    "You may assume the two numbers do not contain any leading zero, except the number 0 itself."
   ]
  },
  {
   "attachments": {},
   "cell_type": "markdown",
   "metadata": {},
   "source": [
    "### Theory"
   ]
  },
  {
   "attachments": {},
   "cell_type": "markdown",
   "metadata": {},
   "source": [
    "A __Singly Linked List__ is a data structure that can contain data using the concept of Nodes.\n",
    "\n",
    "A node in a singly linked list is itself a data container that contains a stored value of a chosen data type and also contains a __pointer__ to the __memory address__ of the next node in the singly linked list.\n",
    "\n",
    "The simplest type of singly linked list is made by linking one or more nodes. It is called singly linked because the data structure starts with a __pointer__ to the __memory address__ of the __head(The first node of the linked list)__ node and then the next node is accessed by reassigning the __pointer__ to point to the stored __memory address__ in the current node, but once the pointer to the current node is changed to point towards the next node we cannot go back to a previous node. All subsequent nodes are accessed similarly. This allows us to use one way traversal through the list."
   ]
  },
  {
   "attachments": {},
   "cell_type": "markdown",
   "metadata": {},
   "source": [
    "__A rough visualization__\n",
    "\n",
    "Here we describe a singly linked list containing three nodes.\n",
    "\n",
    "Node(1) Storage -> Stored Value (Integer 10) | Memory address of Node(2) \n",
    "Node(2) Storage -> Stored Value (Integer 20) | Memory address of Node(3)\n",
    "Node(3) Storage -> Stored Value (Integer 30) | Stores no memory address, as this is the last node.\n",
    "\n",
    "__Traversal__\n",
    "\n",
    "An iterative loop may be used if the length of the linked list is known, otherwise using a while loop until a node contains no memory address should be used. A pointer variable should be used to point to the memory address of the first node, in this case Node(1), before the loop starts.\n",
    "\n",
    "__First Iteration:__\n",
    "\n",
    "Pointer variable points to the memory address of Node(1)\n",
    "\n",
    "A print statement is used to output the value stored in Node(1)\n",
    "\n",
    "Pointer variable is reassigned to point the memory address of Node(2).\n",
    "\n",
    "__Second Iteration:__\n",
    "\n",
    "Pointer variable points to the memory address of Node(2)\n",
    "\n",
    "A print statement is used to output the value stored in Node(2)\n",
    "\n",
    "Pointer variable is reassigned to point the memory address of Node(3).\n",
    "\n",
    "__Third Iteration:__\n",
    "\n",
    "Pointer variable points to the memory address of Node(3)\n",
    "\n",
    "A print statement is used to output the value stored in Node(3)\n",
    "\n",
    "Iteration stops as Node(3) contains no reference to a memory address."
   ]
  },
  {
   "cell_type": "code",
   "execution_count": 1,
   "metadata": {},
   "outputs": [],
   "source": [
    "# Code for the above visualiztion\n",
    "from __future__ import annotations\n",
    "from typing import Optional\n",
    "\n",
    "# Definition for singly-linked list.\n",
    "class ListNode:\n",
    "    def __init__(self, val: int = 0, next: ListNode | None = None):\n",
    "        self.val = val\n",
    "        self.next = next"
   ]
  },
  {
   "cell_type": "code",
   "execution_count": 21,
   "metadata": {},
   "outputs": [],
   "source": [
    "# Constructing the Linked List\n",
    "\n",
    "# Initialize Node(1)\n",
    "node_1 = ListNode(10)\n",
    "\n",
    "# Initialize Node(2) and store its address in Node(1) \n",
    "node_2 = ListNode(20)\n",
    "node_1.next = node_2\n",
    "\n",
    "# Initialize Node(3) and store its address in Node(2)\n",
    "node_3 = ListNode(30)\n",
    "node_2.next = node_3"
   ]
  },
  {
   "cell_type": "code",
   "execution_count": 23,
   "metadata": {},
   "outputs": [
    {
     "name": "stdout",
     "output_type": "stream",
     "text": [
      "10\n",
      "20\n",
      "30\n"
     ]
    }
   ],
   "source": [
    "pointer_variable = node_1\n",
    "\n",
    "while pointer_variable is not None:\n",
    "    print(pointer_variable.val)\n",
    "    pointer_variable = pointer_variable.next"
   ]
  },
  {
   "attachments": {},
   "cell_type": "markdown",
   "metadata": {},
   "source": [
    "### Solution"
   ]
  }
 ],
 "metadata": {
  "kernelspec": {
   "display_name": "deep",
   "language": "python",
   "name": "python3"
  },
  "language_info": {
   "codemirror_mode": {
    "name": "ipython",
    "version": 3
   },
   "file_extension": ".py",
   "mimetype": "text/x-python",
   "name": "python",
   "nbconvert_exporter": "python",
   "pygments_lexer": "ipython3",
   "version": "3.10.8"
  },
  "orig_nbformat": 4,
  "vscode": {
   "interpreter": {
    "hash": "750b0b0bcdd9fe2e206a310bba2895779907b3630475ba10ada1c3aa2da185e2"
   }
  }
 },
 "nbformat": 4,
 "nbformat_minor": 2
}
