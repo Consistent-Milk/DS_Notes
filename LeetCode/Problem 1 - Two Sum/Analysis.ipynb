{
 "cells": [
  {
   "attachments": {},
   "cell_type": "markdown",
   "metadata": {},
   "source": [
    "__Problem Statement:__\n",
    "\n",
    "Given an array of integers nums and an integer target, return indices of the two numbers such that they add up to target.\n",
    "\n",
    "You may assume that each input would have exactly one solution, and you may not use the same element twice.\n",
    "\n",
    "You can return the answer in any order."
   ]
  },
  {
   "attachments": {},
   "cell_type": "markdown",
   "metadata": {},
   "source": [
    "__Example 1__\n",
    "\n",
    "Input: nums = [2,7,11,15], target = 9\n",
    "\n",
    "Output: [0,1]\n",
    "\n",
    "Explanation: Because nums[0] + nums[1] == 9, we return [0, 1]."
   ]
  },
  {
   "attachments": {},
   "cell_type": "markdown",
   "metadata": {},
   "source": [
    "__Example 2__\n",
    "\n",
    "Input: nums = [3,2,4], target = 6 -> (nums[1] + nums[2])\n",
    "\n",
    "              [0,1,2]\n",
    "Output: [1,2]"
   ]
  },
  {
   "cell_type": "code",
   "execution_count": 2,
   "metadata": {},
   "outputs": [
    {
     "name": "stdout",
     "output_type": "stream",
     "text": [
      "Iteration 1: enumerate(l) returns (0, 10)\n",
      "Iteration 2: enumerate(l) returns (1, 11)\n",
      "Iteration 3: enumerate(l) returns (2, 12)\n",
      "Iteration 4: enumerate(l) returns (3, 13)\n",
      "Iteration 5: enumerate(l) returns (4, 14)\n"
     ]
    }
   ],
   "source": [
    "l = [10, 11, 12, 13, 14]\n",
    "\n",
    "iteration = 1\n",
    "for index, value in enumerate(l):\n",
    "    print(f\"Iteration {iteration}: enumerate(l) returns ({index}, {value})\")\n",
    "    iteration += 1 "
   ]
  },
  {
   "attachments": {},
   "cell_type": "markdown",
   "metadata": {},
   "source": [
    "### Solutions"
   ]
  },
  {
   "attachments": {},
   "cell_type": "markdown",
   "metadata": {},
   "source": [
    "nums = [2, 15, 11, 7]\n",
    "\n",
    "target = 9\n",
    "\n",
    "answer = [0, 1]\n",
    "\n",
    "Algorithm:\n",
    "1. Start iterating over nums\n",
    "2. Use an inside loop to add all numbers one by one except the one used in the outside loop\n",
    "3. Check if any adds up to the result  "
   ]
  },
  {
   "attachments": {},
   "cell_type": "markdown",
   "metadata": {},
   "source": [
    "Python defines scope of statements and variables using indentation.\n",
    "\n",
    "Time complexity and Space complexity are quite advanced topics in Computer Science. "
   ]
  },
  {
   "attachments": {},
   "cell_type": "markdown",
   "metadata": {},
   "source": [
    "Time complexity of Approach 1 is : $O(n^{2})$"
   ]
  },
  {
   "cell_type": "code",
   "execution_count": 3,
   "metadata": {},
   "outputs": [],
   "source": [
    "# Approach 1 : Brute Force Algorithm\n",
    "\n",
    "def twoSumBrute(nums: list[int], target: int) -> list[int] | str:\n",
    "    \n",
    "    for index_1, value_1 in enumerate(nums):\n",
    "        for index_2, value_2 in enumerate(nums):\n",
    "            if index_1 != index_2:\n",
    "                if (value_1 + value_2) == target:\n",
    "                    return [index_1, index_2]\n",
    "                    \n",
    "    return \"No solution was found.\""
   ]
  },
  {
   "cell_type": "code",
   "execution_count": 5,
   "metadata": {},
   "outputs": [
    {
     "data": {
      "text/plain": [
       "'No solution was found.'"
      ]
     },
     "execution_count": 5,
     "metadata": {},
     "output_type": "execute_result"
    }
   ],
   "source": [
    "nums = [2, 19, 11, 10]\n",
    "target = 9\n",
    "\n",
    "twoSumBrute(nums, target)"
   ]
  },
  {
   "cell_type": "code",
   "execution_count": 4,
   "metadata": {},
   "outputs": [
    {
     "data": {
      "text/plain": [
       "[1, 2]"
      ]
     },
     "execution_count": 4,
     "metadata": {},
     "output_type": "execute_result"
    }
   ],
   "source": [
    "nums = [3, 2, 4]\n",
    "target = 6\n",
    "\n",
    "twoSumBrute(nums, target)"
   ]
  },
  {
   "cell_type": "code",
   "execution_count": 9,
   "metadata": {},
   "outputs": [],
   "source": [
    "# Approach 2 : Binary Search\n",
    "# This approach is only better if the provided list of integers is sorted\n",
    "# otherwise we will have to sort the list first, which is expensive"
   ]
  },
  {
   "cell_type": "code",
   "execution_count": 11,
   "metadata": {},
   "outputs": [],
   "source": [
    "test_dict_1 = {\"key_1\": 1, \"key_2\": 2}\n",
    "test_dict_2 = {1: 10, 2: 2}\n",
    "test_dict_3 = {1.3: 1, 1.4: 2}"
   ]
  },
  {
   "cell_type": "code",
   "execution_count": 15,
   "metadata": {},
   "outputs": [],
   "source": [
    "test_dict_1[\"key_3\"] = 3"
   ]
  },
  {
   "cell_type": "code",
   "execution_count": 16,
   "metadata": {},
   "outputs": [
    {
     "data": {
      "text/plain": [
       "3"
      ]
     },
     "execution_count": 16,
     "metadata": {},
     "output_type": "execute_result"
    }
   ],
   "source": [
    "test_dict_1[\"key_3\"]"
   ]
  },
  {
   "cell_type": "code",
   "execution_count": null,
   "metadata": {},
   "outputs": [],
   "source": [
    "nums = [2, 7, 11, 15]"
   ]
  },
  {
   "attachments": {},
   "cell_type": "markdown",
   "metadata": {},
   "source": [
    "{2: 0}\n",
    "\n",
    "9 - 7 = 2 "
   ]
  },
  {
   "cell_type": "code",
   "execution_count": 17,
   "metadata": {},
   "outputs": [],
   "source": [
    "# Approach 3 : Hash Table / Dictionary\n",
    "# This approach is optimal for both sorted and\n",
    "# unsorted versions of the problem \n",
    "# it uses the dictionary core data type\n",
    "# which lets us rapidly look up key-value pairs\n",
    "\n",
    "def twoSumOptimal(nums: list[int], target:int) -> int:\n",
    "    nums_dict = dict()\n",
    "    for index, value in enumerate(nums):\n",
    "        if (target - value) in nums_dict: \n",
    "            return [nums_dict[target - value], index]\n",
    "        nums_dict[value] = index\n",
    "\n",
    "    return [-1, -1]"
   ]
  },
  {
   "cell_type": "code",
   "execution_count": 18,
   "metadata": {},
   "outputs": [
    {
     "data": {
      "text/plain": [
       "[0, 1]"
      ]
     },
     "execution_count": 18,
     "metadata": {},
     "output_type": "execute_result"
    }
   ],
   "source": [
    "nums = [2, 7, 11, 19]\n",
    "target = 9\n",
    "\n",
    "twoSumOptimal(nums, target)"
   ]
  },
  {
   "cell_type": "code",
   "execution_count": 19,
   "metadata": {},
   "outputs": [
    {
     "data": {
      "text/plain": [
       "[1, 2]"
      ]
     },
     "execution_count": 19,
     "metadata": {},
     "output_type": "execute_result"
    }
   ],
   "source": [
    "nums = [3, 2, 4]\n",
    "target = 6\n",
    "\n",
    "twoSumOptimal(nums, target)"
   ]
  },
  {
   "cell_type": "code",
   "execution_count": 20,
   "metadata": {},
   "outputs": [
    {
     "name": "stdout",
     "output_type": "stream",
     "text": [
      "[87, 88, 83, 29, 35, 19, 27, 27, 8, 64, 33, 35, 82, 91, 65, 19, 7, 67, 38, 37, 89, 70, 92, 38, 37, 96, 30, 97, 67, 89, 52, 5, 14, 95, 57, 64, 57, 10, 85, 67, 3, 4, 10, 49, 81, 67, 35, 58, 51, 96, 14, 44, 88, 2, 91, 28, 50, 95, 98, 25, 31, 36, 6, 99, 87, 57, 28, 77, 76, 86, 96, 65, 77, 92, 91, 52, 27, 20, 36, 96, 61, 63, 59, 99, 51, 98, 98, 32, 29, 89, 78, 83, 78, 48, 42, 22, 33, 75, 13, 52]\n",
      "72\n"
     ]
    }
   ],
   "source": [
    "import random\n",
    "\n",
    "l = list()\n",
    "\n",
    "for _ in range(100):\n",
    "    l.append(random.randint(1, 100))\n",
    "\n",
    "searched_item = random.randint(1, 100)\n",
    "\n",
    "print(l)\n",
    "print(searched_item)"
   ]
  },
  {
   "attachments": {},
   "cell_type": "markdown",
   "metadata": {},
   "source": [
    "Binary Search:\n",
    "1. A sorted array of integers is required"
   ]
  },
  {
   "cell_type": "code",
   "execution_count": 21,
   "metadata": {},
   "outputs": [
    {
     "name": "stdout",
     "output_type": "stream",
     "text": [
      "[2, 3, 4, 5, 6, 7, 8, 10, 10, 13, 14, 14, 19, 19, 20, 22, 25, 27, 27, 27, 28, 28, 29, 29, 30, 31, 32, 33, 33, 35, 35, 35, 36, 36, 37, 37, 38, 38, 42, 44, 48, 49, 50, 51, 51, 52, 52, 52, 57, 57, 57, 58, 59, 61, 63, 64, 64, 65, 65, 67, 67, 67, 67, 70, 75, 76, 77, 77, 78, 78, 81, 82, 83, 83, 85, 86, 87, 87, 88, 88, 89, 89, 89, 91, 91, 91, 92, 92, 95, 95, 96, 96, 96, 96, 97, 98, 98, 98, 99, 99]\n"
     ]
    }
   ],
   "source": [
    "l = sorted(l)\n",
    "print(l)"
   ]
  },
  {
   "attachments": {},
   "cell_type": "markdown",
   "metadata": {},
   "source": [
    "1   2   3   5   8   10\n",
    "\n",
    "Search for : 2 \n",
    "\n",
    "Iteration 1 : \n",
    "\n",
    "left = 0 \n",
    "\n",
    "right = 5\n",
    "\n",
    "midindex = (left + right) // 2 = (5 + 0) // 2 = 2\n",
    "\n",
    "midvalue = 3\n",
    "\n",
    "Is midvalue and searched value equal?\n",
    "\n",
    "    True -> Return index of midvalue\n",
    "\n",
    "Is midvalue greater than searched value?\n",
    "\n",
    "    True -> Change right to midindex - 1\n",
    "    \n",
    "    False -> Change left to midindex + 1"
   ]
  },
  {
   "cell_type": "code",
   "execution_count": 22,
   "metadata": {},
   "outputs": [],
   "source": [
    "def binary_search(seq: list[int], search: int) -> int | None:\n",
    "    left = 0\n",
    "    right = len(l) - 1\n",
    "\n",
    "    while left <= right:\n",
    "        midindex = (left + right) // 2\n",
    "        midvalue = seq[midindex]\n",
    "\n",
    "        if midvalue == search:\n",
    "            return midindex\n",
    "        elif midvalue > search:\n",
    "            right = midindex - 1\n",
    "        else:\n",
    "            left = midindex + 1\n",
    "            \n",
    "    return None"
   ]
  },
  {
   "cell_type": "code",
   "execution_count": 23,
   "metadata": {},
   "outputs": [
    {
     "data": {
      "text/plain": [
       "4"
      ]
     },
     "execution_count": 23,
     "metadata": {},
     "output_type": "execute_result"
    }
   ],
   "source": [
    "binary_search(l, 6)"
   ]
  },
  {
   "cell_type": "code",
   "execution_count": null,
   "metadata": {},
   "outputs": [],
   "source": []
  }
 ],
 "metadata": {
  "kernelspec": {
   "display_name": "deep",
   "language": "python",
   "name": "python3"
  },
  "language_info": {
   "codemirror_mode": {
    "name": "ipython",
    "version": 3
   },
   "file_extension": ".py",
   "mimetype": "text/x-python",
   "name": "python",
   "nbconvert_exporter": "python",
   "pygments_lexer": "ipython3",
   "version": "3.10.8 | packaged by conda-forge | (main, Nov 24 2022, 14:07:00) [MSC v.1916 64 bit (AMD64)]"
  },
  "orig_nbformat": 4,
  "vscode": {
   "interpreter": {
    "hash": "750b0b0bcdd9fe2e206a310bba2895779907b3630475ba10ada1c3aa2da185e2"
   }
  }
 },
 "nbformat": 4,
 "nbformat_minor": 2
}
