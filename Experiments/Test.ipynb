{
 "cells": [
  {
   "cell_type": "code",
   "execution_count": 1,
   "metadata": {},
   "outputs": [
    {
     "ename": "",
     "evalue": "",
     "output_type": "error",
     "traceback": [
      "\u001b[1;31mThe Kernel crashed while executing code in the the current cell or a previous cell. Please review the code in the cell(s) to identify a possible cause of the failure. Click <a href='https://aka.ms/vscodeJupyterKernelCrash'>here</a> for more info. View Jupyter <a href='command:jupyter.viewOutput'>log</a> for further details."
     ]
    }
   ],
   "source": [
    "import turtle\n",
    "import random\n",
    "colors = [\"red\", \"green\", \"blue\", \"yellow\", \"orange\", \"black\", \"purple\"]\n",
    "wn = turtle.Screen()\n",
    "wn.bgcolor(\"white\")\n",
    "wn.title(\"Turtle\")\n",
    "t = turtle.Turtle()\n",
    "\n",
    "t.pendown()\n",
    "for i in range(100):\n",
    "    x = random.randint(-100, 100)\n",
    "    y  = random.randint(-100, 100)\n",
    "    t.setposition(x, y)\n",
    "    temp_color = random.randint(0, len(colors)-1)\n",
    "    t.dot(colors[temp_color])"
   ]
  },
  {
   "cell_type": "code",
   "execution_count": 1,
   "metadata": {},
   "outputs": [
    {
     "ename": "",
     "evalue": "",
     "output_type": "error",
     "traceback": [
      "\u001b[1;31mThe Kernel crashed while executing code in the the current cell or a previous cell. Please review the code in the cell(s) to identify a possible cause of the failure. Click <a href='https://aka.ms/vscodeJupyterKernelCrash'>here</a> for more info. View Jupyter <a href='command:jupyter.viewOutput'>log</a> for further details."
     ]
    }
   ],
   "source": [
    "# Python program to draw\n",
    "# Spiral Square Outside In and Inside Out\n",
    "# using Turtle Programming\n",
    "\n",
    "import turtle  \n",
    "\n",
    "wn = turtle.Screen()\n",
    "wn.bgcolor(\"light green\")\n",
    "wn.title(\"Turtle\")\n",
    "skk = turtle.Turtle()\n",
    "skk.color(\"blue\")\n",
    " \n",
    "def sqrfunc(size):\n",
    "    for i in range(4):\n",
    "        skk.fd(size)\n",
    "        skk.left(90)\n",
    "        size = size-5\n",
    " \n",
    "sqrfunc(146)\n",
    "sqrfunc(126)\n",
    "sqrfunc(106)\n",
    "sqrfunc(86)\n",
    "sqrfunc(66)\n",
    "sqrfunc(46)\n",
    "sqrfunc(26)"
   ]
  },
  {
   "cell_type": "code",
   "execution_count": 2,
   "metadata": {},
   "outputs": [
    {
     "ename": "TclError",
     "evalue": "invalid command name \".!canvas\"",
     "output_type": "error",
     "traceback": [
      "\u001b[1;31m---------------------------------------------------------------------------\u001b[0m",
      "\u001b[1;31mTclError\u001b[0m                                  Traceback (most recent call last)",
      "Cell \u001b[1;32mIn [2], line 11\u001b[0m\n\u001b[0;32m      9\u001b[0m t\u001b[39m.\u001b[39mpencolor(colors[x\u001b[39m%\u001b[39m\u001b[39m6\u001b[39m])\n\u001b[0;32m     10\u001b[0m t\u001b[39m.\u001b[39mwidth(x\u001b[39m/\u001b[39m\u001b[39m/\u001b[39m\u001b[39m100\u001b[39m \u001b[39m+\u001b[39m \u001b[39m1\u001b[39m)\n\u001b[1;32m---> 11\u001b[0m t\u001b[39m.\u001b[39;49mforward(x)\n\u001b[0;32m     12\u001b[0m t\u001b[39m.\u001b[39mleft(\u001b[39m59\u001b[39m)\n",
      "File \u001b[1;32mc:\\Users\\Saad\\miniconda3\\envs\\deep\\lib\\turtle.py:1637\u001b[0m, in \u001b[0;36mTNavigator.forward\u001b[1;34m(self, distance)\u001b[0m\n\u001b[0;32m   1616\u001b[0m \u001b[39mdef\u001b[39;00m \u001b[39mforward\u001b[39m(\u001b[39mself\u001b[39m, distance):\n\u001b[0;32m   1617\u001b[0m     \u001b[39m\"\"\"Move the turtle forward by the specified distance.\u001b[39;00m\n\u001b[0;32m   1618\u001b[0m \n\u001b[0;32m   1619\u001b[0m \u001b[39m    Aliases: forward | fd\u001b[39;00m\n\u001b[1;32m   (...)\u001b[0m\n\u001b[0;32m   1635\u001b[0m \u001b[39m    (-50.00,0.00)\u001b[39;00m\n\u001b[0;32m   1636\u001b[0m \u001b[39m    \"\"\"\u001b[39;00m\n\u001b[1;32m-> 1637\u001b[0m     \u001b[39mself\u001b[39;49m\u001b[39m.\u001b[39;49m_go(distance)\n",
      "File \u001b[1;32mc:\\Users\\Saad\\miniconda3\\envs\\deep\\lib\\turtle.py:1605\u001b[0m, in \u001b[0;36mTNavigator._go\u001b[1;34m(self, distance)\u001b[0m\n\u001b[0;32m   1603\u001b[0m \u001b[39m\"\"\"move turtle forward by specified distance\"\"\"\u001b[39;00m\n\u001b[0;32m   1604\u001b[0m ende \u001b[39m=\u001b[39m \u001b[39mself\u001b[39m\u001b[39m.\u001b[39m_position \u001b[39m+\u001b[39m \u001b[39mself\u001b[39m\u001b[39m.\u001b[39m_orient \u001b[39m*\u001b[39m distance\n\u001b[1;32m-> 1605\u001b[0m \u001b[39mself\u001b[39;49m\u001b[39m.\u001b[39;49m_goto(ende)\n",
      "File \u001b[1;32mc:\\Users\\Saad\\miniconda3\\envs\\deep\\lib\\turtle.py:3177\u001b[0m, in \u001b[0;36mRawTurtle._goto\u001b[1;34m(self, end)\u001b[0m\n\u001b[0;32m   3175\u001b[0m     \u001b[39mself\u001b[39m\u001b[39m.\u001b[39m_position \u001b[39m=\u001b[39m start \u001b[39m+\u001b[39m delta \u001b[39m*\u001b[39m n\n\u001b[0;32m   3176\u001b[0m     \u001b[39mif\u001b[39;00m \u001b[39mself\u001b[39m\u001b[39m.\u001b[39m_drawing:\n\u001b[1;32m-> 3177\u001b[0m         screen\u001b[39m.\u001b[39;49m_drawline(\u001b[39mself\u001b[39;49m\u001b[39m.\u001b[39;49mdrawingLineItem,\n\u001b[0;32m   3178\u001b[0m                          (start, \u001b[39mself\u001b[39;49m\u001b[39m.\u001b[39;49m_position),\n\u001b[0;32m   3179\u001b[0m                          \u001b[39mself\u001b[39;49m\u001b[39m.\u001b[39;49m_pencolor, \u001b[39mself\u001b[39;49m\u001b[39m.\u001b[39;49m_pensize, top)\n\u001b[0;32m   3180\u001b[0m     \u001b[39mself\u001b[39m\u001b[39m.\u001b[39m_update()\n\u001b[0;32m   3181\u001b[0m \u001b[39mif\u001b[39;00m \u001b[39mself\u001b[39m\u001b[39m.\u001b[39m_drawing:\n",
      "File \u001b[1;32mc:\\Users\\Saad\\miniconda3\\envs\\deep\\lib\\turtle.py:544\u001b[0m, in \u001b[0;36mTurtleScreenBase._drawline\u001b[1;34m(self, lineitem, coordlist, fill, width, top)\u001b[0m\n\u001b[0;32m    542\u001b[0m         cl\u001b[39m.\u001b[39mappend(x \u001b[39m*\u001b[39m \u001b[39mself\u001b[39m\u001b[39m.\u001b[39mxscale)\n\u001b[0;32m    543\u001b[0m         cl\u001b[39m.\u001b[39mappend(\u001b[39m-\u001b[39my \u001b[39m*\u001b[39m \u001b[39mself\u001b[39m\u001b[39m.\u001b[39myscale)\n\u001b[1;32m--> 544\u001b[0m     \u001b[39mself\u001b[39;49m\u001b[39m.\u001b[39;49mcv\u001b[39m.\u001b[39;49mcoords(lineitem, \u001b[39m*\u001b[39;49mcl)\n\u001b[0;32m    545\u001b[0m \u001b[39mif\u001b[39;00m fill \u001b[39mis\u001b[39;00m \u001b[39mnot\u001b[39;00m \u001b[39mNone\u001b[39;00m:\n\u001b[0;32m    546\u001b[0m     \u001b[39mself\u001b[39m\u001b[39m.\u001b[39mcv\u001b[39m.\u001b[39mitemconfigure(lineitem, fill\u001b[39m=\u001b[39mfill)\n",
      "File \u001b[1;32m<string>:1\u001b[0m, in \u001b[0;36mcoords\u001b[1;34m(self, *args, **kw)\u001b[0m\n",
      "File \u001b[1;32mc:\\Users\\Saad\\miniconda3\\envs\\deep\\lib\\tkinter\\__init__.py:2795\u001b[0m, in \u001b[0;36mCanvas.coords\u001b[1;34m(self, *args)\u001b[0m\n\u001b[0;32m   2791\u001b[0m \u001b[39m\"\"\"Return a list of coordinates for the item given in ARGS.\"\"\"\u001b[39;00m\n\u001b[0;32m   2792\u001b[0m \u001b[39m# XXX Should use _flatten on args\u001b[39;00m\n\u001b[0;32m   2793\u001b[0m \u001b[39mreturn\u001b[39;00m [\u001b[39mself\u001b[39m\u001b[39m.\u001b[39mtk\u001b[39m.\u001b[39mgetdouble(x) \u001b[39mfor\u001b[39;00m x \u001b[39min\u001b[39;00m\n\u001b[0;32m   2794\u001b[0m                    \u001b[39mself\u001b[39m\u001b[39m.\u001b[39mtk\u001b[39m.\u001b[39msplitlist(\n\u001b[1;32m-> 2795\u001b[0m            \u001b[39mself\u001b[39;49m\u001b[39m.\u001b[39;49mtk\u001b[39m.\u001b[39;49mcall((\u001b[39mself\u001b[39;49m\u001b[39m.\u001b[39;49m_w, \u001b[39m'\u001b[39;49m\u001b[39mcoords\u001b[39;49m\u001b[39m'\u001b[39;49m) \u001b[39m+\u001b[39;49m args))]\n",
      "\u001b[1;31mTclError\u001b[0m: invalid command name \".!canvas\""
     ]
    }
   ],
   "source": [
    "# Python program to draw\n",
    "# Rainbow Benzene\n",
    "# using Turtle Programming\n",
    "import turtle\n",
    "colors = ['red', 'purple', 'blue', 'green', 'orange', 'yellow']\n",
    "t = turtle.Pen()\n",
    "turtle.bgcolor('black')\n",
    "for x in range(360):\n",
    "    t.pencolor(colors[x%6])\n",
    "    t.width(x//100 + 1)\n",
    "    t.forward(x)\n",
    "    t.left(59)"
   ]
  },
  {
   "cell_type": "code",
   "execution_count": null,
   "metadata": {},
   "outputs": [],
   "source": []
  }
 ],
 "metadata": {
  "kernelspec": {
   "display_name": "deep",
   "language": "python",
   "name": "python3"
  },
  "language_info": {
   "codemirror_mode": {
    "name": "ipython",
    "version": 3
   },
   "file_extension": ".py",
   "mimetype": "text/x-python",
   "name": "python",
   "nbconvert_exporter": "python",
   "pygments_lexer": "ipython3",
   "version": "3.10.8"
  },
  "orig_nbformat": 4,
  "vscode": {
   "interpreter": {
    "hash": "750b0b0bcdd9fe2e206a310bba2895779907b3630475ba10ada1c3aa2da185e2"
   }
  }
 },
 "nbformat": 4,
 "nbformat_minor": 2
}
