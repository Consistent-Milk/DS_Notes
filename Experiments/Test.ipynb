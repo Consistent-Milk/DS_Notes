{
 "cells": [
  {
   "cell_type": "code",
   "execution_count": 1,
   "metadata": {},
   "outputs": [
    {
     "ename": "",
     "evalue": "",
     "output_type": "error",
     "traceback": [
      "\u001b[1;31mThe Kernel crashed while executing code in the the current cell or a previous cell. Please review the code in the cell(s) to identify a possible cause of the failure. Click <a href='https://aka.ms/vscodeJupyterKernelCrash'>here</a> for more info. View Jupyter <a href='command:jupyter.viewOutput'>log</a> for further details."
     ]
    }
   ],
   "source": [
    "# No crashes in .py file\n",
    "# but turtle module crashes .ipynb kernels\n",
    "# So never run turtle module programs in a notebook\n",
    "\n",
    "import turtle\n",
    "import random\n",
    "colors = [\"red\", \"green\", \"blue\", \"yellow\", \"orange\", \"black\", \"purple\"]\n",
    "wn = turtle.Screen()\n",
    "wn.bgcolor(\"white\")\n",
    "wn.title(\"Turtle\")\n",
    "t = turtle.Turtle()\n",
    "\n",
    "t.pendown()\n",
    "for i in range(10):\n",
    "    x = random.randint(-100, 100)\n",
    "    y = random.randint(-100, 100)\n",
    "    t.setposition(x, y)\n",
    "    temp_color = random.randint(0, len(colors)-1)\n",
    "    t.dot(colors[temp_color])"
   ]
  },
  {
   "cell_type": "code",
   "execution_count": null,
   "metadata": {},
   "outputs": [],
   "source": []
  }
 ],
 "metadata": {
  "kernelspec": {
   "display_name": "Python 3",
   "language": "python",
   "name": "python3"
  },
  "language_info": {
   "codemirror_mode": {
    "name": "ipython",
    "version": 3
   },
   "file_extension": ".py",
   "mimetype": "text/x-python",
   "name": "python",
   "nbconvert_exporter": "python",
   "pygments_lexer": "ipython3",
   "version": "3.10.8"
  },
  "orig_nbformat": 4,
  "vscode": {
   "interpreter": {
    "hash": "1a5e33d16fbcdc6c21b3bacbcef671513bf689805a905ed7069aa753e1a4a968"
   }
  }
 },
 "nbformat": 4,
 "nbformat_minor": 2
}
