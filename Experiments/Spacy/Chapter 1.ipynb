{
 "cells": [
  {
   "attachments": {},
   "cell_type": "markdown",
   "metadata": {},
   "source": [
    "Reference : https://course.spacy.io/en/chapter1"
   ]
  },
  {
   "attachments": {},
   "cell_type": "markdown",
   "metadata": {},
   "source": [
    "conda install spacy --channel conda-forge\n",
    "python -m spacy download en_core_web_sm "
   ]
  },
  {
   "cell_type": "code",
   "execution_count": 1,
   "metadata": {},
   "outputs": [
    {
     "name": "stdout",
     "output_type": "stream",
     "text": [
      "This is a sentence.\n"
     ]
    }
   ],
   "source": [
    "# C1 - E2\n",
    "\n",
    "import spacy\n",
    "\n",
    "nlp = spacy.blank(\"en\")\n",
    "\n",
    "doc = nlp(\"This is a sentence.\")\n",
    "\n",
    "print(doc.text)"
   ]
  },
  {
   "attachments": {},
   "cell_type": "markdown",
   "metadata": {},
   "source": [
    "Here 'nlp' is a blank \"en\"(Language) object. Passing a string object to 'nlp' returns a Doc object. "
   ]
  },
  {
   "cell_type": "code",
   "execution_count": 2,
   "metadata": {},
   "outputs": [
    {
     "name": "stdout",
     "output_type": "stream",
     "text": [
      "nlp is an object of: <class 'spacy.lang.en.English'>\n",
      "doc is an object of: <class 'spacy.tokens.doc.Doc'>\n",
      "first_token is an object of: <class 'spacy.tokens.token.Token'>\n",
      "I\n",
      "first_token.text is an object of: <class 'str'>\n",
      "tree kangaroos\n",
      "tree kangaroos and narwhals\n"
     ]
    },
    {
     "data": {
      "text/plain": [
       "7"
      ]
     },
     "execution_count": 2,
     "metadata": {},
     "output_type": "execute_result"
    }
   ],
   "source": [
    "# C1 - E3\n",
    "# Import spaCy and create the English nlp object\n",
    "import spacy\n",
    "\n",
    "nlp = spacy.blank(\"en\")\n",
    "print(f\"nlp is an object of: {type(nlp)}\")\n",
    "\n",
    "# Process the text\n",
    "doc = nlp(\"I like tree kangaroos and narwhals.\")\n",
    "print(f\"doc is an object of: {type(doc)}\")\n",
    "\n",
    "# Select the first token\n",
    "first_token = doc[0]\n",
    "print(f\"first_token is an object of: {type(first_token)}\")\n",
    "\n",
    "# Print the first token's text\n",
    "print(first_token.text)\n",
    "print(f\"first_token.text is an object of: {type(first_token.text)}\")\n",
    "\n",
    "# A slice of the Doc for \"tree kangaroos\"\n",
    "tree_kangaroos = doc[2:4]\n",
    "print(tree_kangaroos.text)\n",
    "\n",
    "# A slice of the Doc for \"tree kangaroos and narwhals\" (without the \".\")\n",
    "tree_kangaroos_and_narwhals = doc[2:6]\n",
    "print(tree_kangaroos_and_narwhals.text)\n",
    "\n",
    "len(doc)"
   ]
  },
  {
   "cell_type": "code",
   "execution_count": 8,
   "metadata": {},
   "outputs": [],
   "source": [
    "string_object = \"I love Bangladesh.\"\n",
    "\n",
    "nlp = spacy.load(\"en_core_web_sm\")\n",
    "\n",
    "doc = nlp(string_object)"
   ]
  },
  {
   "attachments": {},
   "cell_type": "markdown",
   "metadata": {},
   "source": [
    "A Doc object, processes a string object and runs several analytical components on it and attaches various metadata on the various parts of the string object by tokenizing it."
   ]
  },
  {
   "cell_type": "code",
   "execution_count": 14,
   "metadata": {},
   "outputs": [
    {
     "name": "stdout",
     "output_type": "stream",
     "text": [
      "I            | PRON        \n",
      "love         | VERB        \n",
      "Bangladesh   | PROPN       \n",
      ".            | PUNCT       \n",
      "\n",
      "Bangladesh   | GPE         \n"
     ]
    }
   ],
   "source": [
    "# GPE = Geopolitical Entity\n",
    "\n",
    "for token in doc:\n",
    "    print(f\"{token.text:<12} | {token.pos_:<12}\")\n",
    "\n",
    "for ent in doc.ents:\n",
    "    print(f\"\\n{ent.text:<12} | {ent.label_:<12}\")\n"
   ]
  },
  {
   "cell_type": "code",
   "execution_count": 8,
   "metadata": {},
   "outputs": [
    {
     "name": "stdout",
     "output_type": "stream",
     "text": [
      "Percentage found: 60\n",
      "Percentage found: 4\n"
     ]
    }
   ],
   "source": [
    "# C1 - E4\n",
    "\n",
    "import spacy\n",
    "\n",
    "nlp = spacy.blank(\"en\")\n",
    "\n",
    "# Process the text\n",
    "doc = nlp(\n",
    "    \"In 1990, more than 60% of people in East Asia were in extreme poverty. \"\n",
    "    \"Now less than 4% are.\"\n",
    ")\n",
    "\n",
    "# Iterate over the tokens in the doc\n",
    "for token in doc:\n",
    "    # Check if the token resembles a number\n",
    "    if token.like_num:\n",
    "        # Get the next token in the document\n",
    "        next_token = doc[token.i + 1]\n",
    "        # Check if the next token's text equals \"%\"\n",
    "        if next_token.text == \"%\":\n",
    "            print(\"Percentage found:\", token.text)"
   ]
  },
  {
   "cell_type": "code",
   "execution_count": 10,
   "metadata": {},
   "outputs": [
    {
     "name": "stdout",
     "output_type": "stream",
     "text": [
      "nlp is an object of: <class 'spacy.lang.en.English'>\n",
      "\n",
      "doc is an object of: <class 'spacy.tokens.doc.Doc'>\n",
      "\n",
      "doc.text-> It’s official: Apple is the first U.S. public company to reach a $1 trillion market value\n",
      "\n",
      "doc.text is an object of: <class 'str'>\n"
     ]
    }
   ],
   "source": [
    "# C1 - E7\n",
    "import spacy\n",
    "\n",
    "# Load the en_core_web_sm trained pipeline\n",
    "nlp = spacy.load(\"en_core_web_sm\")\n",
    "print(f\"nlp is an object of: {type(nlp)}\\n\")\n",
    "\n",
    "text = \"It’s official: Apple is the first U.S. public company to reach a $1 trillion market value\"\n",
    "\n",
    "doc = nlp(text)\n",
    "print(f\"doc is an object of: {type(doc)}\\n\")\n",
    "\n",
    "print(f\"doc.text-> {doc.text}\\n\")\n",
    "print(f\"doc.text is an object of: {type(doc.text)}\")"
   ]
  },
  {
   "cell_type": "code",
   "execution_count": 15,
   "metadata": {},
   "outputs": [
    {
     "name": "stdout",
     "output_type": "stream",
     "text": [
      "Text        PartOfSpeech  Dependency\n",
      "----        ------------  ----------\n",
      "It          PRON          nsubj     \n",
      "’s          VERB          ROOT      \n",
      "official    ADJ           acomp     \n",
      ":           PUNCT         punct     \n",
      "Apple       PROPN         nsubj     \n",
      "is          AUX           ROOT      \n",
      "the         DET           det       \n",
      "first       ADJ           amod      \n",
      "U.S.        PROPN         nmod      \n",
      "public      ADJ           amod      \n",
      "company     NOUN          attr      \n",
      "to          PART          aux       \n",
      "reach       VERB          relcl     \n",
      "a           DET           det       \n",
      "$           SYM           quantmod  \n",
      "1           NUM           compound  \n",
      "trillion    NUM           nummod    \n",
      "market      NOUN          compound  \n",
      "value       NOUN          dobj      \n"
     ]
    }
   ],
   "source": [
    "# C1 - E8 - P1\n",
    "\n",
    "import spacy\n",
    "\n",
    "nlp = spacy.load(\"en_core_web_sm\")\n",
    "\n",
    "text = \"It’s official: Apple is the first U.S. public company to reach a $1 trillion market value\"\n",
    "\n",
    "# Process the text\n",
    "doc = nlp(text)\n",
    "\n",
    "print(f\"{'Text':<12}{'PartOfSpeech':<14}{'Dependency':<10}\")\n",
    "print(f\"{'----':<12}{'------------':<14}{'----------':<10}\")\n",
    "for token in doc:\n",
    "    # Get the token text, part-of-speech tag and dependency label\n",
    "    token_text = token.text\n",
    "    token_pos = token.pos_\n",
    "    token_dep = token.dep_\n",
    "    # This is for formatting only\n",
    "    # (<12 - This means assign 12 character 'slots' for this variable when printing,\n",
    "    # the variable takes less than 12 characters to print populate the empty slots\n",
    "    # with whitespace)\n",
    "    print(f\"{token_text:<12}{token_pos:<14}{token_dep:<10}\")"
   ]
  },
  {
   "cell_type": "code",
   "execution_count": 21,
   "metadata": {},
   "outputs": [
    {
     "name": "stdout",
     "output_type": "stream",
     "text": [
      "It           | PRON        \n",
      "’s           | VERB        \n",
      "official     | ADJ         \n",
      ":            | PUNCT       \n",
      "Apple        | PROPN       \n",
      "is           | AUX         \n",
      "the          | DET         \n",
      "first        | ADJ         \n",
      "U.S.         | PROPN       \n",
      "public       | ADJ         \n",
      "company      | NOUN        \n",
      "to           | PART        \n",
      "reach        | VERB        \n",
      "a            | DET         \n",
      "1            | NUM         \n",
      "trillion     | NUM         \n",
      "market       | NOUN        \n",
      "value        | NOUN        \n",
      "Apple ORG\n",
      "first ORDINAL\n",
      "U.S. GPE\n",
      "1 trillion CARDINAL\n",
      "I            | PRON        \n",
      "Love         | VERB        \n",
      "Apple        | PROPN       \n"
     ]
    }
   ],
   "source": [
    "# C1 - E8 - P2\n",
    "import spacy\n",
    "\n",
    "nlp = spacy.load(\"en_core_web_sm\")\n",
    "\n",
    "text_1 = \"It’s official: Apple is the first U.S. public company to reach a 1 trillion market value\"\n",
    "\n",
    "text_2 = \"I Love Apple\"\n",
    "\n",
    "# Process the text\n",
    "doc_1 = nlp(text_1)\n",
    "doc_2 = nlp(text_2)\n",
    "\n",
    "# Iterate over the predicted entities\n",
    "for token in doc_1:\n",
    "    print(f\"{token.text:<12} | {token.pos_:<12}\")\n",
    "\n",
    "for ent in doc_1.ents:\n",
    "    # Print the entity text and its label\n",
    "    print(ent.text, ent.label_)\n",
    "\n",
    "for token in doc_2:\n",
    "    print(f\"{token.text:<12} | {token.pos_:<12}\")\n",
    "\n",
    "for ent in doc_2.ents:\n",
    "    # Print the entity text and its label\n",
    "    print(ent.text, ent.label_)"
   ]
  },
  {
   "cell_type": "code",
   "execution_count": 17,
   "metadata": {},
   "outputs": [
    {
     "name": "stdout",
     "output_type": "stream",
     "text": [
      "Apple ORG\n",
      "Missing entity: iPhone X\n"
     ]
    }
   ],
   "source": [
    "# C1-E9\n",
    "\n",
    "import spacy\n",
    "\n",
    "nlp = spacy.load(\"en_core_web_sm\")\n",
    "\n",
    "text = \"Upcoming iPhone X release date leaked as Apple reveals pre-orders\"\n",
    "\n",
    "# Process the text\n",
    "doc = nlp(text)\n",
    "\n",
    "# Iterate over the entities\n",
    "for ent in doc.ents:\n",
    "    # Print the entity text and label\n",
    "    print(ent.text, ent.label_)\n",
    "\n",
    "# Get the span for \"iPhone X\"\n",
    "iphone_x = doc[1:3]\n",
    "\n",
    "# Print the span text\n",
    "print(\"Missing entity:\", iphone_x.text)"
   ]
  },
  {
   "cell_type": "code",
   "execution_count": 18,
   "metadata": {},
   "outputs": [
    {
     "name": "stdout",
     "output_type": "stream",
     "text": [
      "Matches: ['iPhone X']\n"
     ]
    }
   ],
   "source": [
    "# C1 - E11\n",
    "\n",
    "import spacy\n",
    "\n",
    "# Import the Matcher\n",
    "from spacy.matcher import Matcher\n",
    "\n",
    "nlp = spacy.load(\"en_core_web_sm\")\n",
    "doc = nlp(\"Upcoming iPhone X release date leaked as Apple reveals pre-orders\")\n",
    "\n",
    "# Initialize the Matcher with the shared vocabulary\n",
    "matcher = Matcher(nlp.vocab)\n",
    "\n",
    "# Create a pattern matching two tokens: \"iPhone\" and \"X\"\n",
    "pattern = [{\"TEXT\": \"iPhone\"}, {\"TEXT\": \"X\"}]\n",
    "\n",
    "# Add the pattern to the matcher\n",
    "matcher.add(\"IPHONE_X_PATTERN\", [pattern])\n",
    "\n",
    "# Use the matcher on the doc\n",
    "matches = matcher(doc)\n",
    "print(\"Matches:\", [doc[start:end].text for match_id, start, end in matches])"
   ]
  },
  {
   "cell_type": "code",
   "execution_count": 19,
   "metadata": {},
   "outputs": [
    {
     "name": "stdout",
     "output_type": "stream",
     "text": [
      "Total matches found: 3\n",
      "Match found: iOS 7\n",
      "Match found: iOS 11\n",
      "Match found: iOS 10\n"
     ]
    }
   ],
   "source": [
    "# C1 - E12 - P1\n",
    "\n",
    "import spacy\n",
    "from spacy.matcher import Matcher\n",
    "\n",
    "nlp = spacy.load(\"en_core_web_sm\")\n",
    "matcher = Matcher(nlp.vocab)\n",
    "\n",
    "doc = nlp(\n",
    "    \"After making the iOS update you won't notice a radical system-wide \"\n",
    "    \"redesign: nothing like the aesthetic upheaval we got with iOS 7. Most of \"\n",
    "    \"iOS 11's furniture remains the same as in iOS 10. But you will discover \"\n",
    "    \"some tweaks once you delve a little deeper.\"\n",
    ")\n",
    "\n",
    "# Write a pattern for full iOS versions (\"iOS 7\", \"iOS 11\", \"iOS 10\")\n",
    "pattern = [{\"TEXT\": \"iOS\"}, {\"IS_DIGIT\": True}]\n",
    "\n",
    "# Add the pattern to the matcher and apply the matcher to the doc\n",
    "matcher.add(\"IOS_VERSION_PATTERN\", [pattern])\n",
    "matches = matcher(doc)\n",
    "print(\"Total matches found:\", len(matches))\n",
    "\n",
    "# Iterate over the matches and print the span text\n",
    "for match_id, start, end in matches:\n",
    "    print(\"Match found:\", doc[start:end].text)"
   ]
  },
  {
   "cell_type": "code",
   "execution_count": 20,
   "metadata": {},
   "outputs": [
    {
     "name": "stdout",
     "output_type": "stream",
     "text": [
      "Total matches found: 3\n",
      "Match found: downloaded Fortnite\n",
      "Match found: downloading Minecraft\n",
      "Match found: download Winzip\n"
     ]
    }
   ],
   "source": [
    "# C1 - E12 - P2\n",
    "\n",
    "import spacy\n",
    "from spacy.matcher import Matcher\n",
    "\n",
    "nlp = spacy.load(\"en_core_web_sm\")\n",
    "matcher = Matcher(nlp.vocab)\n",
    "\n",
    "doc = nlp(\n",
    "    \"i downloaded Fortnite on my laptop and can't open the game at all. Help? \"\n",
    "    \"so when I was downloading Minecraft, I got the Windows version where it \"\n",
    "    \"is the '.zip' folder and I used the default program to unpack it... do \"\n",
    "    \"I also need to download Winzip?\"\n",
    ")\n",
    "\n",
    "# Write a pattern that matches a form of \"download\" plus proper noun\n",
    "pattern = [{\"LEMMA\": \"download\"}, {\"POS\": \"PROPN\"}]\n",
    "\n",
    "# Add the pattern to the matcher and apply the matcher to the doc\n",
    "matcher.add(\"DOWNLOAD_THINGS_PATTERN\", [pattern])\n",
    "matches = matcher(doc)\n",
    "print(\"Total matches found:\", len(matches))\n",
    "\n",
    "# Iterate over the matches and print the span text\n",
    "for match_id, start, end in matches:\n",
    "    print(\"Match found:\", doc[start:end].text)"
   ]
  },
  {
   "cell_type": "code",
   "execution_count": 22,
   "metadata": {},
   "outputs": [
    {
     "name": "stdout",
     "output_type": "stream",
     "text": [
      "Total matches found: 5\n",
      "Match found: beautiful design\n",
      "Match found: smart search\n",
      "Match found: automatic labels\n",
      "Match found: optional voice\n",
      "Match found: optional voice responses\n"
     ]
    }
   ],
   "source": [
    "# C1 - E12 - P3\n",
    "\n",
    "import spacy\n",
    "from spacy.matcher import Matcher\n",
    "\n",
    "nlp = spacy.load(\"en_core_web_sm\")\n",
    "matcher = Matcher(nlp.vocab)\n",
    "\n",
    "doc = nlp(\n",
    "    \"Features of the app include a beautiful design, smart search, automatic \"\n",
    "    \"labels and optional voice responses.\"\n",
    ")\n",
    "\n",
    "# Write a pattern for adjective plus one or two nouns\n",
    "pattern = [{\"POS\": \"ADJ\"}, {\"POS\": \"NOUN\"}, {\"POS\": \"NOUN\", \"OP\": \"?\"}]\n",
    "\n",
    "# Add the pattern to the matcher and apply the matcher to the doc\n",
    "matcher.add(\"ADJ_NOUN_PATTERN\", [pattern])\n",
    "matches = matcher(doc)\n",
    "print(\"Total matches found:\", len(matches))\n",
    "\n",
    "# Iterate over the matches and print the span text\n",
    "for match_id, start, end in matches:\n",
    "    print(\"Match found:\", doc[start:end].text)"
   ]
  },
  {
   "cell_type": "code",
   "execution_count": null,
   "metadata": {},
   "outputs": [],
   "source": []
  }
 ],
 "metadata": {
  "kernelspec": {
   "display_name": "nlp",
   "language": "python",
   "name": "python3"
  },
  "language_info": {
   "codemirror_mode": {
    "name": "ipython",
    "version": 3
   },
   "file_extension": ".py",
   "mimetype": "text/x-python",
   "name": "python",
   "nbconvert_exporter": "python",
   "pygments_lexer": "ipython3",
   "version": "3.10.8 | packaged by conda-forge | (main, Nov 22 2022, 08:16:33) [MSC v.1929 64 bit (AMD64)]"
  },
  "orig_nbformat": 4,
  "vscode": {
   "interpreter": {
    "hash": "1ebb7e558e7ed008a3dcfdee2b5ca375dec2770e0bacf690df687f28ca14f162"
   }
  }
 },
 "nbformat": 4,
 "nbformat_minor": 2
}
