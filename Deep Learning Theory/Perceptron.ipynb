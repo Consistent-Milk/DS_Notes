{
 "cells": [
  {
   "attachments": {},
   "cell_type": "markdown",
   "metadata": {},
   "source": [
    "### Section 1 : Biological Motivations"
   ]
  },
  {
   "attachments": {},
   "cell_type": "markdown",
   "metadata": {},
   "source": [
    "__Reference Text: Machine Learning with PyTorch and Scikit-Learn__\n",
    "\n",
    "The Perceptron is a basic deep learning model. The algorithm for a Perceptron is partially inspired by how biological neurons function.\n",
    "\n",
    "One of the earliest research endeavors on designing Artificial Intelligence was carried out by Warren McCulloch and Walter Pitts. In 1943, they published in one of their research papers, the first concept of a simplified brain cell, which is now known as McCulloh-Pitts (MCP) neuron.\n",
    "\n",
    "McCulloch and Pitts described such a nerve cell as a simple logic gate with binary outputs; multiple signals arrive at the dendrites, they are then integrated into the cell body, and, if the accumulated signal exceeds a certain threshold, an output signal is generated that will be passed on by the axon.\n",
    "\n",
    "On 1957, Frank Rosenblatt published the first concept of the Perceptron learning rule based on the MCP neuron model. With his perceptron rule, Rosenblatt proposed an algorithm that would automatically learn the optimal weight coefficients that would then be multiplied with the input features in order to make the decision of whether a neuron fires (transmits a signal) or not. In the context of supervised learning and classification, such an algorithm could then be used to predict whether a new data point belongs to one class or the other."
   ]
  },
  {
   "cell_type": "code",
   "execution_count": null,
   "metadata": {},
   "outputs": [],
   "source": []
  }
 ],
 "metadata": {
  "kernelspec": {
   "display_name": "deep",
   "language": "python",
   "name": "python3"
  },
  "language_info": {
   "name": "python",
   "version": "3.10.8 | packaged by conda-forge | (main, Nov 24 2022, 14:07:00) [MSC v.1916 64 bit (AMD64)]"
  },
  "orig_nbformat": 4,
  "vscode": {
   "interpreter": {
    "hash": "750b0b0bcdd9fe2e206a310bba2895779907b3630475ba10ada1c3aa2da185e2"
   }
  }
 },
 "nbformat": 4,
 "nbformat_minor": 2
}
