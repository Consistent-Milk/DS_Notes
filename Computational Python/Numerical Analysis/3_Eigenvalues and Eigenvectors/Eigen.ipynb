{
 "cells": [
  {
   "cell_type": "code",
   "execution_count": 1,
   "metadata": {},
   "outputs": [],
   "source": [
    "import numpy as np\n",
    "from numpy import linalg as LA"
   ]
  },
  {
   "attachments": {},
   "cell_type": "markdown",
   "metadata": {},
   "source": [
    "__Definition: Characteristic Polynomial__\n",
    "\n",
    "If $A$ is a square matrix, the __characteristic polynomial__ of A is defined by, \n",
    "\n",
    "$$\n",
    "p(\\lambda) = det(A - \\lambda I)\n",
    "$$"
   ]
  },
  {
   "attachments": {},
   "cell_type": "markdown",
   "metadata": {},
   "source": [
    "__Definition: Eigenvalue and Eigenvector__\n",
    "\n",
    "If $p$ is the characteristic polynomial of a square matrix $A$, the zeros of $p$ are __eigenvalues__, or characteristic values, of the matrix $A$. If $\\lambda$ is an eigenvalue of $A$ and $\\bold{x} \\ne \\bold{0}$ satisfies $(A - \\lambda I) \\bold{x} = \\bold{0}$, then $\\bold{x}$ is an __eigenvector__, or characteristic vector, of $A$ corresponding to the eigenvalue $\\lambda$. "
   ]
  },
  {
   "attachments": {},
   "cell_type": "markdown",
   "metadata": {},
   "source": [
    "### Section : Using NumPy's linalg Module For Direct Computation"
   ]
  },
  {
   "attachments": {},
   "cell_type": "markdown",
   "metadata": {},
   "source": [
    "The 'linalg' module provides functions that can directly compute eigenvalues and their corresponding eigenvectors of a matrix ('ndarray' object)."
   ]
  },
  {
   "cell_type": "code",
   "execution_count": 2,
   "metadata": {},
   "outputs": [
    {
     "name": "stdout",
     "output_type": "stream",
     "text": [
      "[[ 2  0  0]\n",
      " [ 1  1  2]\n",
      " [ 1 -1  4]]\n"
     ]
    }
   ],
   "source": [
    "A = np.array([[2, 0, 0], [1, 1, 2], [1, -1, 4]])\n",
    "\n",
    "print(A)\n"
   ]
  },
  {
   "cell_type": "code",
   "execution_count": 4,
   "metadata": {},
   "outputs": [],
   "source": [
    "eig_val, eig_vec = LA.eig(A)"
   ]
  },
  {
   "cell_type": "code",
   "execution_count": 12,
   "metadata": {},
   "outputs": [
    {
     "name": "stdout",
     "output_type": "stream",
     "text": [
      "Eigenvalue = 3.0 and Eigenvector: \n",
      " [[0.    ]\n",
      " [0.    ]\n",
      " [0.5774]]\n",
      "Eigenvalue = 2.0 and Eigenvector: \n",
      " [[ 0.7071]\n",
      " [ 0.8944]\n",
      " [-0.5774]]\n",
      "Eigenvalue = 2.0 and Eigenvector: \n",
      " [[ 0.7071]\n",
      " [ 0.4472]\n",
      " [-0.5774]]\n"
     ]
    }
   ],
   "source": [
    "np.set_printoptions(precision=4)\n",
    "for val_1, val_2 in zip(eig_val, eig_vec):\n",
    "    print(f\"Eigenvalue = {val_1} and Eigenvector: \\n {val_2.reshape(-1, 1)}\")"
   ]
  },
  {
   "cell_type": "code",
   "execution_count": 16,
   "metadata": {},
   "outputs": [
    {
     "name": "stdout",
     "output_type": "stream",
     "text": [
      "0.5774\n",
      "0.7071\n"
     ]
    }
   ],
   "source": [
    "# To get a more compact visualiztion of the values\n",
    "\n",
    "from math import sqrt\n",
    "\n",
    "print(round(1/sqrt(3), ndigits=4))\n",
    "print(round(1/sqrt(2), ndigits=4))"
   ]
  },
  {
   "cell_type": "code",
   "execution_count": 23,
   "metadata": {},
   "outputs": [
    {
     "name": "stdout",
     "output_type": "stream",
     "text": [
      "Matrix([[2, 0, 0], [1, 1, 2], [1, -1, 4]])\n",
      "\n",
      "{2: 2, 3: 1}\n",
      "\n",
      "[(2, 2, [Matrix([\n",
      "[1],\n",
      "[1],\n",
      "[0]]), Matrix([\n",
      "[-2],\n",
      "[ 0],\n",
      "[ 1]])]), (3, 1, [Matrix([\n",
      "[0],\n",
      "[1],\n",
      "[1]])])]\n"
     ]
    }
   ],
   "source": [
    "# SymPy can be used to get equivalent results as given\n",
    "# by Maple\n",
    "from sympy import Matrix\n",
    "\n",
    "A = Matrix(3, 3, [2, 0, 0, 1, 1, 2, 1, -1, 4])\n",
    "print(A)\n",
    "print()\n",
    "print(A.eigenvals())\n",
    "print()\n",
    "print(A.eigenvects())"
   ]
  },
  {
   "attachments": {},
   "cell_type": "markdown",
   "metadata": {},
   "source": [
    "### Section : l2 norm of A"
   ]
  },
  {
   "attachments": {},
   "cell_type": "markdown",
   "metadata": {},
   "source": [
    "The formula for computing the l2 norm is given by,\n",
    "\n",
    "$||A||_{2} = \\sqrt{\\rho(A^{t}A)}$"
   ]
  },
  {
   "cell_type": "code",
   "execution_count": 30,
   "metadata": {},
   "outputs": [
    {
     "name": "stdout",
     "output_type": "stream",
     "text": [
      "[[ 1  1  0]\n",
      " [ 1  2  1]\n",
      " [-1  1  2]]\n"
     ]
    }
   ],
   "source": [
    "A = np.array([[1, 1, 0], [1, 2, 1], [-1, 1, 2]])\n",
    "print(A)\n"
   ]
  },
  {
   "cell_type": "code",
   "execution_count": 31,
   "metadata": {},
   "outputs": [
    {
     "name": "stdout",
     "output_type": "stream",
     "text": [
      "[[ 3  2 -1]\n",
      " [ 2  6  4]\n",
      " [-1  4  5]]\n"
     ]
    }
   ],
   "source": [
    "At_A = np.matmul(np.transpose(A), A)\n",
    "print(At_A)"
   ]
  },
  {
   "cell_type": "code",
   "execution_count": 35,
   "metadata": {},
   "outputs": [
    {
     "name": "stdout",
     "output_type": "stream",
     "text": [
      "The l2 norm of A is : 3.106\n"
     ]
    }
   ],
   "source": [
    "l2_norm_A = round(np.sqrt(np.max(LA.eigvals(At_A))), ndigits=3)\n",
    "\n",
    "print(f\"The l2 norm of A is : {l2_norm_A}\")\n"
   ]
  },
  {
   "cell_type": "code",
   "execution_count": 37,
   "metadata": {},
   "outputs": [
    {
     "name": "stdout",
     "output_type": "stream",
     "text": [
      "3.106\n"
     ]
    }
   ],
   "source": [
    "# Directly Using NumPy\n",
    "print(round(LA.norm(A, ord=2), ndigits=3))\n"
   ]
  },
  {
   "cell_type": "code",
   "execution_count": null,
   "metadata": {},
   "outputs": [],
   "source": []
  }
 ],
 "metadata": {
  "kernelspec": {
   "display_name": "deep",
   "language": "python",
   "name": "python3"
  },
  "language_info": {
   "codemirror_mode": {
    "name": "ipython",
    "version": 3
   },
   "file_extension": ".py",
   "mimetype": "text/x-python",
   "name": "python",
   "nbconvert_exporter": "python",
   "pygments_lexer": "ipython3",
   "version": "3.10.8"
  },
  "orig_nbformat": 4,
  "vscode": {
   "interpreter": {
    "hash": "750b0b0bcdd9fe2e206a310bba2895779907b3630475ba10ada1c3aa2da185e2"
   }
  }
 },
 "nbformat": 4,
 "nbformat_minor": 2
}
