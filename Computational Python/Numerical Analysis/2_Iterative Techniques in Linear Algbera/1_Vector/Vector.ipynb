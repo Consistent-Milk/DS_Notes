{
 "cells": [
  {
   "cell_type": "code",
   "execution_count": 1,
   "metadata": {},
   "outputs": [],
   "source": [
    "import numpy as np"
   ]
  },
  {
   "attachments": {},
   "cell_type": "markdown",
   "metadata": {},
   "source": [
    "### Section : Norms of Vectors"
   ]
  },
  {
   "cell_type": "code",
   "execution_count": 2,
   "metadata": {},
   "outputs": [],
   "source": [
    "x = np.array([-1, 1, -2])\n",
    "\n",
    "\n",
    "def l2_norm(vec: np.ndarray) -> float:\n",
    "    return round(np.sqrt(np.sum(np.square(vec))), ndigits=4)\n",
    "\n",
    "\n",
    "def l_infinity_norm(vec: np.ndarray) -> float:\n",
    "    return float(np.max(np.abs(vec)))\n"
   ]
  },
  {
   "cell_type": "code",
   "execution_count": 3,
   "metadata": {},
   "outputs": [
    {
     "name": "stdout",
     "output_type": "stream",
     "text": [
      "2.4495\n",
      "2.0\n"
     ]
    }
   ],
   "source": [
    "print(l2_norm(x))\n",
    "print(l_infinity_norm(x))\n"
   ]
  },
  {
   "attachments": {},
   "cell_type": "markdown",
   "metadata": {},
   "source": [
    "### Section : Distance Between Vectors in $R^{n}$"
   ]
  },
  {
   "cell_type": "code",
   "execution_count": 4,
   "metadata": {},
   "outputs": [],
   "source": [
    "x = np.array([1, 1, 1])\n",
    "y = np.array([1.2001, 0.99991, 0.92538])\n"
   ]
  },
  {
   "cell_type": "code",
   "execution_count": 5,
   "metadata": {},
   "outputs": [],
   "source": [
    "# Although the functions for norm could be used directly\n",
    "# to calculate the distances, this is only for illustration\n",
    "\n",
    "def l2_distance(vec_1: np.ndarray, vec_2: np.ndarray) -> float:\n",
    "    return round(np.sqrt(np.sum(np.square(vec_1 - vec_2))), ndigits=5)\n",
    "\n",
    "\n",
    "def l2_inf_distance(vec_1: np.ndarray, vec_2: np.ndarray) -> float:\n",
    "    return round(np.max(np.abs(vec_1 - vec_2)), ndigits=4)\n"
   ]
  },
  {
   "cell_type": "code",
   "execution_count": 6,
   "metadata": {},
   "outputs": [
    {
     "name": "stdout",
     "output_type": "stream",
     "text": [
      "0.21356\n",
      "0.2001\n"
     ]
    }
   ],
   "source": [
    "print(l2_distance(x, y))\n",
    "print(l2_inf_distance(x, y))\n"
   ]
  },
  {
   "attachments": {},
   "cell_type": "markdown",
   "metadata": {},
   "source": [
    "### Section : Using Linear Algebra Module of Numpy"
   ]
  },
  {
   "attachments": {},
   "cell_type": "markdown",
   "metadata": {},
   "source": [
    "NumPy provides highly optimzed algorithms from Linear Algebra as functions through the 'linalg' module. these functions can be used on'ndarray' objects and in most cases the functions are written to be multi-purpose. \n",
    "\n",
    "For example, the 'norm' function can calculate the Matrix or vector norm. It is able to return one of eight different matrix norms, or one of an infinite number of vector norms, depending on the value of the ord parameter.\n",
    "\n",
    "__Reference 1:__ https://numpy.org/doc/stable/reference/generated/numpy.linalg.norm.html#numpy.linalg.norm\n",
    "\n",
    "__Reference 2:__ https://numpy.org/doc/stable/reference/routines.linalg.html#module-numpy.linalg"
   ]
  },
  {
   "cell_type": "code",
   "execution_count": 7,
   "metadata": {},
   "outputs": [],
   "source": [
    "from numpy import linalg as LA"
   ]
  },
  {
   "cell_type": "code",
   "execution_count": 8,
   "metadata": {},
   "outputs": [
    {
     "name": "stdout",
     "output_type": "stream",
     "text": [
      "l2 norm: 2.4495\n",
      "l_inf norm: 2.0\n"
     ]
    }
   ],
   "source": [
    "x = np.array([-1, 1, -2])\n",
    "\n",
    "l2_norm_val = round(LA.norm(x), ndigits=4)\n",
    "l_inf_norm_val = LA.norm(x, ord=np.inf)\n",
    "\n",
    "print(f\"l2 norm: {l2_norm_val}\")\n",
    "print(f\"l_inf norm: {l_inf_norm_val}\")\n"
   ]
  },
  {
   "cell_type": "code",
   "execution_count": 9,
   "metadata": {},
   "outputs": [
    {
     "name": "stdout",
     "output_type": "stream",
     "text": [
      "0.21356\n",
      "0.2001\n"
     ]
    }
   ],
   "source": [
    "# Separate functions are not necessary to calculate the distances\n",
    "x = np.array([1, 1, 1])\n",
    "y = np.array([1.2001, 0.99991, 0.92538])\n",
    "\n",
    "l2_dist_val = LA.norm(x-y)\n",
    "l2_inf_dist_val = LA.norm(x-y, ord=np.inf)\n",
    "\n",
    "print(round(l2_dist_val, ndigits=5))\n",
    "print(round(l2_inf_dist_val, ndigits=5))\n"
   ]
  },
  {
   "cell_type": "code",
   "execution_count": null,
   "metadata": {},
   "outputs": [],
   "source": []
  }
 ],
 "metadata": {
  "kernelspec": {
   "display_name": "deep",
   "language": "python",
   "name": "python3"
  },
  "language_info": {
   "codemirror_mode": {
    "name": "ipython",
    "version": 3
   },
   "file_extension": ".py",
   "mimetype": "text/x-python",
   "name": "python",
   "nbconvert_exporter": "python",
   "pygments_lexer": "ipython3",
   "version": "3.10.8 | packaged by conda-forge | (main, Nov 24 2022, 14:07:00) [MSC v.1916 64 bit (AMD64)]"
  },
  "orig_nbformat": 4,
  "vscode": {
   "interpreter": {
    "hash": "750b0b0bcdd9fe2e206a310bba2895779907b3630475ba10ada1c3aa2da185e2"
   }
  }
 },
 "nbformat": 4,
 "nbformat_minor": 2
}
