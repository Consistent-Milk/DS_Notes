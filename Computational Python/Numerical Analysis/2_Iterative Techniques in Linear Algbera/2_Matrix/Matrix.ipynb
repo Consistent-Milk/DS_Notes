{
 "cells": [
  {
   "cell_type": "code",
   "execution_count": 1,
   "metadata": {},
   "outputs": [],
   "source": [
    "import numpy as np\n",
    "from numpy import linalg as LA"
   ]
  },
  {
   "attachments": {},
   "cell_type": "markdown",
   "metadata": {},
   "source": [
    "### Section : Matrix Norm"
   ]
  },
  {
   "cell_type": "code",
   "execution_count": 2,
   "metadata": {},
   "outputs": [
    {
     "name": "stdout",
     "output_type": "stream",
     "text": [
      "[[ 1  2 -1]\n",
      " [ 0  3 -1]\n",
      " [ 5 -1  1]]\n"
     ]
    }
   ],
   "source": [
    "A = np.array([[1, 2, -1], [0, 3, -1], [5, -1, 1]])\n",
    "print(A)"
   ]
  },
  {
   "cell_type": "code",
   "execution_count": 3,
   "metadata": {},
   "outputs": [],
   "source": [
    "# Algorithm for computing l_inf of a matrix\n",
    "\n",
    "def mat_inf_norm(mat_1: np.ndarray) -> float:\n",
    "    # Initialize a 1-D array with equal number\n",
    "    # of elements as the dimension of the nxn square matrix\n",
    "\n",
    "    temp_vec = np.zeros(shape=(mat_1.shape[0],), dtype=np.float64)\n",
    "\n",
    "    for index, row in enumerate(mat_1):\n",
    "        temp_vec[index] = np.sum(np.abs(row))\n",
    "    \n",
    "    return np.max(temp_vec)"
   ]
  },
  {
   "cell_type": "code",
   "execution_count": 4,
   "metadata": {},
   "outputs": [
    {
     "data": {
      "text/plain": [
       "7.0"
      ]
     },
     "execution_count": 4,
     "metadata": {},
     "output_type": "execute_result"
    }
   ],
   "source": [
    "mat_inf_norm(A)"
   ]
  },
  {
   "attachments": {},
   "cell_type": "markdown",
   "metadata": {},
   "source": [
    "### Section : Using NumPy"
   ]
  },
  {
   "cell_type": "code",
   "execution_count": 8,
   "metadata": {},
   "outputs": [
    {
     "name": "stdout",
     "output_type": "stream",
     "text": [
      "7.0\n"
     ]
    }
   ],
   "source": [
    "mat_norm_inf_val = LA.norm(A, ord=np.inf)\n",
    "\n",
    "print(mat_norm_inf_val)"
   ]
  }
 ],
 "metadata": {
  "kernelspec": {
   "display_name": "deep",
   "language": "python",
   "name": "python3"
  },
  "language_info": {
   "codemirror_mode": {
    "name": "ipython",
    "version": 3
   },
   "file_extension": ".py",
   "mimetype": "text/x-python",
   "name": "python",
   "nbconvert_exporter": "python",
   "pygments_lexer": "ipython3",
   "version": "3.10.8"
  },
  "orig_nbformat": 4,
  "vscode": {
   "interpreter": {
    "hash": "750b0b0bcdd9fe2e206a310bba2895779907b3630475ba10ada1c3aa2da185e2"
   }
  }
 },
 "nbformat": 4,
 "nbformat_minor": 2
}
