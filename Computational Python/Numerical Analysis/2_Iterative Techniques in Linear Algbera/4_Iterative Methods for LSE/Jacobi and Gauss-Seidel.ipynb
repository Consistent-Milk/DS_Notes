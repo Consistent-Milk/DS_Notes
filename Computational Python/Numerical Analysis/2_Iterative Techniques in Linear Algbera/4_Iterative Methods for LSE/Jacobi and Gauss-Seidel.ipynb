{
 "cells": [
  {
   "attachments": {},
   "cell_type": "markdown",
   "metadata": {},
   "source": [
    "### Topic : Solving Systems of Linear Equations"
   ]
  },
  {
   "cell_type": "code",
   "execution_count": 40,
   "metadata": {},
   "outputs": [
    {
     "data": {
      "text/plain": [
       "array([ 1.,  2., -1.,  1.])"
      ]
     },
     "execution_count": 40,
     "metadata": {},
     "output_type": "execute_result"
    }
   ],
   "source": [
    "# NumPy can be used to solve Systems of Linear Equations directly\n",
    "import numpy as np\n",
    "from numpy import linalg as LA\n",
    "from typing import Optional\n",
    "\n",
    "A = np.array([[10, -1, 2, 0], [-1, 11, -1, 3], [2, -1, 10, -1], [0, 3, -1, 8]], dtype=np.float64)\n",
    "b = np.array([6, 25, -11, 15], dtype=np.float64)\n",
    "\n",
    "LA.solve(A, b)"
   ]
  },
  {
   "attachments": {},
   "cell_type": "markdown",
   "metadata": {},
   "source": [
    "### Section : Jacobi's Iterative Method"
   ]
  },
  {
   "attachments": {},
   "cell_type": "markdown",
   "metadata": {},
   "source": [
    "The __Jacobi iterative method__ is obtained by solving the ith equation in $A\\bold{x} = \\bold{b}$ for $x_{i}$ to obtain (provided $a_{ii} \\ne 0$),\n",
    "\n",
    "$$\n",
    "x_{i} = \\sum_{j = 1, j \\ne i}^{n}(-\\frac{a_{ij} x_{j}}{a_{ii}}) + \\frac{b_{i}}{a_{ii}}\n",
    "$$\n",
    "\n",
    "For each $k \\ge 1$, generate the components $x_{i}^{(k)}$ of $\\bold{x^{(k)}}$ from components for $\\bold{x}^{(k-1)}$ by,\n",
    "\n",
    "$$\n",
    "x_{i}^{(k)} = \\frac{1}{a_{ii}} [\\sum_{j = 1, j \\ne i}^{n}(-a_{ij}x_{j}^{(k-1)}) + b_{i}] \\quad for \\quad i = 1, 2, 3,...., n\n",
    "$$"
   ]
  },
  {
   "cell_type": "code",
   "execution_count": 87,
   "metadata": {},
   "outputs": [],
   "source": [
    "def jacobi_iterative(\n",
    "        coef_mat: np.ndarray,\n",
    "        const_vec: np.ndarray,\n",
    "        int_sol: np.ndarray) -> np.ndarray:\n",
    "\n",
    "    temp_sol = np.zeros(coef_mat.shape[0],)\n",
    "\n",
    "    for iteration in range(10):\n",
    "        print(f\"Iteration {iteration}: {int_sol}\")\n",
    "        for i in range(coef_mat.shape[0]):\n",
    "            temp = 0.0\n",
    "            for j in range(coef_mat.shape[1]):\n",
    "                if j != i:\n",
    "                    temp = temp - coef_mat[i, j] * int_sol[j]\n",
    "            temp_sol[i] = (temp + const_vec[i]) / coef_mat[i, i]\n",
    "        int_sol[:] = temp_sol[:]\n",
    "    \n",
    "    return int_sol"
   ]
  },
  {
   "cell_type": "code",
   "execution_count": 92,
   "metadata": {},
   "outputs": [
    {
     "name": "stdout",
     "output_type": "stream",
     "text": [
      "Iteration 0: [0. 0. 0. 0.]\n",
      "Iteration 1: [ 0.6         2.27272727 -1.1         1.875     ]\n",
      "Iteration 2: [ 1.04727273  1.71590909 -0.80522727  0.88522727]\n",
      "Iteration 3: [ 0.93263636  2.05330579 -1.04934091  1.13088068]\n",
      "Iteration 4: [ 1.01519876  1.95369576 -0.96810863  0.97384272]\n",
      "Iteration 5: [ 0.9889913   2.01141473 -1.0102859   1.02135051]\n",
      "Iteration 6: [ 1.00319865  1.99224126 -0.99452174  0.99443374]\n",
      "Iteration 7: [ 0.99812847  2.00230688 -1.00197223  1.00359431]\n",
      "Iteration 8: [ 1.00062513  1.9986703  -0.99903558  0.99888839]\n",
      "Iteration 9: [ 0.99967415  2.00044767 -1.00036916  1.00061919]\n"
     ]
    },
    {
     "data": {
      "text/plain": [
       "array([ 1.0001186 ,  1.99976795, -0.99982814,  0.99978598])"
      ]
     },
     "execution_count": 92,
     "metadata": {},
     "output_type": "execute_result"
    }
   ],
   "source": [
    "A = np.array([[10, -1, 2, 0], [-1, 11, -1, 3], [2, -1, 10, -1], [0, 3, -1, 8]], dtype=np.float64)\n",
    "b = np.array([6, 25, -11, 15], dtype=np.float64)\n",
    "x_0 = np.array([0, 0, 0 ,0], dtype=np.float64)\n",
    "\n",
    "jacobi_iterative(A, b, x_0)"
   ]
  },
  {
   "attachments": {},
   "cell_type": "markdown",
   "metadata": {},
   "source": [
    "### Topic: Gauss-Seidel Iterative Method"
   ]
  },
  {
   "cell_type": "code",
   "execution_count": null,
   "metadata": {},
   "outputs": [],
   "source": [
    "def gauss_seidel_iterative(\n",
    "        coef_mat: np.ndarray,\n",
    "        const_vec: np.ndarray,\n",
    "        int_sol: np.ndarray) -> np.ndarray:\n",
    "\n",
    "    for iteration in range(10):\n",
    "        print(f\"Iteration {iteration}: {int_sol}\")\n",
    "        for i in range(coef_mat.shape[0]):\n",
    "            temp = 0.0\n",
    "            for j in range(coef_mat.shape[1]):\n",
    "                if j != i:\n",
    "                    temp = temp - coef_mat[i, j] * int_sol[j]\n",
    "            int_sol[i] = (temp + const_vec[i]) / coef_mat[i, i]\n",
    "    \n",
    "    return int_sol"
   ]
  },
  {
   "cell_type": "code",
   "execution_count": 93,
   "metadata": {},
   "outputs": [
    {
     "name": "stdout",
     "output_type": "stream",
     "text": [
      "Iteration 0: [0. 0. 0. 0.]\n",
      "Iteration 1: [ 0.6         2.32727273 -0.98727273  0.87886364]\n",
      "Iteration 2: [ 1.03018182  2.03693802 -1.0144562   0.98434122]\n",
      "Iteration 3: [ 1.00658504  2.00355502 -1.00252738  0.99835095]\n",
      "Iteration 4: [ 1.00086098  2.00029825 -1.00030728  0.99984975]\n",
      "Iteration 5: [ 1.00009128  2.00002134 -1.00003115  0.9999881 ]\n",
      "Iteration 6: [ 1.00000836  2.00000117 -1.00000275  0.99999922]\n",
      "Iteration 7: [ 1.00000067  2.00000002 -1.00000021  0.99999996]\n",
      "Iteration 8: [ 1.00000004  1.99999999 -1.00000001  1.        ]\n",
      "Iteration 9: [ 1.  2. -1.  1.]\n"
     ]
    },
    {
     "data": {
      "text/plain": [
       "array([ 1.,  2., -1.,  1.])"
      ]
     },
     "execution_count": 93,
     "metadata": {},
     "output_type": "execute_result"
    }
   ],
   "source": [
    "A = np.array([[10, -1, 2, 0], [-1, 11, -1, 3], [2, -1, 10, -1], [0, 3, -1, 8]], dtype=np.float64)\n",
    "b = np.array([6, 25, -11, 15], dtype=np.float64)\n",
    "x_0 = np.array([0, 0, 0 ,0], dtype=np.float64)\n",
    "\n",
    "gauss_seidel_iterative(A, b, x_0)"
   ]
  },
  {
   "cell_type": "code",
   "execution_count": null,
   "metadata": {},
   "outputs": [],
   "source": []
  }
 ],
 "metadata": {
  "kernelspec": {
   "display_name": "deep",
   "language": "python",
   "name": "python3"
  },
  "language_info": {
   "codemirror_mode": {
    "name": "ipython",
    "version": 3
   },
   "file_extension": ".py",
   "mimetype": "text/x-python",
   "name": "python",
   "nbconvert_exporter": "python",
   "pygments_lexer": "ipython3",
   "version": "3.10.8"
  },
  "orig_nbformat": 4,
  "vscode": {
   "interpreter": {
    "hash": "750b0b0bcdd9fe2e206a310bba2895779907b3630475ba10ada1c3aa2da185e2"
   }
  }
 },
 "nbformat": 4,
 "nbformat_minor": 2
}
