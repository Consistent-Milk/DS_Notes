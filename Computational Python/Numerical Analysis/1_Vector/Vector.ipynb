{
 "cells": [
  {
   "cell_type": "code",
   "execution_count": 1,
   "metadata": {},
   "outputs": [],
   "source": [
    "import numpy as np"
   ]
  },
  {
   "attachments": {},
   "cell_type": "markdown",
   "metadata": {},
   "source": [
    "### Section : Norms of Vectors"
   ]
  },
  {
   "cell_type": "code",
   "execution_count": 9,
   "metadata": {},
   "outputs": [],
   "source": [
    "x = np.array([-1, 1, -2])\n",
    "\n",
    "def l2_norm(vec: np.ndarray) -> float:\n",
    "    return round(np.sqrt(np.sum(np.square(vec))), ndigits=4)\n",
    "\n",
    "def l_infinity_norm(vec: np.ndarray) -> float:\n",
    "    return np.max(np.abs(vec))"
   ]
  },
  {
   "cell_type": "code",
   "execution_count": 11,
   "metadata": {},
   "outputs": [
    {
     "name": "stdout",
     "output_type": "stream",
     "text": [
      "2.4495\n",
      "2\n"
     ]
    }
   ],
   "source": [
    "print(l2_norm(x))\n",
    "print(l_infinity_norm(x))"
   ]
  },
  {
   "attachments": {},
   "cell_type": "markdown",
   "metadata": {},
   "source": [
    "### Section : Distance Between Vectors in $R^{n}$"
   ]
  },
  {
   "cell_type": "code",
   "execution_count": 12,
   "metadata": {},
   "outputs": [],
   "source": [
    "x = np.array([1, 1, 1])\n",
    "y = np.array([1.2001, 0.99991, 0.92538])"
   ]
  },
  {
   "cell_type": "code",
   "execution_count": 19,
   "metadata": {},
   "outputs": [],
   "source": [
    "def l2_distance(vec_1: np.ndarray, vec_2: np.ndarray) -> float:\n",
    "    return round(np.sqrt(np.sum(np.square(vec_1 - vec_2))), ndigits=5)\n",
    "\n",
    "def l2_inf_distance(vec_1: np.ndarray, vec_2:np.ndarray) -> float:\n",
    "    return round(np.max(np.abs(vec_1 - vec_2)), ndigits=4)"
   ]
  },
  {
   "cell_type": "code",
   "execution_count": 20,
   "metadata": {},
   "outputs": [
    {
     "name": "stdout",
     "output_type": "stream",
     "text": [
      "0.21356\n",
      "0.2001\n"
     ]
    }
   ],
   "source": [
    "print(l2_distance(x, y))\n",
    "print(l2_inf_distance(x, y))"
   ]
  },
  {
   "cell_type": "code",
   "execution_count": null,
   "metadata": {},
   "outputs": [],
   "source": []
  }
 ],
 "metadata": {
  "kernelspec": {
   "display_name": "deep",
   "language": "python",
   "name": "python3"
  },
  "language_info": {
   "codemirror_mode": {
    "name": "ipython",
    "version": 3
   },
   "file_extension": ".py",
   "mimetype": "text/x-python",
   "name": "python",
   "nbconvert_exporter": "python",
   "pygments_lexer": "ipython3",
   "version": "3.10.8"
  },
  "orig_nbformat": 4,
  "vscode": {
   "interpreter": {
    "hash": "750b0b0bcdd9fe2e206a310bba2895779907b3630475ba10ada1c3aa2da185e2"
   }
  }
 },
 "nbformat": 4,
 "nbformat_minor": 2
}
