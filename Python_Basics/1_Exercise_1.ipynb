{
 "cells": [
  {
   "cell_type": "code",
   "execution_count": 7,
   "metadata": {},
   "outputs": [
    {
     "name": "stdout",
     "output_type": "stream",
     "text": [
      "abcdefghijklmnopqrstuvwxyz\n"
     ]
    }
   ],
   "source": [
    "# Checking if a sentence forms a pangram \n",
    "\n",
    "# string is a standard library\n",
    "import string\n",
    "\n",
    "sentence_1 = \"The quick brown fox jumps over the lazy dog\"\n",
    "sentence_2 = \"The quick black fox jumps over the lazy dog\"\n",
    "\n",
    "# Importing string lets us get a string consisting of all letters\n",
    "# without typing them ourselves\n",
    "alphabet = string.ascii_lowercase\n",
    "\n",
    "print(alphabet)"
   ]
  },
  {
   "cell_type": "code",
   "execution_count": 8,
   "metadata": {},
   "outputs": [],
   "source": [
    "def is_pangram(sentence: str) -> bool:\n",
    "    sentence = sentence.lower()\n",
    "    alphabet = string.ascii_lowercase\n",
    "    pangram = False\n",
    "    for s in alphabet:\n",
    "        if sentence.count(s) == 0:\n",
    "            return pangram\n",
    "        else:\n",
    "            continue\n",
    "    return not(pangram)"
   ]
  },
  {
   "cell_type": "code",
   "execution_count": 9,
   "metadata": {},
   "outputs": [
    {
     "name": "stdout",
     "output_type": "stream",
     "text": [
      "sentence_1 is a pangram: True\n",
      "sentence_2 is a pangram: False\n"
     ]
    }
   ],
   "source": [
    "sentence_1_check = is_pangram(sentence_1)\n",
    "sentence_2_check = is_pangram(sentence_2)\n",
    "\n",
    "print(f\"sentence_1 is a pangram: {sentence_1_check}\")\n",
    "print(f\"sentence_2 is a pangram: {sentence_2_check}\")"
   ]
  },
  {
   "cell_type": "code",
   "execution_count": null,
   "metadata": {},
   "outputs": [],
   "source": []
  }
 ],
 "metadata": {
  "kernelspec": {
   "display_name": "deep",
   "language": "python",
   "name": "python3"
  },
  "language_info": {
   "codemirror_mode": {
    "name": "ipython",
    "version": 3
   },
   "file_extension": ".py",
   "mimetype": "text/x-python",
   "name": "python",
   "nbconvert_exporter": "python",
   "pygments_lexer": "ipython3",
   "version": "3.10.8 | packaged by conda-forge | (main, Nov 24 2022, 14:07:00) [MSC v.1916 64 bit (AMD64)]"
  },
  "orig_nbformat": 4,
  "vscode": {
   "interpreter": {
    "hash": "750b0b0bcdd9fe2e206a310bba2895779907b3630475ba10ada1c3aa2da185e2"
   }
  }
 },
 "nbformat": 4,
 "nbformat_minor": 2
}
