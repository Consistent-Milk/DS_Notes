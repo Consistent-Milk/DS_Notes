{
 "cells": [
  {
   "attachments": {},
   "cell_type": "markdown",
   "metadata": {},
   "source": [
    "### Breaking Ceasar's Cipher"
   ]
  },
  {
   "attachments": {},
   "cell_type": "markdown",
   "metadata": {},
   "source": [
    "In this exercise, we will break the traditional Ceaser's Cipher by using our knowledge of the core data types. This is a project related to Cryptography, but is well-suited to check our understanding of some of the core data types."
   ]
  },
  {
   "cell_type": "code",
   "execution_count": 1,
   "metadata": {},
   "outputs": [
    {
     "name": "stdout",
     "output_type": "stream",
     "text": [
      "{'A': 0, 'B': 1, 'C': 2, 'D': 3, 'E': 4, 'F': 5, 'G': 6, 'H': 7, 'I': 8, 'J': 9, 'K': 10, 'L': 11, 'M': 12, 'N': 13, 'O': 14, 'P': 15, 'Q': 16, 'R': 17, 'S': 18, 'T': 19, 'U': 20, 'V': 21, 'W': 22, 'X': 23, 'Y': 24, 'Z': 25}\n",
      "{0: 'A', 1: 'B', 2: 'C', 3: 'D', 4: 'E', 5: 'F', 6: 'G', 7: 'H', 8: 'I', 9: 'J', 10: 'K', 11: 'L', 12: 'M', 13: 'N', 14: 'O', 15: 'P', 16: 'Q', 17: 'R', 18: 'S', 19: 'T', 20: 'U', 21: 'V', 22: 'W', 23: 'X', 24: 'Y', 25: 'Z'}\n"
     ]
    }
   ],
   "source": [
    "# Breaking Ceaser's Cipher Programmatically\n",
    "import string\n",
    "\n",
    "alphabet = string.ascii_uppercase\n",
    "\n",
    "cipher = 'LWKLQNWKDWLVKDOOQHYHUVHHDELOOERDUGORYHOBDVDWUHH'\n",
    "\n",
    "alphabet_hash_table = dict()\n",
    "inverse_hash_table = dict()\n",
    "for index, letter in enumerate(alphabet):\n",
    "    alphabet_hash_table[letter] = index\n",
    "    inverse_hash_table[index] = letter\n",
    "\n",
    "print(alphabet_hash_table)\n",
    "print(inverse_hash_table)"
   ]
  },
  {
   "cell_type": "code",
   "execution_count": 2,
   "metadata": {},
   "outputs": [
    {
     "name": "stdout",
     "output_type": "stream",
     "text": [
      "[11, 22, 10, 11, 16, 13, 22, 10, 3, 22, 11, 21, 10, 3, 14, 14, 16, 7, 24, 7, 20, 21, 7, 7, 3, 4, 11, 14, 14, 4, 17, 3, 20, 6, 14, 17, 24, 7, 14, 1, 3, 21, 3, 22, 20, 7, 7]\n"
     ]
    }
   ],
   "source": [
    "position = list()\n",
    "for letter in cipher:\n",
    "    position.append(alphabet_hash_table[letter])\n",
    "\n",
    "print(position)"
   ]
  },
  {
   "cell_type": "code",
   "execution_count": 3,
   "metadata": {},
   "outputs": [
    {
     "name": "stdout",
     "output_type": "stream",
     "text": [
      "{0: 'A', 1: 'B', 2: 'C', 3: 'D', 4: 'E', 5: 'F', 6: 'G', 7: 'H', 8: 'I', 9: 'J', 10: 'K', 11: 'L', 12: 'M', 13: 'N', 14: 'O', 15: 'P', 16: 'Q', 17: 'R', 18: 'S', 19: 'T', 20: 'U', 21: 'V', 22: 'W', 23: 'X', 24: 'Y', 25: 'Z'}\n",
      "{0: 'Z', 1: 'A', 2: 'B', 3: 'C', 4: 'D', 5: 'E', 6: 'F', 7: 'G', 8: 'H', 9: 'I', 10: 'J', 11: 'K', 12: 'L', 13: 'M', 14: 'N', 15: 'O', 16: 'P', 17: 'Q', 18: 'R', 19: 'S', 20: 'T', 21: 'U', 22: 'V', 23: 'W', 24: 'X', 25: 'Y'}\n",
      "{0: 'Y', 1: 'Z', 2: 'A', 3: 'B', 4: 'C', 5: 'D', 6: 'E', 7: 'F', 8: 'G', 9: 'H', 10: 'I', 11: 'J', 12: 'K', 13: 'L', 14: 'M', 15: 'N', 16: 'O', 17: 'P', 18: 'Q', 19: 'R', 20: 'S', 21: 'T', 22: 'U', 23: 'V', 24: 'W', 25: 'X'}\n",
      "{0: 'X', 1: 'Y', 2: 'Z', 3: 'A', 4: 'B', 5: 'C', 6: 'D', 7: 'E', 8: 'F', 9: 'G', 10: 'H', 11: 'I', 12: 'J', 13: 'K', 14: 'L', 15: 'M', 16: 'N', 17: 'O', 18: 'P', 19: 'Q', 20: 'R', 21: 'S', 22: 'T', 23: 'U', 24: 'V', 25: 'W'}\n",
      "{0: 'W', 1: 'X', 2: 'Y', 3: 'Z', 4: 'A', 5: 'B', 6: 'C', 7: 'D', 8: 'E', 9: 'F', 10: 'G', 11: 'H', 12: 'I', 13: 'J', 14: 'K', 15: 'L', 16: 'M', 17: 'N', 18: 'O', 19: 'P', 20: 'Q', 21: 'R', 22: 'S', 23: 'T', 24: 'U', 25: 'V'}\n",
      "{0: 'V', 1: 'W', 2: 'X', 3: 'Y', 4: 'Z', 5: 'A', 6: 'B', 7: 'C', 8: 'D', 9: 'E', 10: 'F', 11: 'G', 12: 'H', 13: 'I', 14: 'J', 15: 'K', 16: 'L', 17: 'M', 18: 'N', 19: 'O', 20: 'P', 21: 'Q', 22: 'R', 23: 'S', 24: 'T', 25: 'U'}\n",
      "{0: 'U', 1: 'V', 2: 'W', 3: 'X', 4: 'Y', 5: 'Z', 6: 'A', 7: 'B', 8: 'C', 9: 'D', 10: 'E', 11: 'F', 12: 'G', 13: 'H', 14: 'I', 15: 'J', 16: 'K', 17: 'L', 18: 'M', 19: 'N', 20: 'O', 21: 'P', 22: 'Q', 23: 'R', 24: 'S', 25: 'T'}\n",
      "{0: 'T', 1: 'U', 2: 'V', 3: 'W', 4: 'X', 5: 'Y', 6: 'Z', 7: 'A', 8: 'B', 9: 'C', 10: 'D', 11: 'E', 12: 'F', 13: 'G', 14: 'H', 15: 'I', 16: 'J', 17: 'K', 18: 'L', 19: 'M', 20: 'N', 21: 'O', 22: 'P', 23: 'Q', 24: 'R', 25: 'S'}\n",
      "{0: 'S', 1: 'T', 2: 'U', 3: 'V', 4: 'W', 5: 'X', 6: 'Y', 7: 'Z', 8: 'A', 9: 'B', 10: 'C', 11: 'D', 12: 'E', 13: 'F', 14: 'G', 15: 'H', 16: 'I', 17: 'J', 18: 'K', 19: 'L', 20: 'M', 21: 'N', 22: 'O', 23: 'P', 24: 'Q', 25: 'R'}\n",
      "{0: 'R', 1: 'S', 2: 'T', 3: 'U', 4: 'V', 5: 'W', 6: 'X', 7: 'Y', 8: 'Z', 9: 'A', 10: 'B', 11: 'C', 12: 'D', 13: 'E', 14: 'F', 15: 'G', 16: 'H', 17: 'I', 18: 'J', 19: 'K', 20: 'L', 21: 'M', 22: 'N', 23: 'O', 24: 'P', 25: 'Q'}\n",
      "{0: 'Q', 1: 'R', 2: 'S', 3: 'T', 4: 'U', 5: 'V', 6: 'W', 7: 'X', 8: 'Y', 9: 'Z', 10: 'A', 11: 'B', 12: 'C', 13: 'D', 14: 'E', 15: 'F', 16: 'G', 17: 'H', 18: 'I', 19: 'J', 20: 'K', 21: 'L', 22: 'M', 23: 'N', 24: 'O', 25: 'P'}\n",
      "{0: 'P', 1: 'Q', 2: 'R', 3: 'S', 4: 'T', 5: 'U', 6: 'V', 7: 'W', 8: 'X', 9: 'Y', 10: 'Z', 11: 'A', 12: 'B', 13: 'C', 14: 'D', 15: 'E', 16: 'F', 17: 'G', 18: 'H', 19: 'I', 20: 'J', 21: 'K', 22: 'L', 23: 'M', 24: 'N', 25: 'O'}\n",
      "{0: 'O', 1: 'P', 2: 'Q', 3: 'R', 4: 'S', 5: 'T', 6: 'U', 7: 'V', 8: 'W', 9: 'X', 10: 'Y', 11: 'Z', 12: 'A', 13: 'B', 14: 'C', 15: 'D', 16: 'E', 17: 'F', 18: 'G', 19: 'H', 20: 'I', 21: 'J', 22: 'K', 23: 'L', 24: 'M', 25: 'N'}\n",
      "{0: 'N', 1: 'O', 2: 'P', 3: 'Q', 4: 'R', 5: 'S', 6: 'T', 7: 'U', 8: 'V', 9: 'W', 10: 'X', 11: 'Y', 12: 'Z', 13: 'A', 14: 'B', 15: 'C', 16: 'D', 17: 'E', 18: 'F', 19: 'G', 20: 'H', 21: 'I', 22: 'J', 23: 'K', 24: 'L', 25: 'M'}\n",
      "{0: 'M', 1: 'N', 2: 'O', 3: 'P', 4: 'Q', 5: 'R', 6: 'S', 7: 'T', 8: 'U', 9: 'V', 10: 'W', 11: 'X', 12: 'Y', 13: 'Z', 14: 'A', 15: 'B', 16: 'C', 17: 'D', 18: 'E', 19: 'F', 20: 'G', 21: 'H', 22: 'I', 23: 'J', 24: 'K', 25: 'L'}\n",
      "{0: 'L', 1: 'M', 2: 'N', 3: 'O', 4: 'P', 5: 'Q', 6: 'R', 7: 'S', 8: 'T', 9: 'U', 10: 'V', 11: 'W', 12: 'X', 13: 'Y', 14: 'Z', 15: 'A', 16: 'B', 17: 'C', 18: 'D', 19: 'E', 20: 'F', 21: 'G', 22: 'H', 23: 'I', 24: 'J', 25: 'K'}\n",
      "{0: 'K', 1: 'L', 2: 'M', 3: 'N', 4: 'O', 5: 'P', 6: 'Q', 7: 'R', 8: 'S', 9: 'T', 10: 'U', 11: 'V', 12: 'W', 13: 'X', 14: 'Y', 15: 'Z', 16: 'A', 17: 'B', 18: 'C', 19: 'D', 20: 'E', 21: 'F', 22: 'G', 23: 'H', 24: 'I', 25: 'J'}\n",
      "{0: 'J', 1: 'K', 2: 'L', 3: 'M', 4: 'N', 5: 'O', 6: 'P', 7: 'Q', 8: 'R', 9: 'S', 10: 'T', 11: 'U', 12: 'V', 13: 'W', 14: 'X', 15: 'Y', 16: 'Z', 17: 'A', 18: 'B', 19: 'C', 20: 'D', 21: 'E', 22: 'F', 23: 'G', 24: 'H', 25: 'I'}\n",
      "{0: 'I', 1: 'J', 2: 'K', 3: 'L', 4: 'M', 5: 'N', 6: 'O', 7: 'P', 8: 'Q', 9: 'R', 10: 'S', 11: 'T', 12: 'U', 13: 'V', 14: 'W', 15: 'X', 16: 'Y', 17: 'Z', 18: 'A', 19: 'B', 20: 'C', 21: 'D', 22: 'E', 23: 'F', 24: 'G', 25: 'H'}\n",
      "{0: 'H', 1: 'I', 2: 'J', 3: 'K', 4: 'L', 5: 'M', 6: 'N', 7: 'O', 8: 'P', 9: 'Q', 10: 'R', 11: 'S', 12: 'T', 13: 'U', 14: 'V', 15: 'W', 16: 'X', 17: 'Y', 18: 'Z', 19: 'A', 20: 'B', 21: 'C', 22: 'D', 23: 'E', 24: 'F', 25: 'G'}\n",
      "{0: 'G', 1: 'H', 2: 'I', 3: 'J', 4: 'K', 5: 'L', 6: 'M', 7: 'N', 8: 'O', 9: 'P', 10: 'Q', 11: 'R', 12: 'S', 13: 'T', 14: 'U', 15: 'V', 16: 'W', 17: 'X', 18: 'Y', 19: 'Z', 20: 'A', 21: 'B', 22: 'C', 23: 'D', 24: 'E', 25: 'F'}\n",
      "{0: 'F', 1: 'G', 2: 'H', 3: 'I', 4: 'J', 5: 'K', 6: 'L', 7: 'M', 8: 'N', 9: 'O', 10: 'P', 11: 'Q', 12: 'R', 13: 'S', 14: 'T', 15: 'U', 16: 'V', 17: 'W', 18: 'X', 19: 'Y', 20: 'Z', 21: 'A', 22: 'B', 23: 'C', 24: 'D', 25: 'E'}\n",
      "{0: 'E', 1: 'F', 2: 'G', 3: 'H', 4: 'I', 5: 'J', 6: 'K', 7: 'L', 8: 'M', 9: 'N', 10: 'O', 11: 'P', 12: 'Q', 13: 'R', 14: 'S', 15: 'T', 16: 'U', 17: 'V', 18: 'W', 19: 'X', 20: 'Y', 21: 'Z', 22: 'A', 23: 'B', 24: 'C', 25: 'D'}\n",
      "{0: 'D', 1: 'E', 2: 'F', 3: 'G', 4: 'H', 5: 'I', 6: 'J', 7: 'K', 8: 'L', 9: 'M', 10: 'N', 11: 'O', 12: 'P', 13: 'Q', 14: 'R', 15: 'S', 16: 'T', 17: 'U', 18: 'V', 19: 'W', 20: 'X', 21: 'Y', 22: 'Z', 23: 'A', 24: 'B', 25: 'C'}\n",
      "{0: 'C', 1: 'D', 2: 'E', 3: 'F', 4: 'G', 5: 'H', 6: 'I', 7: 'J', 8: 'K', 9: 'L', 10: 'M', 11: 'N', 12: 'O', 13: 'P', 14: 'Q', 15: 'R', 16: 'S', 17: 'T', 18: 'U', 19: 'V', 20: 'W', 21: 'X', 22: 'Y', 23: 'Z', 24: 'A', 25: 'B'}\n",
      "{0: 'B', 1: 'C', 2: 'D', 3: 'E', 4: 'F', 5: 'G', 6: 'H', 7: 'I', 8: 'J', 9: 'K', 10: 'L', 11: 'M', 12: 'N', 13: 'O', 14: 'P', 15: 'Q', 16: 'R', 17: 'S', 18: 'T', 19: 'U', 20: 'V', 21: 'W', 22: 'X', 23: 'Y', 24: 'Z', 25: 'A'}\n"
     ]
    }
   ],
   "source": [
    "all_inverse_tables = []\n",
    "\n",
    "for i in range(0, 26):\n",
    "    temp_table = inverse_hash_table.copy()\n",
    "    for j in range(0, 26):\n",
    "        temp_table[(j + i) % 26] = inverse_hash_table[j]\n",
    "    all_inverse_tables.append(temp_table)\n",
    "\n",
    "for table in all_inverse_tables:\n",
    "    print(table)"
   ]
  },
  {
   "cell_type": "code",
   "execution_count": 4,
   "metadata": {},
   "outputs": [
    {
     "name": "stdout",
     "output_type": "stream",
     "text": [
      "LWKLQNWKDWLVKDOOQHYHUVHHDELOOERDUGORYHOBDVDWUHH\n",
      "KVJKPMVJCVKUJCNNPGXGTUGGCDKNNDQCTFNQXGNACUCVTGG\n",
      "JUIJOLUIBUJTIBMMOFWFSTFFBCJMMCPBSEMPWFMZBTBUSFF\n",
      "ITHINKTHATISHALLNEVERSEEABILLBOARDLOVELYASATREE\n",
      "HSGHMJSGZSHRGZKKMDUDQRDDZAHKKANZQCKNUDKXZRZSQDD\n",
      "GRFGLIRFYRGQFYJJLCTCPQCCYZGJJZMYPBJMTCJWYQYRPCC\n",
      "FQEFKHQEXQFPEXIIKBSBOPBBXYFIIYLXOAILSBIVXPXQOBB\n",
      "EPDEJGPDWPEODWHHJARANOAAWXEHHXKWNZHKRAHUWOWPNAA\n",
      "DOCDIFOCVODNCVGGIZQZMNZZVWDGGWJVMYGJQZGTVNVOMZZ\n",
      "CNBCHENBUNCMBUFFHYPYLMYYUVCFFVIULXFIPYFSUMUNLYY\n",
      "BMABGDMATMBLATEEGXOXKLXXTUBEEUHTKWEHOXERTLTMKXX\n",
      "ALZAFCLZSLAKZSDDFWNWJKWWSTADDTGSJVDGNWDQSKSLJWW\n",
      "ZKYZEBKYRKZJYRCCEVMVIJVVRSZCCSFRIUCFMVCPRJRKIVV\n",
      "YJXYDAJXQJYIXQBBDULUHIUUQRYBBREQHTBELUBOQIQJHUU\n",
      "XIWXCZIWPIXHWPAACTKTGHTTPQXAAQDPGSADKTANPHPIGTT\n",
      "WHVWBYHVOHWGVOZZBSJSFGSSOPWZZPCOFRZCJSZMOGOHFSS\n",
      "VGUVAXGUNGVFUNYYARIREFRRNOVYYOBNEQYBIRYLNFNGERR\n",
      "UFTUZWFTMFUETMXXZQHQDEQQMNUXXNAMDPXAHQXKMEMFDQQ\n",
      "TESTYVESLETDSLWWYPGPCDPPLMTWWMZLCOWZGPWJLDLECPP\n",
      "SDRSXUDRKDSCRKVVXOFOBCOOKLSVVLYKBNVYFOVIKCKDBOO\n",
      "RCQRWTCQJCRBQJUUWNENABNNJKRUUKXJAMUXENUHJBJCANN\n",
      "QBPQVSBPIBQAPITTVMDMZAMMIJQTTJWIZLTWDMTGIAIBZMM\n",
      "PAOPURAOHAPZOHSSULCLYZLLHIPSSIVHYKSVCLSFHZHAYLL\n",
      "OZNOTQZNGZOYNGRRTKBKXYKKGHORRHUGXJRUBKREGYGZXKK\n",
      "NYMNSPYMFYNXMFQQSJAJWXJJFGNQQGTFWIQTAJQDFXFYWJJ\n",
      "MXLMROXLEXMWLEPPRIZIVWIIEFMPPFSEVHPSZIPCEWEXVII\n"
     ]
    }
   ],
   "source": [
    "position = list()\n",
    "for letter in cipher:\n",
    "    position.append(alphabet_hash_table[letter])\n",
    "\n",
    "for table in all_inverse_tables:\n",
    "    plaintext = []\n",
    "    for index in position:\n",
    "        plaintext.append(table[index])\n",
    "    print(''.join(plaintext))"
   ]
  },
  {
   "attachments": {},
   "cell_type": "markdown",
   "metadata": {},
   "source": [
    "If you look carefully, you will see that the fourth decoded sentence is actually a sentence:\n",
    "ITHINKTHATISHALLNEVERSEEABILLBOARDLOVELYASATREE -> I THINK THAT I SHALL NEVER SEE A BILLBOARD LOVELY AS A TREE"
   ]
  }
 ],
 "metadata": {
  "kernelspec": {
   "display_name": "Python 3",
   "language": "python",
   "name": "python3"
  },
  "language_info": {
   "codemirror_mode": {
    "name": "ipython",
    "version": 3
   },
   "file_extension": ".py",
   "mimetype": "text/x-python",
   "name": "python",
   "nbconvert_exporter": "python",
   "pygments_lexer": "ipython3",
   "version": "3.10.1 (tags/v3.10.1:2cd268a, Dec  6 2021, 19:10:37) [MSC v.1929 64 bit (AMD64)]"
  },
  "orig_nbformat": 4,
  "vscode": {
   "interpreter": {
    "hash": "de66d7802e14fb2e8694b63e255d0fe3514f0a531cbbfb87d1ecc51a74f4db4d"
   }
  }
 },
 "nbformat": 4,
 "nbformat_minor": 2
}
