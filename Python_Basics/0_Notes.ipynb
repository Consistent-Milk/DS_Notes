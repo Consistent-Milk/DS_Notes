{
 "cells": [
  {
   "attachments": {},
   "cell_type": "markdown",
   "metadata": {},
   "source": [
    "### Fundamental Concepts\n",
    "\n",
    "1. Functions and the __def__ keyword\n",
    "\n",
    "2. Programming Concept - __DRY__(Don't Repeat Yourself)\n",
    "\n",
    "3. Importance of __type annotation__ in function definitions"
   ]
  },
  {
   "attachments": {},
   "cell_type": "markdown",
   "metadata": {},
   "source": [
    "### Python Core Data Types"
   ]
  },
  {
   "attachments": {},
   "cell_type": "markdown",
   "metadata": {},
   "source": [
    "1. Numbers\n",
    "\n",
    "2. Strings\n",
    "\n",
    "3. List\n",
    "\n",
    "4. Tuple\n",
    "\n",
    "5. Set\n",
    "\n",
    "6. Dictionary\n",
    "\n",
    "7. Files\n",
    "\n",
    "8. Boolean\n",
    "\n",
    "+Some others .... "
   ]
  },
  {
   "attachments": {},
   "cell_type": "markdown",
   "metadata": {},
   "source": [
    "### Section 1: Numbers, Strings, 'type', 'def', 'try-except-finally'"
   ]
  },
  {
   "attachments": {},
   "cell_type": "markdown",
   "metadata": {},
   "source": [
    "In python every core 'data type' is actually implemented as a 'class', which we will cover later on. Basically, whenever we assign an integer or real number to a variable name we create an __instance__ of a class.\n",
    "\n",
    "An instance of a class is called 'object'. As stated earlier, we will get back to what 'class' and 'object' is later on after becoming more familiar with basic syntax of python."
   ]
  },
  {
   "cell_type": "code",
   "execution_count": 1,
   "metadata": {},
   "outputs": [
    {
     "name": "stdout",
     "output_type": "stream",
     "text": [
      "<class 'int'>\n",
      "<class 'float'>\n",
      "<class 'int'>\n",
      "<class 'type'>\n"
     ]
    }
   ],
   "source": [
    "# The 'type' keyword\n",
    "# After creating objects, we can use the 'type' function on it\n",
    "# and it will return us what type of class that object belongs to.\n",
    "\n",
    "# Creating objects and assigning them variable names\n",
    "a = 10\n",
    "b = 10.21\n",
    "\n",
    "# Storing the what type() returns in a variable\n",
    "result = type(a)\n",
    "\n",
    "print(type(a))\n",
    "print(type(b))\n",
    "print(result)\n",
    "\n",
    "# Interesting fact: 'type' of a 'type' returns a 'type' :'D\n",
    "print(type(result))"
   ]
  },
  {
   "cell_type": "code",
   "execution_count": 2,
   "metadata": {},
   "outputs": [
    {
     "name": "stdout",
     "output_type": "stream",
     "text": [
      "Addition of two integers\n",
      "<class 'int'>\n",
      "<class 'int'>\n",
      "<class 'int'>\n",
      "30\n",
      "\n",
      "Addition of an integer and a float object\n",
      "<class 'int'>\n",
      "<class 'float'>\n",
      "<class 'float'>\n",
      "20.21\n",
      "\n",
      "Attempting to add an integer and a string object\n",
      "<class 'int'>\n",
      "<class 'str'>\n"
     ]
    },
    {
     "ename": "TypeError",
     "evalue": "unsupported operand type(s) for +: 'int' and 'str'",
     "output_type": "error",
     "traceback": [
      "\u001b[1;31m---------------------------------------------------------------------------\u001b[0m",
      "\u001b[1;31mTypeError\u001b[0m                                 Traceback (most recent call last)",
      "Cell \u001b[1;32mIn [2], line 32\u001b[0m\n\u001b[0;32m     30\u001b[0m \u001b[39mprint\u001b[39m(\u001b[39mtype\u001b[39m(a))\n\u001b[0;32m     31\u001b[0m \u001b[39mprint\u001b[39m(\u001b[39mtype\u001b[39m(b))\n\u001b[1;32m---> 32\u001b[0m result \u001b[39m=\u001b[39m a \u001b[39m+\u001b[39;49m b\n",
      "\u001b[1;31mTypeError\u001b[0m: unsupported operand type(s) for +: 'int' and 'str'"
     ]
    }
   ],
   "source": [
    "# In this cell we will try to use the addition operator between different objects\n",
    "# The addition operator '+' is a binary operator and requires two inputs, and returns\n",
    "# a single output.\n",
    "\n",
    "print(\"Addition of two integers\")\n",
    "a = 10\n",
    "b = 20\n",
    "result = a + b\n",
    "print(type(a))\n",
    "print(type(b)) \n",
    "print(type(result))\n",
    "print(result)\n",
    "print(\"\")\n",
    "\n",
    "print(\"Addition of an integer and a float object\")\n",
    "a = 10\n",
    "b = 10.21\n",
    "result = 10 + 10.21\n",
    "print(type(a))\n",
    "print(type(b))\n",
    "print(type(result))\n",
    "print(result)\n",
    "print(\"\")\n",
    "\n",
    "# Line 31 will cause an error to occur\n",
    "# as we cannot add an integer object to a string object\n",
    "print(\"Attempting to add an integer and a string object\")\n",
    "a = 2\n",
    "b = 'My Name'\n",
    "print(type(a))\n",
    "print(type(b))\n",
    "result = a + b"
   ]
  },
  {
   "cell_type": "code",
   "execution_count": null,
   "metadata": {},
   "outputs": [
    {
     "name": "stdout",
     "output_type": "stream",
     "text": [
      "<class 'int'>\n",
      "<class 'str'>\n",
      "<class 'str'>\n",
      "My Name My Name \n"
     ]
    }
   ],
   "source": [
    "# But we can multiply a string object by an integer object\n",
    "# the resulting object will be a string created from the\n",
    "# passed on string object but repeated same\n",
    "# number of times as the integer object and concatenated together\n",
    "a = 2\n",
    "b = \"My Name \"\n",
    "result = a * b\n",
    "\n",
    "print(type(a))\n",
    "print(type(b))\n",
    "print(type(result))\n",
    "print(result)"
   ]
  },
  {
   "cell_type": "code",
   "execution_count": null,
   "metadata": {},
   "outputs": [],
   "source": [
    "# Applying DRY to the previous cells\n",
    "# As we can see we did the same thing several times\n",
    "# and to do that we wrote the same type of code several\n",
    "# times, that is, we repeated ourselves. This is not a\n",
    "# good practice. Instead we can just write a reusable function in this case.\n",
    "\n",
    "def dry(a: int | float | str, b: int | float | str) -> int | float | str:\n",
    "    a_type = type(a)\n",
    "    b_type = type(b)\n",
    "    print(f\"Attempting to add {a_type} and {b_type} object\")\n",
    "    print(f\"Type of the first parameter is: {a_type}\")\n",
    "    print(f\"Type of the second parameter is: {b_type}\")\n",
    "\n",
    "    result = a + b\n",
    "\n",
    "    print(f\"The type of the result of adding the given two objects is: {type(result)}\")\n",
    "    print(f\"The result of adding is: {result}\")\n"
   ]
  },
  {
   "cell_type": "code",
   "execution_count": null,
   "metadata": {},
   "outputs": [
    {
     "name": "stdout",
     "output_type": "stream",
     "text": [
      "Attempting to add <class 'int'> and <class 'float'> object\n",
      "Type of the first parameter is: <class 'int'>\n",
      "Type of the second parameter is: <class 'float'>\n",
      "The type of the result of adding the given two objects is: <class 'float'>\n",
      "The result of adding is: 20.21\n"
     ]
    }
   ],
   "source": [
    "a = 10\n",
    "b = 10.21\n",
    "dry(a, b)"
   ]
  },
  {
   "cell_type": "code",
   "execution_count": 3,
   "metadata": {},
   "outputs": [
    {
     "ename": "NameError",
     "evalue": "name 'dry' is not defined",
     "output_type": "error",
     "traceback": [
      "\u001b[1;31m---------------------------------------------------------------------------\u001b[0m",
      "\u001b[1;31mNameError\u001b[0m                                 Traceback (most recent call last)",
      "Cell \u001b[1;32mIn [3], line 7\u001b[0m\n\u001b[0;32m      5\u001b[0m a \u001b[39m=\u001b[39m \u001b[39m2\u001b[39m\n\u001b[0;32m      6\u001b[0m b \u001b[39m=\u001b[39m \u001b[39m\"\u001b[39m\u001b[39mMy Name\u001b[39m\u001b[39m\"\u001b[39m\n\u001b[1;32m----> 7\u001b[0m dry(a, b)\n\u001b[0;32m      9\u001b[0m \u001b[39mprint\u001b[39m(\u001b[39m\"\u001b[39m\u001b[39mProgram will not reach this line\u001b[39m\u001b[39m\"\u001b[39m)\n",
      "\u001b[1;31mNameError\u001b[0m: name 'dry' is not defined"
     ]
    }
   ],
   "source": [
    "# We still have a problem\n",
    "# Using the dry function for cases where an error occurs\n",
    "# casues our program to stop executing at that line\n",
    "# causing our program to stop at line 7 and not move on to line 9\n",
    "a = 2\n",
    "b = \"My Name\"\n",
    "dry(a, b)\n",
    "\n",
    "print(\"Program will not reach this line\")"
   ]
  },
  {
   "cell_type": "code",
   "execution_count": 4,
   "metadata": {},
   "outputs": [],
   "source": [
    "# Rewriting the 'dry' function so that it doesn't stop our program\n",
    "# if an error occurs\n",
    "\n",
    "def dry_better(a: int | float | str, b: int | float | str) -> int | float | str:\n",
    "    # Put the whole code inside a 'try' block\n",
    "    # this will try to run the code\n",
    "    # but if an exception or error occurs it will move onto\n",
    "    # the 'except' block\n",
    "    try:\n",
    "        a_type = type(a)\n",
    "        b_type = type(b)\n",
    "        print(f\"Attempting to add {a_type} and {b_type} object\")\n",
    "        print(f\"Type of the first parameter is: {a_type}\")\n",
    "        print(f\"Type of the second parameter is: {b_type}\")\n",
    "\n",
    "        result = a + b\n",
    "\n",
    "        print(f\"The type of the result of adding the given two objects is: {type(result)}\")\n",
    "        print(f\"The result of adding is: {result}\")\n",
    "\n",
    "    # Do nothing in the except block, the 'pass' keyword simply does nothing\n",
    "    except:\n",
    "        pass\n",
    "\n",
    "    # Pass through the 'except' block and run the code in 'finally' block if an exception occurred\n",
    "    finally:\n",
    "        print(f\"You cannot add {a_type} and {b_type}\")"
   ]
  },
  {
   "cell_type": "code",
   "execution_count": 5,
   "metadata": {},
   "outputs": [
    {
     "name": "stdout",
     "output_type": "stream",
     "text": [
      "Attempting to add <class 'int'> and <class 'str'> object\n",
      "Type of the first parameter is: <class 'int'>\n",
      "Type of the second parameter is: <class 'str'>\n",
      "You cannot add <class 'int'> and <class 'str'>\n",
      "Program will reach this line\n"
     ]
    }
   ],
   "source": [
    "a = 2\n",
    "b = \"My Name\"\n",
    "dry_better(a, b)\n",
    "\n",
    "print(\"Program will reach this line\")"
   ]
  },
  {
   "attachments": {},
   "cell_type": "markdown",
   "metadata": {},
   "source": [
    "### Section 2: Basic Class Syntax and a Deeper look at Strings, Function arguments, Type Annotation"
   ]
  },
  {
   "attachments": {},
   "cell_type": "markdown",
   "metadata": {},
   "source": [
    "Strings are 'objects' created from the class 'str'. Python classes have attributes, methods, special methods (dunder methods) and many other advanced things we will slowly try to understand.\n",
    "\n",
    "Here we will first implement a simple class, so that we can better understand what happens when create 'str' objects and use its methods, attributes and dunder methods."
   ]
  },
  {
   "cell_type": "code",
   "execution_count": 6,
   "metadata": {},
   "outputs": [],
   "source": [
    "class Employee:\n",
    "\n",
    "    # __init__ is our first dunder method (double underscore method)\n",
    "    # these special methods should never be called explicitly, instead\n",
    "    # they will be called implicitly by the Python Interpreter\n",
    "    # all methods(functions) of a class should refer to itself, by the\n",
    "    # keyword 'self'. \n",
    "    # We will see later on that there are exceptions to this\n",
    "    # case due to an advanced concept of staticmethods.\n",
    "    def __init__(self, name: str, salary: int) -> None:\n",
    "        self.name = name\n",
    "        self.salary = salary\n",
    "\n",
    "    # Here we are implementing an extra dunder method\n",
    "    # to show how these methods are supposed to be called\n",
    "    # by the Python interpreter\n",
    "    def __len__(self) -> int:\n",
    "        return len(self.name)\n",
    "\n",
    "    # This is a normal class function/method\n",
    "    # that simply raises an employee objects\n",
    "    # salary by a given amount\n",
    "    def give_a_raise(self, amount: int) -> None:\n",
    "        self.salary = self.salary + amount"
   ]
  },
  {
   "cell_type": "code",
   "execution_count": 7,
   "metadata": {},
   "outputs": [
    {
     "name": "stdout",
     "output_type": "stream",
     "text": [
      "<class '__main__.Employee'>\n"
     ]
    }
   ],
   "source": [
    "# The key idea of a 'class' is to combine data and logic together.\n",
    "# Another concept is that a 'class' can have as many instances as we want.\n",
    "\n",
    "# Here we create two instance/objects of the same class Employee\n",
    "# Here the python interpreter calls the __init__ method to initialize these classes\n",
    "employee_1 = Employee(name=\"Your Name\", salary=15000)\n",
    "employee_2 = Employee(name=\"Good Friend\", salary=20000)\n",
    "\n",
    "# We can check the type of employee objects \n",
    "print(type(employee_1))\n",
    "\n",
    "#The output is <class '__main__.Employee'>, but it doesn't show up on github"
   ]
  },
  {
   "cell_type": "code",
   "execution_count": 8,
   "metadata": {},
   "outputs": [
    {
     "name": "stdout",
     "output_type": "stream",
     "text": [
      "Your Name has the lowest salary, 15000\n",
      "Good Friend has higher salary, 20000\n",
      "9\n",
      "9\n"
     ]
    }
   ],
   "source": [
    "# We can access object attribute values using the dot(.) operator\n",
    "print(f\"{employee_1.name} has the lowest salary, {employee_1.salary}\")\n",
    "print(f\"{employee_2.name} has higher salary, {employee_2.salary}\")\n",
    "\n",
    "# Calling dunder methods explicitly is a bad practice and is prohibited in most cases\n",
    "print(employee_1.__len__())\n",
    "\n",
    "# Instead use this syntax\n",
    "print(len(employee_1))"
   ]
  },
  {
   "cell_type": "code",
   "execution_count": 9,
   "metadata": {},
   "outputs": [
    {
     "name": "stdout",
     "output_type": "stream",
     "text": [
      "Your Name doesn't have the lowest salary anymore: 45000\n"
     ]
    }
   ],
   "source": [
    "# Using class Methods\n",
    "employee_1.give_a_raise(30000)\n",
    "\n",
    "print(f\"{employee_1.name} doesn't have the lowest salary anymore: {employee_1.salary}\")"
   ]
  },
  {
   "attachments": {},
   "cell_type": "markdown",
   "metadata": {},
   "source": [
    "__The 'str' class__"
   ]
  },
  {
   "attachments": {},
   "cell_type": "markdown",
   "metadata": {},
   "source": [
    "The 'str' class is special in python, as it is a core data type. Creating an instance of this class is hence completely \n",
    "handled by the interpreter."
   ]
  },
  {
   "cell_type": "code",
   "execution_count": 10,
   "metadata": {},
   "outputs": [
    {
     "name": "stdout",
     "output_type": "stream",
     "text": [
      "<class 'str'>\n"
     ]
    }
   ],
   "source": [
    "my_name = \"My Name\"\n",
    "print(type(my_name))\n",
    "\n",
    "# The output is | <class 'str'> |, but it doesn't show up on github"
   ]
  },
  {
   "cell_type": "code",
   "execution_count": 11,
   "metadata": {},
   "outputs": [
    {
     "name": "stdout",
     "output_type": "stream",
     "text": [
      "The length of my_name is: 7\n"
     ]
    }
   ],
   "source": [
    "# Calling len function\n",
    "print(f\"The length of my_name is: {len(my_name)}\") "
   ]
  },
  {
   "cell_type": "code",
   "execution_count": 16,
   "metadata": {},
   "outputs": [
    {
     "name": "stdout",
     "output_type": "stream",
     "text": [
      "My name\n",
      "My Name\n",
      "1\n"
     ]
    }
   ],
   "source": [
    "# Calling some methods of this 'str' object\n",
    "\n",
    "# Capitalize only the first letter\n",
    "print(my_name.capitalize())\n",
    "\n",
    "# 'Titlecase' the string object\n",
    "print(my_name.title())\n",
    "\n",
    "# Count the number of occurences of a specific letter\n",
    "print(my_name.count(\"m\"))"
   ]
  }
 ],
 "metadata": {
  "kernelspec": {
   "display_name": "deep",
   "language": "python",
   "name": "python3"
  },
  "language_info": {
   "codemirror_mode": {
    "name": "ipython",
    "version": 3
   },
   "file_extension": ".py",
   "mimetype": "text/x-python",
   "name": "python",
   "nbconvert_exporter": "python",
   "pygments_lexer": "ipython3",
   "version": "3.10.8 | packaged by conda-forge | (main, Nov 24 2022, 14:07:00) [MSC v.1916 64 bit (AMD64)]"
  },
  "orig_nbformat": 4,
  "vscode": {
   "interpreter": {
    "hash": "750b0b0bcdd9fe2e206a310bba2895779907b3630475ba10ada1c3aa2da185e2"
   }
  }
 },
 "nbformat": 4,
 "nbformat_minor": 2
}
