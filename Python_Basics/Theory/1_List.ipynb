{
 "cells": [
  {
   "attachments": {},
   "cell_type": "markdown",
   "metadata": {},
   "source": [
    "### List\n",
    "\n",
    "List is a core data type, but it is actually more of a data container. \n",
    "\n",
    "In more detailed terms, a python list is a ordered and mutable data container, that can contain any kind of data type together in the same instance."
   ]
  },
  {
   "cell_type": "code",
   "execution_count": 5,
   "metadata": {},
   "outputs": [
    {
     "name": "stdout",
     "output_type": "stream",
     "text": [
      "[1, 2, 3, 'One', 'Two', 'Three', 1.2, 1.3, 2.4, [1, 2, 3]]\n",
      "[1, 2, 3, 'One', 'Two', 'Three']\n",
      "[0, 1, 2, 3, 4, 5, 6, 7, 8, 9]\n"
     ]
    }
   ],
   "source": [
    "# Creating List instances, a list can contain multiple types of objects, even nested lists\n",
    "\n",
    "list_1 = [1 , 2, 3, \"One\", \"Two\", \"Three\", 1.2, 1.3, 2.4, [1, 2, 3]]\n",
    "list_2 = list([1 , 2, 3, \"One\", \"Two\", \"Three\"])\n",
    "\n",
    "# Combining range function \n",
    "list_3 = list(range(10))\n",
    "\n",
    "print(list_1)\n",
    "print(list_2)\n",
    "print(list_3)"
   ]
  },
  {
   "cell_type": "code",
   "execution_count": 7,
   "metadata": {},
   "outputs": [
    {
     "name": "stdout",
     "output_type": "stream",
     "text": [
      "[1, 2, 300, 'One', 'Two', 'Three', 1.2, 1.3, 2.4, [1, 2, 3]]\n",
      "[1, 2, 300, 'One', 'Two', 'Three', 1.2, 1.3, 2.4, [1, 2, 3]]\n"
     ]
    }
   ],
   "source": [
    "# We can access elements of a list using [] operator\n",
    "\n",
    "print(list_1)\n",
    "\n",
    "# List are mutable, i.e., we can change the values of a specific index using the assignment operator '='\n",
    "list_1[2] = 300\n",
    "\n",
    "print(list_1)"
   ]
  },
  {
   "cell_type": "code",
   "execution_count": 8,
   "metadata": {},
   "outputs": [
    {
     "name": "stdout",
     "output_type": "stream",
     "text": [
      "1\n",
      "2\n",
      "300\n",
      "One\n",
      "Two\n",
      "Three\n",
      "1.2\n",
      "1.3\n",
      "2.4\n",
      "[1, 2, 3]\n"
     ]
    }
   ],
   "source": [
    "# Methods of traversing a list\n",
    "\n",
    "# Using the fact that a list is derived from the abstract base class 'sequence', \n",
    "# we can iterate through it without using any other function like 'range' \n",
    "# or 'enumerate'. We will get back to what a 'sequence' is and \n",
    "# how to implement custom 'sequence' classes later on.\n",
    "\n",
    "for value in list_1:\n",
    "    print(value)"
   ]
  },
  {
   "cell_type": "code",
   "execution_count": 9,
   "metadata": {},
   "outputs": [
    {
     "name": "stdout",
     "output_type": "stream",
     "text": [
      "Index: 0, Value: 1\n",
      "Index: 1, Value: 2\n",
      "Index: 2, Value: 300\n",
      "Index: 3, Value: One\n",
      "Index: 4, Value: Two\n",
      "Index: 5, Value: Three\n",
      "Index: 6, Value: 1.2\n",
      "Index: 7, Value: 1.3\n",
      "Index: 8, Value: 2.4\n",
      "Index: 9, Value: [1, 2, 3]\n"
     ]
    }
   ],
   "source": [
    "# We can also use enumerate\n",
    "for index, value in enumerate(list_1):\n",
    "    print(f\"Index: {index}, Value: {value}\")"
   ]
  },
  {
   "cell_type": "code",
   "execution_count": 10,
   "metadata": {},
   "outputs": [
    {
     "name": "stdout",
     "output_type": "stream",
     "text": [
      "Index: 0, Value: 1\n",
      "Index: 1, Value: 2\n",
      "Index: 2, Value: 300\n",
      "Index: 3, Value: One\n",
      "Index: 4, Value: Two\n",
      "Index: 5, Value: Three\n",
      "Index: 6, Value: 1.2\n",
      "Index: 7, Value: 1.3\n",
      "Index: 8, Value: 2.4\n",
      "Index: 9, Value: [1, 2, 3]\n"
     ]
    }
   ],
   "source": [
    "# We can also use range (not recommended for most cases)\n",
    "for i in range(len(list_1)):\n",
    "    print(f\"Index: {i}, Value: {list_1[i]}\")"
   ]
  },
  {
   "attachments": {},
   "cell_type": "markdown",
   "metadata": {},
   "source": [
    "### Using list to create and manipulate matrices"
   ]
  },
  {
   "cell_type": "code",
   "execution_count": 15,
   "metadata": {},
   "outputs": [
    {
     "name": "stdout",
     "output_type": "stream",
     "text": [
      "Accessing row 0, and column 0\n",
      "Accessing row 0, and column 1\n",
      "Accessing row 0, and column 2\n",
      "Accessing row 1, and column 0\n",
      "Accessing row 1, and column 1\n",
      "Accessing row 1, and column 2\n",
      "Accessing row 2, and column 0\n",
      "Accessing row 2, and column 1\n",
      "Accessing row 2, and column 2\n",
      "\n",
      "The result of A + B is: [[2, 3, 4], [5, 6, 7], [8, 9, 10]]\n"
     ]
    }
   ],
   "source": [
    "# This is a list of lists that can also be used as a matrix\n",
    "A = [[1, 2, 3], [4, 5, 6], [7, 8, 9]]\n",
    "B = [[1, 1, 1], [1, 1, 1], [1, 1, 1]]\n",
    "\n",
    "# C is a zero matrix where we will store the result of our addition\n",
    "C = [[0, 0, 0], [0, 0, 0], [0, 0, 0]]\n",
    "\n",
    "# We will implement a nested for loop to imitate matrix addition, C = A + B\n",
    "\n",
    "for i, _ in enumerate(A):\n",
    "    for j, _ in enumerate(B):\n",
    "        # Remember that python uses zero-indexing\n",
    "        # so 0th row is the 1st row and 0th column is the first column\n",
    "        print(f\"Accessing row {i}, and column {j}\")\n",
    "        C[i][j] = A[i][j] + B[i][j]\n",
    "\n",
    "# \\n is a escape character to start printing in a new line instead of the line we are currently at\n",
    "print(f\"\\nThe result of A + B is: {C}\")"
   ]
  },
  {
   "attachments": {},
   "cell_type": "markdown",
   "metadata": {},
   "source": [
    "### List Class Methods"
   ]
  },
  {
   "cell_type": "code",
   "execution_count": 4,
   "metadata": {},
   "outputs": [
    {
     "name": "stdout",
     "output_type": "stream",
     "text": [
      "[29, 97, 60, 92, 96, 19, 5, 97, 12, 60, 14, 37, 99, 1, 98, 66, 52, 33, 61, 34, 21, 1, 9, 32, 43, 38, 97, 63, 100, 27, 79, 27, 58, 6, 27, 3, 93, 100, 21, 75, 84, 59, 19, 16, 10, 10, 41, 26, 51, 88, 20, 96, 29, 90, 87, 52, 52, 38, 9, 82, 36, 1, 2, 17, 36, 65, 25, 74, 58, 63, 38, 49, 2, 87, 95, 59, 34, 84, 3, 40, 27, 54, 62, 48, 72, 95, 40, 45, 59, 1, 86, 8, 62, 40, 99, 1, 15, 61, 26, 30]\n"
     ]
    }
   ],
   "source": [
    "# Using the Standard Library 'random'\n",
    "import random\n",
    "\n",
    "# We will often use the random library to produce\n",
    "# random values, but keep in mind that this\n",
    "# library uses an algorithm based on mersenne prime twister\n",
    "# to generate the random values and is not safe \n",
    "# to use in applications where generating\n",
    "# random values is related to security\n",
    "\n",
    "l = []\n",
    "\n",
    "# Append 100 random values to 'l', random.randint(a, b)\n",
    "# returns a random value between a and b (inclusive)\n",
    "\n",
    "for _ in range(100):\n",
    "    l.append(random.randint(1, 100))\n",
    "\n",
    "print(l)"
   ]
  },
  {
   "cell_type": "code",
   "execution_count": 5,
   "metadata": {},
   "outputs": [
    {
     "name": "stdout",
     "output_type": "stream",
     "text": [
      "[1, 1, 1, 1, 1, 2, 2, 3, 3, 5, 6, 8, 9, 9, 10, 10, 12, 14, 15, 16, 17, 19, 19, 20, 21, 21, 25, 26, 26, 27, 27, 27, 27, 29, 29, 30, 32, 33, 34, 34, 36, 36, 37, 38, 38, 38, 40, 40, 40, 41, 43, 45, 48, 49, 51, 52, 52, 52, 54, 58, 58, 59, 59, 59, 60, 60, 61, 61, 62, 62, 63, 63, 65, 66, 72, 74, 75, 79, 82, 84, 84, 86, 87, 87, 88, 90, 92, 93, 95, 95, 96, 96, 97, 97, 97, 98, 99, 99, 100, 100]\n",
      "None\n"
     ]
    }
   ],
   "source": [
    "# Difference between calling 'sort()' class method and using 'sorted' function\n",
    "\n",
    "# This command doesn't return anything, and sorts the list in-line\n",
    "l.sort()\n",
    "print(l)\n",
    "\n",
    "# This is a common mistake, this assign None value to l as l.sort() returns None\n",
    "l = l.sort()\n",
    "print(l)"
   ]
  },
  {
   "cell_type": "code",
   "execution_count": 7,
   "metadata": {},
   "outputs": [
    {
     "name": "stdout",
     "output_type": "stream",
     "text": [
      "None\n"
     ]
    }
   ],
   "source": [
    "# Due to our mistake in the above cell, we have lost all data in 'l' \n",
    "print(l)"
   ]
  },
  {
   "cell_type": "code",
   "execution_count": 8,
   "metadata": {},
   "outputs": [
    {
     "name": "stdout",
     "output_type": "stream",
     "text": [
      "[99, 68, 50, 33, 51, 80, 80, 9, 23, 12, 43, 39, 33, 48, 81, 69, 94, 68, 13, 61, 75, 7, 12, 34, 61, 66, 7, 53, 4, 1, 19, 99, 27, 84, 63, 74, 41, 75, 19, 65, 65, 15, 2, 8, 35, 4, 92, 37, 65, 45, 60, 1, 15, 11, 55, 35, 36, 46, 46, 9, 97, 65, 22, 58, 9, 61, 83, 11, 60, 10, 72, 56, 18, 80, 49, 10, 64, 84, 73, 51, 77, 41, 14, 73, 27, 19, 83, 18, 53, 9, 64, 58, 88, 47, 58, 35, 21, 79, 24, 45]\n"
     ]
    }
   ],
   "source": [
    "# Store values in 'l' again\n",
    "l = []\n",
    "\n",
    "# The class method 'append' can be used to add data to\n",
    "# the end of a list. \n",
    "# \n",
    "# Append 100 random values to 'l', random.randint(a, b)\n",
    "# returns a random value between a and b (inclusive)\n",
    "\n",
    "for _ in range(100):\n",
    "    l.append(random.randint(1, 100))\n",
    "\n",
    "print(l)"
   ]
  },
  {
   "cell_type": "code",
   "execution_count": 10,
   "metadata": {},
   "outputs": [
    {
     "name": "stdout",
     "output_type": "stream",
     "text": [
      "[99, 68, 50, 33, 51, 80, 80, 9, 23, 12, 43, 39, 33, 48, 81, 69, 94, 68, 13, 61, 75, 7, 12, 34, 61, 66, 7, 53, 4, 1, 19, 99, 27, 84, 63, 74, 41, 75, 19, 65, 65, 15, 2, 8, 35, 4, 92, 37, 65, 45, 60, 1, 15, 11, 55, 35, 36, 46, 46, 9, 97, 65, 22, 58, 9, 61, 83, 11, 60, 10, 72, 56, 18, 80, 49, 10, 64, 84, 73, 51, 77, 41, 14, 73, 27, 19, 83, 18, 53, 9, 64, 58, 88, 47, 58, 35, 21, 79, 24, 45]\n",
      "[1, 1, 2, 4, 4, 7, 7, 8, 9, 9, 9, 9, 10, 10, 11, 11, 12, 12, 13, 14, 15, 15, 18, 18, 19, 19, 19, 21, 22, 23, 24, 27, 27, 33, 33, 34, 35, 35, 35, 36, 37, 39, 41, 41, 43, 45, 45, 46, 46, 47, 48, 49, 50, 51, 51, 53, 53, 55, 56, 58, 58, 58, 60, 60, 61, 61, 61, 63, 64, 64, 65, 65, 65, 65, 66, 68, 68, 69, 72, 73, 73, 74, 75, 75, 77, 79, 80, 80, 80, 81, 83, 83, 84, 84, 88, 92, 94, 97, 99, 99]\n",
      "[1, 1, 2, 4, 4, 7, 7, 8, 9, 9, 9, 9, 10, 10, 11, 11, 12, 12, 13, 14, 15, 15, 18, 18, 19, 19, 19, 21, 22, 23, 24, 27, 27, 33, 33, 34, 35, 35, 35, 36, 37, 39, 41, 41, 43, 45, 45, 46, 46, 47, 48, 49, 50, 51, 51, 53, 53, 55, 56, 58, 58, 58, 60, 60, 61, 61, 61, 63, 64, 64, 65, 65, 65, 65, 66, 68, 68, 69, 72, 73, 73, 74, 75, 75, 77, 79, 80, 80, 80, 81, 83, 83, 84, 84, 88, 92, 94, 97, 99, 99]\n"
     ]
    }
   ],
   "source": [
    "# Another method is to use the 'sorted' builtin function\n",
    "# This returns a copy of a sorted list 'l' but doesn't modify\n",
    "# l itself.\n",
    "l1 = sorted(l)\n",
    "print(l)\n",
    "print(l1)\n",
    "\n",
    "# We can assign sorted list to l itself, to change l in the same line\n",
    "\n",
    "l = sorted(l)\n",
    "print(l)"
   ]
  },
  {
   "cell_type": "code",
   "execution_count": 12,
   "metadata": {},
   "outputs": [],
   "source": [
    "# There are several other methods such as pop, insert, count, extend, remove etc\n",
    "# Learning these methods by yourself will help you learn the language faster.\n",
    "# If you have installed the python extension for vscode, then you will get autocomplete suggestions\n",
    "# and information about the methods after using the dot(.) operator\n"
   ]
  },
  {
   "cell_type": "code",
   "execution_count": null,
   "metadata": {},
   "outputs": [],
   "source": []
  }
 ],
 "metadata": {
  "kernelspec": {
   "display_name": "deep",
   "language": "python",
   "name": "python3"
  },
  "language_info": {
   "codemirror_mode": {
    "name": "ipython",
    "version": 3
   },
   "file_extension": ".py",
   "mimetype": "text/x-python",
   "name": "python",
   "nbconvert_exporter": "python",
   "pygments_lexer": "ipython3",
   "version": "3.10.8"
  },
  "orig_nbformat": 4,
  "vscode": {
   "interpreter": {
    "hash": "750b0b0bcdd9fe2e206a310bba2895779907b3630475ba10ada1c3aa2da185e2"
   }
  }
 },
 "nbformat": 4,
 "nbformat_minor": 2
}
