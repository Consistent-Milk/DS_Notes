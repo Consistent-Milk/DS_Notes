{
 "cells": [
  {
   "attachments": {},
   "cell_type": "markdown",
   "metadata": {},
   "source": [
    "### Combined usage of list and string data type"
   ]
  },
  {
   "cell_type": "code",
   "execution_count": 1,
   "metadata": {},
   "outputs": [
    {
     "data": {
      "text/plain": [
       "['This', 'is', 'a', 'string']"
      ]
     },
     "execution_count": 1,
     "metadata": {},
     "output_type": "execute_result"
    }
   ],
   "source": [
    "s = \"This is a string\"\n",
    "\n",
    "# s.split() creates a list of substrings\n",
    "# that are seperated by white spaces\n",
    "s.split()"
   ]
  },
  {
   "cell_type": "code",
   "execution_count": 5,
   "metadata": {},
   "outputs": [
    {
     "name": "stdout",
     "output_type": "stream",
     "text": [
      "['T', 'h', 'i', 's', ' ', 'i', 's', ' ', 'a', ' ', 's', 't', 'r', 'i', 'n', 'g']\n",
      "<class 'list'>\n"
     ]
    }
   ],
   "source": [
    "# To get all characters of a string in a list\n",
    "l = list(s)\n",
    "print(l)\n",
    "print(type(l))"
   ]
  },
  {
   "cell_type": "code",
   "execution_count": 6,
   "metadata": {},
   "outputs": [
    {
     "name": "stdout",
     "output_type": "stream",
     "text": [
      "This is a string\n",
      "<class 'str'>\n"
     ]
    }
   ],
   "source": [
    "# Using the join function to join a list to a string\n",
    "# Join elements of l as given\n",
    "s_joined = \"\".join(l)\n",
    "print(s_joined)\n",
    "print(type(s_joined))"
   ]
  },
  {
   "attachments": {},
   "cell_type": "markdown",
   "metadata": {},
   "source": [
    "### Deeper Knowledge of python 'list'"
   ]
  },
  {
   "attachments": {},
   "cell_type": "markdown",
   "metadata": {},
   "source": [
    "-> A python list is a very complex data structure that offers high flexibility and lets us perform very complex tasks easily, but at the cost of performance. As a list is a very complex data structure that can contain any data type and is mutable, it has to keep track of and work with a lot of memory addresses and pointers, making it very inefficient as a base for high performance numerical computation.  \n",
    "\n",
    "-> Furthermore a list can expand and shrink as demanded, hence it is a dynamic data structure that doesn't have a predefined size or shape.\n",
    "\n",
    "-> We will see in future projects that although a python 'list' lets us work on various problems quite easily, we will often have to stop using it and instead use the 'ndarray' object of numpy for large scale data processing and analysis."
   ]
  },
  {
   "cell_type": "code",
   "execution_count": 25,
   "metadata": {},
   "outputs": [],
   "source": [
    "# In the next few cells we will analyze how 'inefficient' the list data structure and the python language is.\n",
    "# Please don't think that this means that Python is a 'bad' or 'slow' language, instead what we will actually\n",
    "# learn from this is how seamlessly we can can make Python flexible or performant as necessary.\n",
    "# \n",
    "# The example we will look at here is very basic, we will add 100000 numbers starting from 1 and ending at 100000"
   ]
  },
  {
   "cell_type": "code",
   "execution_count": 28,
   "metadata": {},
   "outputs": [],
   "source": [
    "# Standard Library to help us benchmark performance\n",
    "import time\n",
    "# Third Party Library\n",
    "import numpy as np"
   ]
  },
  {
   "cell_type": "code",
   "execution_count": 30,
   "metadata": {},
   "outputs": [],
   "source": [
    "l = list(range(1, 10000001))\n",
    "nparray = np.array(l)"
   ]
  },
  {
   "cell_type": "code",
   "execution_count": 38,
   "metadata": {},
   "outputs": [
    {
     "name": "stdout",
     "output_type": "stream",
     "text": [
      "The for loop method runtime: 1172847300 nanosec\n"
     ]
    }
   ],
   "source": [
    "start = time.perf_counter_ns()\n",
    "\n",
    "s = 0\n",
    "for number in l:\n",
    "    s = s + number\n",
    "\n",
    "end = time.perf_counter_ns()\n",
    "\n",
    "print(f\"The for loop method runtime: {end - start} nanosec\")\n",
    "\n",
    "for_method = end - start"
   ]
  },
  {
   "cell_type": "code",
   "execution_count": 39,
   "metadata": {},
   "outputs": [
    {
     "name": "stdout",
     "output_type": "stream",
     "text": [
      "The sum method runtime: 306067100 nanosec\n"
     ]
    }
   ],
   "source": [
    "start = time.perf_counter_ns()\n",
    "\n",
    "sum(l)\n",
    "\n",
    "end = time.perf_counter_ns()\n",
    "\n",
    "print(f\"The sum method runtime: {end - start} nanosec\")\n",
    "\n",
    "sum_method = end - start"
   ]
  },
  {
   "cell_type": "code",
   "execution_count": 40,
   "metadata": {},
   "outputs": [
    {
     "name": "stdout",
     "output_type": "stream",
     "text": [
      "The np.sum method runtime: 6236000 nanosec\n"
     ]
    }
   ],
   "source": [
    "start = time.perf_counter_ns()\n",
    "\n",
    "np.sum(nparray)\n",
    "\n",
    "end = time.perf_counter_ns()\n",
    "\n",
    "print(f\"The np.sum method runtime: {end - start} nanosec\")\n",
    "\n",
    "npsum_method = end - start"
   ]
  },
  {
   "cell_type": "code",
   "execution_count": 42,
   "metadata": {},
   "outputs": [
    {
     "name": "stdout",
     "output_type": "stream",
     "text": [
      "The ratio of the benchmarks is: \n",
      "npsum : sum : for = 1 : 49.08 : 188.08\n"
     ]
    }
   ],
   "source": [
    "print(\"The ratio of the benchmarks is: \")\n",
    "print(f\"npsum : sum : for = {1} : {(sum_method/npsum_method):.2f} : {(for_method/npsum_method):.2f}\")"
   ]
  },
  {
   "cell_type": "code",
   "execution_count": null,
   "metadata": {},
   "outputs": [],
   "source": []
  }
 ],
 "metadata": {
  "kernelspec": {
   "display_name": "deep",
   "language": "python",
   "name": "python3"
  },
  "language_info": {
   "codemirror_mode": {
    "name": "ipython",
    "version": 3
   },
   "file_extension": ".py",
   "mimetype": "text/x-python",
   "name": "python",
   "nbconvert_exporter": "python",
   "pygments_lexer": "ipython3",
   "version": "3.10.8"
  },
  "orig_nbformat": 4,
  "vscode": {
   "interpreter": {
    "hash": "750b0b0bcdd9fe2e206a310bba2895779907b3630475ba10ada1c3aa2da185e2"
   }
  }
 },
 "nbformat": 4,
 "nbformat_minor": 2
}
