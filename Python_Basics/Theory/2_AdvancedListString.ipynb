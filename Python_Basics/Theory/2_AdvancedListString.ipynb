{
 "cells": [
  {
   "attachments": {},
   "cell_type": "markdown",
   "metadata": {},
   "source": [
    "### Combined usage of list and string data type"
   ]
  },
  {
   "cell_type": "code",
   "execution_count": 20,
   "metadata": {},
   "outputs": [
    {
     "data": {
      "text/plain": [
       "['This', 'is', 'a', 'string']"
      ]
     },
     "execution_count": 20,
     "metadata": {},
     "output_type": "execute_result"
    }
   ],
   "source": [
    "s = \"This is a string\"\n",
    "\n",
    "# s.split() creates a list of substrings\n",
    "# that are seperated by white spaces\n",
    "s.split()"
   ]
  },
  {
   "cell_type": "code",
   "execution_count": 21,
   "metadata": {},
   "outputs": [
    {
     "name": "stdout",
     "output_type": "stream",
     "text": [
      "['T', 'h', 'i', 's', ' ', 'i', 's', ' ', 'a', ' ', 's', 't', 'r', 'i', 'n', 'g']\n",
      "<class 'list'>\n"
     ]
    }
   ],
   "source": [
    "# To get all characters of a string in a list\n",
    "l = list(s)\n",
    "print(l)\n",
    "print(type(l))"
   ]
  },
  {
   "cell_type": "code",
   "execution_count": 22,
   "metadata": {},
   "outputs": [
    {
     "name": "stdout",
     "output_type": "stream",
     "text": [
      "This is a string\n",
      "<class 'str'>\n"
     ]
    }
   ],
   "source": [
    "# Using the join function to join a list to a string\n",
    "# Join elements of l as given\n",
    "s_joined = \"\".join(l)\n",
    "print(s_joined)\n",
    "print(type(s_joined))"
   ]
  },
  {
   "attachments": {},
   "cell_type": "markdown",
   "metadata": {},
   "source": [
    "### Deeper Knowledge of python 'list'"
   ]
  },
  {
   "attachments": {},
   "cell_type": "markdown",
   "metadata": {},
   "source": [
    "-> A python list is a very complex data structure that offers high flexibility and lets us perform very complex tasks easily, but at the cost of performance. As a list is a very complex data structure that can contain any data type and is mutable, it has to keep track of and work with a lot of memory addresses and pointers, making it very inefficient as a base for high performance numerical computation.  \n",
    "\n",
    "-> Furthermore a list can expand and shrink as demanded, hence it is a dynamic data structure that doesn't have a predefined size or shape.\n",
    "\n",
    "-> We will see in future projects that although a python 'list' lets us work on various problems quite easily, we will often have to stop using it and instead use the 'ndarray' object of numpy for large scale data processing and analysis."
   ]
  },
  {
   "cell_type": "code",
   "execution_count": 23,
   "metadata": {},
   "outputs": [],
   "source": [
    "# In the next few cells we will analyze how 'inefficient' the list data structure and the python language is.\n",
    "# Please don't think that this means that Python is a 'bad' or 'slow' language, instead what we will actually\n",
    "# learn from this is how seamlessly we can can make Python flexible or performant as necessary.\n",
    "# \n",
    "# The example we will look at here is very basic, we will add 1000000 numbers starting from 1 and ending at 1000000"
   ]
  },
  {
   "cell_type": "code",
   "execution_count": 24,
   "metadata": {},
   "outputs": [],
   "source": [
    "# Standard Library to help us benchmark performance\n",
    "import time\n",
    "# Third Party Library\n",
    "import numpy as np"
   ]
  },
  {
   "cell_type": "code",
   "execution_count": 25,
   "metadata": {},
   "outputs": [],
   "source": [
    "l = list(range(1, 10000001))\n",
    "nparray = np.array(l)"
   ]
  },
  {
   "cell_type": "code",
   "execution_count": 26,
   "metadata": {},
   "outputs": [
    {
     "name": "stdout",
     "output_type": "stream",
     "text": [
      "The for loop method runtime: 1192794800 nanosec\n"
     ]
    }
   ],
   "source": [
    "# Using a python for loop\n",
    "\n",
    "start = time.perf_counter_ns()\n",
    "\n",
    "s = 0\n",
    "for number in l:\n",
    "    s = s + number\n",
    "\n",
    "end = time.perf_counter_ns()\n",
    "\n",
    "print(f\"The for loop method runtime: {end - start} nanosec\")\n",
    "\n",
    "for_method = end - start"
   ]
  },
  {
   "cell_type": "code",
   "execution_count": 27,
   "metadata": {},
   "outputs": [
    {
     "name": "stdout",
     "output_type": "stream",
     "text": [
      "The sum method runtime: 316956100 nanosec\n"
     ]
    }
   ],
   "source": [
    "# Using built-in sum function provided by python\n",
    "\n",
    "start = time.perf_counter_ns()\n",
    "\n",
    "sum(l)\n",
    "\n",
    "end = time.perf_counter_ns()\n",
    "\n",
    "print(f\"The sum method runtime: {end - start} nanosec\")\n",
    "\n",
    "sum_method = end - start"
   ]
  },
  {
   "cell_type": "code",
   "execution_count": 28,
   "metadata": {},
   "outputs": [
    {
     "name": "stdout",
     "output_type": "stream",
     "text": [
      "The np.sum method runtime: 6113900 nanosec\n"
     ]
    }
   ],
   "source": [
    "# Using the sum function and ndarray object provided by the numpy library\n",
    "\n",
    "start = time.perf_counter_ns()\n",
    "\n",
    "np.sum(nparray)\n",
    "\n",
    "end = time.perf_counter_ns()\n",
    "\n",
    "print(f\"The np.sum method runtime: {end - start} nanosec\")\n",
    "\n",
    "npsum_method = end - start"
   ]
  },
  {
   "cell_type": "code",
   "execution_count": 29,
   "metadata": {},
   "outputs": [
    {
     "name": "stdout",
     "output_type": "stream",
     "text": [
      "The ratio of the benchmarks is: \n",
      "npsum : sum : for = 1 : 51.84 : 195.10\n"
     ]
    }
   ],
   "source": [
    "print(\"The ratio of the benchmarks is: \")\n",
    "print(f\"npsum : sum : for = {1} : {(sum_method/npsum_method):.2f} : {(for_method/npsum_method):.2f}\")"
   ]
  },
  {
   "cell_type": "code",
   "execution_count": 30,
   "metadata": {},
   "outputs": [],
   "source": [
    "# Boosting the performance of numpy\n",
    "# by using numba 'decorators'. A decorator\n",
    "# is an advanced concept, it is a function that\n",
    "# takes in a function and processes it. \n",
    "# We call decorators using the '@' operator and\n",
    "# write the decorator function name above a function\n",
    "# we want to decorate.\n",
    "\n",
    "import numba as nb\n",
    "\n",
    "@nb.njit()\n",
    "def nb_np_sum(a: np.ndarray) -> int:\n",
    "    return np.sum(a)"
   ]
  },
  {
   "cell_type": "code",
   "execution_count": 33,
   "metadata": {},
   "outputs": [
    {
     "name": "stdout",
     "output_type": "stream",
     "text": [
      "The np.sum method runtime: 2390600 nanosec\n"
     ]
    }
   ],
   "source": [
    "# Using the sum function and ndarray object provided by the numpy library\n",
    "# and boosting its performance further by using numba\n",
    "\n",
    "# We have to run a numba decorated function once before using it\n",
    "# as numba needs to compile the function during the first iteration\n",
    "# and thus when we use a numba function for the first time, it might\n",
    "# perform worse than others\n",
    "\n",
    "start = time.perf_counter_ns()\n",
    "\n",
    "nb_np_sum(nparray)\n",
    "\n",
    "end = time.perf_counter_ns()\n",
    "\n",
    "print(f\"The np.sum method runtime: {end - start} nanosec\")\n",
    "\n",
    "np_nb_sum_method = end - start"
   ]
  },
  {
   "cell_type": "code",
   "execution_count": 34,
   "metadata": {},
   "outputs": [
    {
     "name": "stdout",
     "output_type": "stream",
     "text": [
      "The ratio of the benchmarks is: \n",
      "np_nb_sum : npsum : sum : for = 1 : 2.56 : 132.58 : 498.95\n"
     ]
    }
   ],
   "source": [
    "print(\"The ratio of the benchmarks is: \")\n",
    "print(f\"np_nb_sum : npsum : sum : for = {1} : {(npsum_method/np_nb_sum_method):.2f} : {(sum_method/np_nb_sum_method):.2f} : {(for_method/np_nb_sum_method):.2f}\")"
   ]
  },
  {
   "attachments": {},
   "cell_type": "markdown",
   "metadata": {},
   "source": [
    "We can see that the core list data type combined with a python loop is on average 500 times slower than numpy and numba combined, even when running basic numerical computations. This performance loss may become more significant when working on more complex numerical computations."
   ]
  },
  {
   "attachments": {},
   "cell_type": "markdown",
   "metadata": {},
   "source": [
    "This doesn't mean that the list data structure provided by python is useless. It is actually really useful for analyzing and preprocessing large scale datasets. Especially datasets that contain strings, and mixed data types.\n",
    "\n",
    "Also, for a specialized branch of AI, Natural Language Processing(NLP), we will often have to work with a combination of list, string and dictionary objects. "
   ]
  },
  {
   "cell_type": "code",
   "execution_count": null,
   "metadata": {},
   "outputs": [],
   "source": []
  }
 ],
 "metadata": {
  "kernelspec": {
   "display_name": "nlp",
   "language": "python",
   "name": "python3"
  },
  "language_info": {
   "codemirror_mode": {
    "name": "ipython",
    "version": 3
   },
   "file_extension": ".py",
   "mimetype": "text/x-python",
   "name": "python",
   "nbconvert_exporter": "python",
   "pygments_lexer": "ipython3",
   "version": "3.10.8 | packaged by conda-forge | (main, Nov 22 2022, 08:16:33) [MSC v.1929 64 bit (AMD64)]"
  },
  "orig_nbformat": 4,
  "vscode": {
   "interpreter": {
    "hash": "1ebb7e558e7ed008a3dcfdee2b5ca375dec2770e0bacf690df687f28ca14f162"
   }
  }
 },
 "nbformat": 4,
 "nbformat_minor": 2
}
