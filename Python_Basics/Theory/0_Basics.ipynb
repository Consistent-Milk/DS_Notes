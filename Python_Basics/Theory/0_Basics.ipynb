{
 "cells": [
  {
   "attachments": {},
   "cell_type": "markdown",
   "metadata": {},
   "source": [
    "### Fundamental Concepts\n",
    "\n",
    "1. Functions and the __def__ keyword\n",
    "\n",
    "2. Programming Concept - __DRY__(Don't Repeat Yourself)\n",
    "\n",
    "3. Importance of __type annotation__ in function definitions"
   ]
  },
  {
   "attachments": {},
   "cell_type": "markdown",
   "metadata": {},
   "source": [
    "### Python Core Data Types"
   ]
  },
  {
   "attachments": {},
   "cell_type": "markdown",
   "metadata": {},
   "source": [
    "1. Numbers\n",
    "\n",
    "2. Strings\n",
    "\n",
    "3. List\n",
    "\n",
    "4. Tuple\n",
    "\n",
    "5. Set\n",
    "\n",
    "6. Dictionary\n",
    "\n",
    "7. Files\n",
    "\n",
    "8. Boolean\n",
    "\n",
    "+Some others .... "
   ]
  },
  {
   "attachments": {},
   "cell_type": "markdown",
   "metadata": {},
   "source": [
    "### Section 1: Numbers, Strings, 'type', 'def', 'try-except-finally'"
   ]
  },
  {
   "attachments": {},
   "cell_type": "markdown",
   "metadata": {},
   "source": [
    "In python every core 'data type' is actually implemented as a 'class', which we will cover later on. Basically, whenever we assign an integer or real number to a variable name we create an __instance__ of a class.\n",
    "\n",
    "An instance of a class is called 'object'. As stated earlier, we will get back to what 'class' and 'object' is later on after becoming more familiar with basic syntax of python."
   ]
  },
  {
   "attachments": {},
   "cell_type": "markdown",
   "metadata": {},
   "source": [
    "A class is like a blueprint. Anything created from a class is called an Object. "
   ]
  },
  {
   "cell_type": "code",
   "execution_count": 1,
   "metadata": {},
   "outputs": [],
   "source": [
    "from __future__ import annotations"
   ]
  },
  {
   "cell_type": "code",
   "execution_count": 2,
   "metadata": {},
   "outputs": [
    {
     "name": "stdout",
     "output_type": "stream",
     "text": [
      "class 'int'\n",
      "class 'float'\n",
      "class 'type'\n",
      "class 'type'\n"
     ]
    }
   ],
   "source": [
    "# The 'type' keyword\n",
    "# After creating objects, we can use the 'type' function on it\n",
    "# and it will return us what type of class that object belongs to.\n",
    "\n",
    "# Creating objects and assigning them variable names\n",
    "a = 10\n",
    "b = 10.21\n",
    "\n",
    "# Storing the what type() returns in a variable\n",
    "result = type(a)\n",
    "\n",
    "print(str(type(a)).replace(\"<\", \"\").replace(\">\", \"\"))\n",
    "print(str(type(b)).replace(\"<\", \"\").replace(\">\", \"\"))\n",
    "print(str(type(result)).replace(\"<\", \"\").replace(\">\", \"\"))\n",
    "\n",
    "# Interesting fact: 'type' of a 'type' returns a 'type' :'D\n",
    "print(str(type(result)).replace(\"<\", \"\").replace(\">\", \"\"))"
   ]
  },
  {
   "cell_type": "code",
   "execution_count": 3,
   "metadata": {},
   "outputs": [
    {
     "name": "stdout",
     "output_type": "stream",
     "text": [
      "Addition of two integers\n",
      "class 'int'\n",
      "class 'int'\n",
      "class 'int'\n",
      "30\n",
      "\n",
      "Addition of an integer and a float object\n",
      "class 'int'\n",
      "class 'float'\n",
      "class 'float'\n",
      "20.21\n",
      "\n",
      "Attempting to add an integer and a string object\n",
      "class 'int'\n",
      "class 'str'\n"
     ]
    },
    {
     "ename": "TypeError",
     "evalue": "unsupported operand type(s) for +: 'int' and 'str'",
     "output_type": "error",
     "traceback": [
      "\u001b[1;31m---------------------------------------------------------------------------\u001b[0m",
      "\u001b[1;31mTypeError\u001b[0m                                 Traceback (most recent call last)",
      "Cell \u001b[1;32mIn [3], line 32\u001b[0m\n\u001b[0;32m     30\u001b[0m \u001b[39mprint\u001b[39m(\u001b[39mstr\u001b[39m(\u001b[39mtype\u001b[39m(a))\u001b[39m.\u001b[39mreplace(\u001b[39m\"\u001b[39m\u001b[39m<\u001b[39m\u001b[39m\"\u001b[39m, \u001b[39m\"\u001b[39m\u001b[39m\"\u001b[39m)\u001b[39m.\u001b[39mreplace(\u001b[39m\"\u001b[39m\u001b[39m>\u001b[39m\u001b[39m\"\u001b[39m, \u001b[39m\"\u001b[39m\u001b[39m\"\u001b[39m))\n\u001b[0;32m     31\u001b[0m \u001b[39mprint\u001b[39m(\u001b[39mstr\u001b[39m(\u001b[39mtype\u001b[39m(b))\u001b[39m.\u001b[39mreplace(\u001b[39m\"\u001b[39m\u001b[39m<\u001b[39m\u001b[39m\"\u001b[39m, \u001b[39m\"\u001b[39m\u001b[39m\"\u001b[39m)\u001b[39m.\u001b[39mreplace(\u001b[39m\"\u001b[39m\u001b[39m>\u001b[39m\u001b[39m\"\u001b[39m, \u001b[39m\"\u001b[39m\u001b[39m\"\u001b[39m))\n\u001b[1;32m---> 32\u001b[0m result \u001b[39m=\u001b[39m a \u001b[39m+\u001b[39;49m b\n",
      "\u001b[1;31mTypeError\u001b[0m: unsupported operand type(s) for +: 'int' and 'str'"
     ]
    }
   ],
   "source": [
    "# In this cell we will try to use the addition operator between different objects\n",
    "# The addition operator '+' is a binary operator and requires two inputs, and returns\n",
    "# a single output.\n",
    "\n",
    "print(\"Addition of two integers\")\n",
    "a = 10\n",
    "b = 20\n",
    "result = a + b\n",
    "print(str(type(a)).replace(\"<\", \"\").replace(\">\", \"\"))\n",
    "print(str(type(b)).replace(\"<\", \"\").replace(\">\", \"\"))\n",
    "print(str(type(result)).replace(\"<\", \"\").replace(\">\", \"\"))\n",
    "print(result)\n",
    "print(\"\")\n",
    "\n",
    "print(\"Addition of an integer and a float object\")\n",
    "a = 10\n",
    "b = 10.21\n",
    "result = 10 + 10.21\n",
    "print(str(type(a)).replace(\"<\", \"\").replace(\">\", \"\"))\n",
    "print(str(type(b)).replace(\"<\", \"\").replace(\">\", \"\"))\n",
    "print(str(type(result)).replace(\"<\", \"\").replace(\">\", \"\"))\n",
    "print(result)\n",
    "print(\"\")\n",
    "\n",
    "# Line 31 will cause an error to occur\n",
    "# as we cannot add an integer object to a string object\n",
    "print(\"Attempting to add an integer and a string object\")\n",
    "a = 2\n",
    "b = 'My Name'\n",
    "print(str(type(a)).replace(\"<\", \"\").replace(\">\", \"\"))\n",
    "print(str(type(b)).replace(\"<\", \"\").replace(\">\", \"\"))\n",
    "result = a + b"
   ]
  },
  {
   "cell_type": "code",
   "execution_count": 17,
   "metadata": {},
   "outputs": [
    {
     "name": "stdout",
     "output_type": "stream",
     "text": [
      "class 'int'\n",
      "class 'str'\n",
      "class 'str'\n",
      "My Name My Name \n"
     ]
    }
   ],
   "source": [
    "# But we can multiply a string object by an integer object\n",
    "# the resulting object will be a string created from the\n",
    "# passed on string object but repeated same\n",
    "# number of times as the integer object and concatenated together\n",
    "a = 2\n",
    "b = \"My Name \"\n",
    "result = a * b\n",
    "\n",
    "print(str(type(a)).replace(\"<\", \"\").replace(\">\", \"\"))\n",
    "print(str(type(b)).replace(\"<\", \"\").replace(\">\", \"\"))\n",
    "print(str(type(result)).replace(\"<\", \"\").replace(\">\", \"\"))\n",
    "print(result)"
   ]
  },
  {
   "cell_type": "code",
   "execution_count": 15,
   "metadata": {},
   "outputs": [],
   "source": [
    "# Applying DRY to the previous cells\n",
    "# As we can see we did the same thing several times\n",
    "# and to do that we wrote the same type of code several\n",
    "# times, that is, we repeated ourselves. This is not a\n",
    "# good practice. Instead we can just write a reusable function in this case.\n",
    "\n",
    "# def function_name(parameter_name_1: parameter_type(input)) -> return_value: parameter_type(output):\n",
    "    # Statements\n",
    "\n",
    "# Type Annotation is completely optional in Python\n",
    "def dry(a: int | float | str, b: int | float | str) -> int | float | str:\n",
    "    a_type = str(type(a)).replace(\"<\", \"|\").replace(\">\", \"|\")\n",
    "    b_type = str(type(a)).replace(\"<\", \"|\").replace(\">\", \"|\")\n",
    "    print(f\"Attempting to add {a_type} and {b_type} object\")\n",
    "    print(f\"Type of the first parameter is: {a_type}\")\n",
    "    print(f\"Type of the second parameter is: {b_type}\")\n",
    "\n",
    "    result = a + b\n",
    "    result_type = str(type(result)).replace(\"<\", \"|\").replace(\">\", \"|\")\n",
    "    print(f\"The type of the result of adding the given two objects is: {result_type}\")\n",
    "    print(f\"The result of adding is: {result}\")\n",
    "\n",
    "    return result"
   ]
  },
  {
   "cell_type": "code",
   "execution_count": 16,
   "metadata": {},
   "outputs": [
    {
     "name": "stdout",
     "output_type": "stream",
     "text": [
      "Attempting to add |class 'int'| and |class 'int'| object\n",
      "Type of the first parameter is: |class 'int'|\n",
      "Type of the second parameter is: |class 'int'|\n",
      "The type of the result of adding the given two objects is: |class 'float'|\n",
      "The result of adding is: 20.21\n"
     ]
    },
    {
     "data": {
      "text/plain": [
       "20.21"
      ]
     },
     "execution_count": 16,
     "metadata": {},
     "output_type": "execute_result"
    }
   ],
   "source": [
    "a = 10\n",
    "b = 10.21\n",
    "dry(a, b)"
   ]
  },
  {
   "cell_type": "code",
   "execution_count": 6,
   "metadata": {},
   "outputs": [
    {
     "name": "stdout",
     "output_type": "stream",
     "text": [
      "Attempting to add class 'int' and class 'int' object\n",
      "Type of the first parameter is: class 'int'\n",
      "Type of the second parameter is: class 'int'\n"
     ]
    },
    {
     "ename": "TypeError",
     "evalue": "unsupported operand type(s) for +: 'int' and 'str'",
     "output_type": "error",
     "traceback": [
      "\u001b[1;31m---------------------------------------------------------------------------\u001b[0m",
      "\u001b[1;31mTypeError\u001b[0m                                 Traceback (most recent call last)",
      "Cell \u001b[1;32mIn [6], line 7\u001b[0m\n\u001b[0;32m      5\u001b[0m a \u001b[39m=\u001b[39m \u001b[39m2\u001b[39m\n\u001b[0;32m      6\u001b[0m b \u001b[39m=\u001b[39m \u001b[39m\"\u001b[39m\u001b[39mMy Name\u001b[39m\u001b[39m\"\u001b[39m\n\u001b[1;32m----> 7\u001b[0m dry(a, b)\n\u001b[0;32m      9\u001b[0m \u001b[39mprint\u001b[39m(\u001b[39m\"\u001b[39m\u001b[39mProgram will not reach this line\u001b[39m\u001b[39m\"\u001b[39m)\n",
      "Cell \u001b[1;32mIn [4], line 18\u001b[0m, in \u001b[0;36mdry\u001b[1;34m(a, b)\u001b[0m\n\u001b[0;32m     15\u001b[0m \u001b[39mprint\u001b[39m(\u001b[39mf\u001b[39m\u001b[39m\"\u001b[39m\u001b[39mType of the first parameter is: \u001b[39m\u001b[39m{\u001b[39;00ma_type\u001b[39m}\u001b[39;00m\u001b[39m\"\u001b[39m)\n\u001b[0;32m     16\u001b[0m \u001b[39mprint\u001b[39m(\u001b[39mf\u001b[39m\u001b[39m\"\u001b[39m\u001b[39mType of the second parameter is: \u001b[39m\u001b[39m{\u001b[39;00mb_type\u001b[39m}\u001b[39;00m\u001b[39m\"\u001b[39m)\n\u001b[1;32m---> 18\u001b[0m result \u001b[39m=\u001b[39m a \u001b[39m+\u001b[39;49m b\n\u001b[0;32m     19\u001b[0m result_type \u001b[39m=\u001b[39m \u001b[39mstr\u001b[39m(\u001b[39mtype\u001b[39m(result))\u001b[39m.\u001b[39mreplace(\u001b[39m\"\u001b[39m\u001b[39m<\u001b[39m\u001b[39m\"\u001b[39m, \u001b[39m\"\u001b[39m\u001b[39m\"\u001b[39m)\u001b[39m.\u001b[39mreplace(\u001b[39m\"\u001b[39m\u001b[39m>\u001b[39m\u001b[39m\"\u001b[39m, \u001b[39m\"\u001b[39m\u001b[39m\"\u001b[39m)\n\u001b[0;32m     20\u001b[0m \u001b[39mprint\u001b[39m(\u001b[39mf\u001b[39m\u001b[39m\"\u001b[39m\u001b[39mThe type of the result of adding the given two objects is: \u001b[39m\u001b[39m{\u001b[39;00mresult_type\u001b[39m}\u001b[39;00m\u001b[39m\"\u001b[39m)\n",
      "\u001b[1;31mTypeError\u001b[0m: unsupported operand type(s) for +: 'int' and 'str'"
     ]
    }
   ],
   "source": [
    "# We still have a problem\n",
    "# Using the dry function for cases where an error occurs\n",
    "# casues our program to stop executing at that line\n",
    "# causing our program to stop at line 7 and not move on to line 9\n",
    "a = 2\n",
    "b = \"My Name\"\n",
    "dry(a, b)\n",
    "\n",
    "print(\"Program will not reach this line\")"
   ]
  },
  {
   "cell_type": "code",
   "execution_count": 13,
   "metadata": {},
   "outputs": [],
   "source": [
    "# Rewriting the 'dry' function so that it doesn't stop our program\n",
    "# if an error occurs\n",
    "\n",
    "def dry_better(a: int | float | str, b: int | float | str) -> int | float | str:\n",
    "    \"\"\"\n",
    "    Runs several print statements, returns the result of adding 'a' and 'b'\n",
    "\n",
    "    param: a - int | float | str \n",
    "    param: b - int | float | str\n",
    "\n",
    "    returns: int| float | str\n",
    "    \"\"\"\n",
    "    # Put the whole code inside a 'try' block\n",
    "    # this will try to run the code\n",
    "    # but if an exception or error occurs it will move onto\n",
    "    # the 'except' block\n",
    "    try:\n",
    "        a_type = str(type(a)).replace(\"<\", \"|\").replace(\">\", \"|\")\n",
    "        b_type = str(type(a)).replace(\"<\", \"|\").replace(\">\", \"|\")\n",
    "        print(f\"Attempting to add {a_type} and {b_type} object\")\n",
    "        print(f\"Type of the first parameter is: {a_type}\")\n",
    "        print(f\"Type of the second parameter is: {b_type}\")\n",
    "\n",
    "        result = a + b\n",
    "        result_type = str(type(result)).replace(\"<\", \"|\").replace(\">\", \"|\")\n",
    "        print(f\"The type of the result of adding the given two objects is: {result_type}\")\n",
    "        print(f\"The result of adding is: {result}\")\n",
    "        return result\n",
    "\n",
    "    # Do nothing in the except block, the 'pass' keyword simply does nothing\n",
    "    except TypeError as error:\n",
    "        return error\n",
    "\n",
    "    # Pass through the 'except' block and run the code in 'finally' block if an exception occurred\n",
    "    finally:\n",
    "        print(f\"You cannot add {a_type} and {b_type}\")"
   ]
  },
  {
   "cell_type": "code",
   "execution_count": 14,
   "metadata": {},
   "outputs": [
    {
     "name": "stdout",
     "output_type": "stream",
     "text": [
      "Attempting to add |class 'int'| and |class 'int'| object\n",
      "Type of the first parameter is: |class 'int'|\n",
      "Type of the second parameter is: |class 'int'|\n",
      "You cannot add |class 'int'| and |class 'int'|\n",
      "Attempting to add |class 'int'| and |class 'int'| object\n",
      "Type of the first parameter is: |class 'int'|\n",
      "Type of the second parameter is: |class 'int'|\n",
      "The type of the result of adding the given two objects is: |class 'float'|\n",
      "The result of adding is: 20.2\n",
      "You cannot add |class 'int'| and |class 'int'|\n",
      "20.2\n",
      "Program will reach this line\n"
     ]
    }
   ],
   "source": [
    "a = 2\n",
    "b = \"My Name\"\n",
    "dry_better(a, b)\n",
    "\n",
    "return_value = dry_better(a=10,b=10.2)\n",
    "\n",
    "print(return_value)\n",
    "\n",
    "print(\"Program will reach this line\")"
   ]
  },
  {
   "attachments": {},
   "cell_type": "markdown",
   "metadata": {},
   "source": [
    "### Section 2: Basic Class Syntax and a Deeper look at Strings, Function arguments, Type Annotation"
   ]
  },
  {
   "attachments": {},
   "cell_type": "markdown",
   "metadata": {},
   "source": [
    "Strings are 'objects' created from the class 'str'. Python classes have attributes, methods, special methods (dunder methods) and many other advanced things we will slowly try to understand.\n",
    "\n",
    "Here we will first implement a simple class, so that we can better understand what happens when create 'str' objects and use its methods, attributes and dunder methods."
   ]
  },
  {
   "cell_type": "code",
   "execution_count": 32,
   "metadata": {},
   "outputs": [],
   "source": [
    "class Employee:\n",
    "    # __init__ is our first dunder method (double underscore method)\n",
    "    # these special methods should never be called explicitly, instead\n",
    "    # they will be called implicitly by the Python Interpreter\n",
    "    # all methods(functions) of a class should refer to itself, by the\n",
    "    # keyword 'self'. \n",
    "    # We will see later on that there are exceptions to this\n",
    "    # case due to an advanced concept of staticmethods.\n",
    "    def __init__(self, name: str, salary: int) -> None:\n",
    "        self.name = name\n",
    "        self.salary = salary\n",
    "\n",
    "    # Here we are implementing an extra dunder method\n",
    "    # to show how these methods are supposed to be called\n",
    "    # by the Python interpreter\n",
    "    def __len__(self) -> int:\n",
    "        return len(self.name)\n",
    "\n",
    "    def __add__(self, other: Employee):\n",
    "        self.salary = self.salary + other.salary\n",
    "        return self\n",
    "\n",
    "    def __repr__(self):\n",
    "        return f\"Employee name is: {self.name}\"\n",
    "        \n",
    "    # This is a normal class function/method\n",
    "    # that simply raises an employee objects\n",
    "    # salary by a given amount\n",
    "    def give_a_raise(self, amount: int) -> None:\n",
    "        self.salary = self.salary + amount"
   ]
  },
  {
   "cell_type": "code",
   "execution_count": 33,
   "metadata": {},
   "outputs": [
    {
     "name": "stdout",
     "output_type": "stream",
     "text": [
      "<class '__main__.Employee'>\n",
      "<class 'int'>\n",
      "<class 'float'>\n"
     ]
    }
   ],
   "source": [
    "# The key idea of a 'class' is to combine data and logic together.\n",
    "# Another concept is that a 'class' can have as many instances as we want.\n",
    "\n",
    "# Here we create two instance/objects of the same class Employee\n",
    "# Here the python interpreter calls the __init__ method to initialize these classes\n",
    "employee_1 = Employee(name=\"Shaymoly\", salary=15000)\n",
    "employee_2 = Employee(name=\"Tushar\", salary=20000)\n",
    "integer_1 = 10\n",
    "float_1 = 10.2\n",
    "\n",
    "# We can check the type of employee objects\n",
    "\n",
    "print(type(employee_1))\n",
    "print(type(integer_1))\n",
    "print(type(float_1))\n",
    "#The output is <class '__main__.Employee'>, but it doesn't show up on github"
   ]
  },
  {
   "cell_type": "code",
   "execution_count": 34,
   "metadata": {},
   "outputs": [
    {
     "name": "stdout",
     "output_type": "stream",
     "text": [
      "Shaymoly has the lowest salary, 15000\n",
      "Tushar has higher salary, 20000\n",
      "8\n",
      "Mahmudul\n",
      "8\n",
      "8\n"
     ]
    }
   ],
   "source": [
    "# We can access object attribute values using the dot(.) operator\n",
    "\n",
    "print(f\"{employee_1.name} has the lowest salary, {employee_1.salary}\")\n",
    "print(f\"{employee_2.name} has higher salary, {employee_2.salary}\")\n",
    "\n",
    "# Calling dunder methods explicitly/directly is a bad practice and is prohibited in most cases\n",
    "# Calling functions\n",
    "print(employee_1.__len__())\n",
    "\n",
    "# Instead use this syntax\n",
    "string_1 = \"Mahmudul\"\n",
    "print(string_1)\n",
    "print(len(string_1))\n",
    "print(len(employee_1))"
   ]
  },
  {
   "cell_type": "code",
   "execution_count": 35,
   "metadata": {},
   "outputs": [
    {
     "name": "stdout",
     "output_type": "stream",
     "text": [
      "Employee name is: Shaymoly\n"
     ]
    }
   ],
   "source": [
    "print(employee_1)"
   ]
  },
  {
   "cell_type": "code",
   "execution_count": 36,
   "metadata": {},
   "outputs": [
    {
     "name": "stdout",
     "output_type": "stream",
     "text": [
      "35000\n"
     ]
    }
   ],
   "source": [
    "result = employee_1 + employee_2\n",
    "print(employee_1.salary)"
   ]
  },
  {
   "cell_type": "code",
   "execution_count": 37,
   "metadata": {},
   "outputs": [
    {
     "name": "stdout",
     "output_type": "stream",
     "text": [
      "Shaymoly doesn't have the lowest salary anymore: 65000\n"
     ]
    }
   ],
   "source": [
    "# Using regular class methods/functions\n",
    "employee_1.give_a_raise(30000)\n",
    "\n",
    "print(f\"{employee_1.name} doesn't have the lowest salary anymore: {employee_1.salary}\")"
   ]
  },
  {
   "attachments": {},
   "cell_type": "markdown",
   "metadata": {},
   "source": [
    "__The 'str' class, enumerate and range function__"
   ]
  },
  {
   "attachments": {},
   "cell_type": "markdown",
   "metadata": {},
   "source": [
    "The 'str' class is special in python, as it is a core data type. Creating an instance of this class is hence completely \n",
    "handled by the interpreter."
   ]
  },
  {
   "cell_type": "code",
   "execution_count": 41,
   "metadata": {},
   "outputs": [
    {
     "name": "stdout",
     "output_type": "stream",
     "text": [
      "<class 'str'>\n"
     ]
    }
   ],
   "source": [
    "my_name = \"mahmudul hasan\"\n",
    "print(type(my_name))\n",
    "\n",
    "# The output is | <class 'str'> |, but it doesn't show up on github"
   ]
  },
  {
   "cell_type": "code",
   "execution_count": 42,
   "metadata": {},
   "outputs": [
    {
     "name": "stdout",
     "output_type": "stream",
     "text": [
      "The length of my_name is: 14\n"
     ]
    }
   ],
   "source": [
    "# Calling len function\n",
    "print(f\"The length of my_name is: {len(my_name)}\") "
   ]
  },
  {
   "cell_type": "code",
   "execution_count": 43,
   "metadata": {},
   "outputs": [
    {
     "name": "stdout",
     "output_type": "stream",
     "text": [
      "mahmudul hasan\n",
      "Mahmudul hasan\n",
      "Mahmudul Hasan\n",
      "2\n"
     ]
    }
   ],
   "source": [
    "# Calling some methods of this 'str' object\n",
    "\n",
    "print(my_name)\n",
    "\n",
    "# Capitalize only the first letter\n",
    "print(my_name.capitalize())\n",
    "\n",
    "# 'Titlecase' the string object\n",
    "print(my_name.title())\n",
    "\n",
    "# Count the number of occurences of a specific letter\n",
    "print(my_name.count(\"m\"))\n",
    "\n",
    "# Docs : https://docs.python.org/3/library/string.html\n",
    "# Try to use all string methods in a code "
   ]
  },
  {
   "cell_type": "code",
   "execution_count": 44,
   "metadata": {},
   "outputs": [
    {
     "name": "stdout",
     "output_type": "stream",
     "text": [
      "2\n"
     ]
    }
   ],
   "source": [
    "count = 0\n",
    "\n",
    "for letter in my_name:\n",
    "    if letter == \"m\":\n",
    "        count = count + 1\n",
    "\n",
    "print(count)"
   ]
  },
  {
   "cell_type": "code",
   "execution_count": 45,
   "metadata": {},
   "outputs": [
    {
     "name": "stdout",
     "output_type": "stream",
     "text": [
      "m\n",
      "a\n",
      "h\n",
      "m\n",
      "u\n",
      "d\n",
      "u\n",
      "l\n",
      " \n",
      "h\n",
      "a\n",
      "s\n",
      "a\n",
      "n\n"
     ]
    }
   ],
   "source": [
    "# Using the fact that 'str' is derived from the abstract base class 'sequence'\n",
    "# we can iterate through it using for as below\n",
    "\n",
    "for letter in my_name:\n",
    "    print(letter)"
   ]
  },
  {
   "cell_type": "code",
   "execution_count": 46,
   "metadata": {},
   "outputs": [
    {
     "name": "stdout",
     "output_type": "stream",
     "text": [
      "Index: 0, string_1[0]: T, Value: T\n",
      "Index: 1, string_1[1]: h, Value: h\n",
      "Index: 2, string_1[2]: i, Value: i\n",
      "Index: 3, string_1[3]: s, Value: s\n",
      "Index: 4, string_1[4]:  , Value:  \n",
      "Index: 5, string_1[5]: i, Value: i\n",
      "Index: 6, string_1[6]: s, Value: s\n",
      "Index: 7, string_1[7]:  , Value:  \n",
      "Index: 8, string_1[8]: a, Value: a\n",
      "Index: 9, string_1[9]:  , Value:  \n",
      "Index: 10, string_1[10]: s, Value: s\n",
      "Index: 11, string_1[11]: t, Value: t\n",
      "Index: 12, string_1[12]: r, Value: r\n",
      "Index: 13, string_1[13]: i, Value: i\n",
      "Index: 14, string_1[14]: n, Value: n\n",
      "Index: 15, string_1[15]: g, Value: g\n",
      "Index: 16, string_1[16]: ., Value: .\n"
     ]
    }
   ],
   "source": [
    "# Using [] operator to access string object elements\n",
    "string_1 = \"This is a string.\"\n",
    "\n",
    "# Using enumerate function on string lets us iterate\n",
    "# through it but has the advantange of returning\n",
    "# both index and value \n",
    "for index, value in enumerate(string_1):\n",
    "    print(f\"Index: {index}, string_1[{index}]: {string_1[index]}, Value: {value}\")"
   ]
  },
  {
   "cell_type": "code",
   "execution_count": 48,
   "metadata": {},
   "outputs": [
    {
     "name": "stdout",
     "output_type": "stream",
     "text": [
      "Index: 0, string_1[0]: T\n",
      "Index: 1, string_1[1]: h\n",
      "Index: 2, string_1[2]: i\n",
      "Index: 3, string_1[3]: s\n",
      "Index: 4, string_1[4]:  \n",
      "Index: 5, string_1[5]: i\n",
      "Index: 6, string_1[6]: s\n",
      "Index: 7, string_1[7]:  \n",
      "Index: 8, string_1[8]: a\n",
      "Index: 9, string_1[9]:  \n",
      "Index: 10, string_1[10]: s\n",
      "Index: 11, string_1[11]: t\n",
      "Index: 12, string_1[12]: r\n",
      "Index: 13, string_1[13]: i\n",
      "Index: 14, string_1[14]: n\n",
      "Index: 15, string_1[15]: g\n",
      "Index: 16, string_1[16]: .\n"
     ]
    }
   ],
   "source": [
    "# Another method to get iterate through a string using indices\n",
    "# is to use range(len(object))\n",
    "# But this is a bad practice\n",
    "\n",
    "for index in range(len(string_1)):\n",
    "     print(f\"Index: {index}, string_1[{index}]: {string_1[index]}\")"
   ]
  },
  {
   "cell_type": "code",
   "execution_count": 49,
   "metadata": {},
   "outputs": [
    {
     "name": "stdout",
     "output_type": "stream",
     "text": [
      "Index: 0, string_1[0]: T, Value: T\n",
      "Index: 1, string_1[1]: h, Value: h\n",
      "Index: 2, string_1[2]: i, Value: i\n",
      "Index: 3, string_1[3]: s, Value: s\n",
      "Index: 4, string_1[4]:  , Value:  \n",
      "Index: 5, string_1[5]: i, Value: i\n",
      "Index: 6, string_1[6]: s, Value: s\n",
      "Index: 7, string_1[7]:  , Value:  \n",
      "Index: 8, string_1[8]: a, Value: a\n",
      "Index: 9, string_1[9]: n, Value: n\n",
      "Index: 10, string_1[10]:  , Value:  \n",
      "Index: 11, string_1[11]: i, Value: i\n",
      "Index: 12, string_1[12]: m, Value: m\n",
      "Index: 13, string_1[13]: m, Value: m\n",
      "Index: 14, string_1[14]: u, Value: u\n",
      "Index: 15, string_1[15]: t, Value: t\n",
      "Index: 16, string_1[16]: a, Value: a\n",
      "Index: 17, string_1[17]: b, Value: b\n",
      "Index: 18, string_1[18]: l, Value: l\n",
      "Index: 19, string_1[19]: e, Value: e\n",
      "Index: 20, string_1[20]:  , Value:  \n",
      "Index: 21, string_1[21]: s, Value: s\n",
      "Index: 22, string_1[22]: t, Value: t\n",
      "Index: 23, string_1[23]: r, Value: r\n",
      "Index: 24, string_1[24]: i, Value: i\n",
      "Index: 25, string_1[25]: n, Value: n\n",
      "Index: 26, string_1[26]: g, Value: g\n",
      "Index: 27, string_1[27]:  , Value:  \n",
      "Index: 28, string_1[28]: o, Value: o\n",
      "Index: 29, string_1[29]: b, Value: b\n",
      "Index: 30, string_1[30]: j, Value: j\n",
      "Index: 31, string_1[31]: e, Value: e\n",
      "Index: 32, string_1[32]: c, Value: c\n",
      "Index: 33, string_1[33]: t, Value: t\n",
      "Index: 34, string_1[34]: ., Value: .\n"
     ]
    },
    {
     "ename": "TypeError",
     "evalue": "'str' object does not support item assignment",
     "output_type": "error",
     "traceback": [
      "\u001b[1;31m---------------------------------------------------------------------------\u001b[0m",
      "\u001b[1;31mTypeError\u001b[0m                                 Traceback (most recent call last)",
      "Cell \u001b[1;32mIn [49], line 8\u001b[0m\n\u001b[0;32m      5\u001b[0m     \u001b[39mprint\u001b[39m(\u001b[39mf\u001b[39m\u001b[39m\"\u001b[39m\u001b[39mIndex: \u001b[39m\u001b[39m{\u001b[39;00mindex\u001b[39m}\u001b[39;00m\u001b[39m, string_1[\u001b[39m\u001b[39m{\u001b[39;00mindex\u001b[39m}\u001b[39;00m\u001b[39m]: \u001b[39m\u001b[39m{\u001b[39;00mstring_2[index]\u001b[39m}\u001b[39;00m\u001b[39m, Value: \u001b[39m\u001b[39m{\u001b[39;00mvalue\u001b[39m}\u001b[39;00m\u001b[39m\"\u001b[39m)\n\u001b[0;32m      7\u001b[0m \u001b[39m# This will raise an error\u001b[39;00m\n\u001b[1;32m----> 8\u001b[0m string_2[\u001b[39m2\u001b[39m] \u001b[39m=\u001b[39m \u001b[39m\"\u001b[39m\u001b[39mz\u001b[39m\u001b[39m\"\u001b[39m\n",
      "\u001b[1;31mTypeError\u001b[0m: 'str' object does not support item assignment"
     ]
    }
   ],
   "source": [
    "# 'str' objects are immutable, i.e., we cannot modify a string instance after creating it\n",
    "string_2 = \"This is an immutable string object.\"\n",
    "\n",
    "for index, value in enumerate(string_2):\n",
    "    print(f\"Index: {index}, string_1[{index}]: {string_2[index]}, Value: {value}\")\n",
    "\n",
    "# This will raise an error\n",
    "string_2[2] = \"z\""
   ]
  },
  {
   "cell_type": "code",
   "execution_count": 14,
   "metadata": {},
   "outputs": [
    {
     "name": "stdout",
     "output_type": "stream",
     "text": [
      "Length of the string_2 is: 35\n",
      "The mid index of string_2 is: 17\n",
      "This is an immuta\n",
      "This is an immuta\n",
      "immutable\n"
     ]
    }
   ],
   "source": [
    "# Using [] slices to get substrings and another look at zero-based index of python\n",
    "mid_index = len(string_2) // 2\n",
    "\n",
    "print(f\"Length of the string_2 is: {len(string_2)}\")\n",
    "print(f\"The mid index of string_2 is: {mid_index}\")\n",
    "print(f\"{string_2[:mid_index]}\")\n",
    "\n",
    "# The follwing also returns the same output\n",
    "# If not specified the slice will start at 0 by default\n",
    "print(f\"{string_2[0:mid_index]}\")\n",
    "\n",
    "# Getting the substring starting at index 'a' and ending at index 'b-1'\n",
    "# Looking at the output of the previous cell\n",
    "# the substring 'immutable' should be in the indices 11-19\n",
    "# but the slice operation requires us to end at 20 to get the 19th index value\n",
    "print(f\"{string_2[11:20]}\")"
   ]
  },
  {
   "cell_type": "code",
   "execution_count": 18,
   "metadata": {},
   "outputs": [
    {
     "name": "stdout",
     "output_type": "stream",
     "text": [
      "Ti sa mual tigojc.\n",
      "Ti sa mual tigojc.\n",
      ".tcejbo gnirts elbatummi na si sihT\n"
     ]
    }
   ],
   "source": [
    "# The syntax for slicing and skipping 'n' elements is Object[a:b:n]\n",
    "# This will return the values starting from index 'a'\n",
    "# ending at 'b-1' and will skip 'n' values  \n",
    "print(f\"{string_2[0:len(string_2):2]}\")\n",
    "\n",
    "# The following syntax is called 'striding'\n",
    "print(f\"{string_2[::2]}\")\n",
    "\n",
    "# A shortcut method of creating reverse strings using stride syntax\n",
    "print(f\"{string_2[::-1]}\")"
   ]
  },
  {
   "cell_type": "code",
   "execution_count": 16,
   "metadata": {},
   "outputs": [
    {
     "name": "stdout",
     "output_type": "stream",
     "text": [
      "Integer: 0, Squared Value: 0\n",
      "Integer: 1, Squared Value: 1\n",
      "Integer: 2, Squared Value: 4\n",
      "Integer: 3, Squared Value: 9\n",
      "Integer: 4, Squared Value: 16\n",
      "Integer: 5, Squared Value: 25\n",
      "Integer: 6, Squared Value: 36\n",
      "Integer: 7, Squared Value: 49\n",
      "Integer: 8, Squared Value: 64\n",
      "Integer: 9, Squared Value: 81\n"
     ]
    }
   ],
   "source": [
    "# Getting a better understanding of the range function\n",
    "# range function creates a 'generator', which is an advanced topic we will cover later on.\n",
    "# range allows us to generate integer values very easily\n",
    "\n",
    "for i in range(10):\n",
    "    print(f\"Integer: {i}, Squared Value: {i**2}\")"
   ]
  }
 ],
 "metadata": {
  "kernelspec": {
   "display_name": "deep",
   "language": "python",
   "name": "python3"
  },
  "language_info": {
   "codemirror_mode": {
    "name": "ipython",
    "version": 3
   },
   "file_extension": ".py",
   "mimetype": "text/x-python",
   "name": "python",
   "nbconvert_exporter": "python",
   "pygments_lexer": "ipython3",
   "version": "3.10.8"
  },
  "orig_nbformat": 4,
  "vscode": {
   "interpreter": {
    "hash": "750b0b0bcdd9fe2e206a310bba2895779907b3630475ba10ada1c3aa2da185e2"
   }
  }
 },
 "nbformat": 4,
 "nbformat_minor": 2
}
