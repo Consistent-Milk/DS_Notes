{
 "cells": [
  {
   "attachments": {},
   "cell_type": "markdown",
   "metadata": {},
   "source": [
    "### List\n",
    "\n",
    "List is a core data type, but it is actually more of a data container. \n",
    "\n",
    "In more detailed terms, a python list is a ordered and mutable data container, that can contain any kind of data type together in the same instance."
   ]
  },
  {
   "cell_type": "code",
   "execution_count": 5,
   "metadata": {},
   "outputs": [
    {
     "name": "stdout",
     "output_type": "stream",
     "text": [
      "[1, 2, 3, 'One', 'Two', 'Three', 1.2, 1.3, 2.4, [1, 2, 3]]\n",
      "[1, 2, 3, 'One', 'Two', 'Three']\n",
      "[0, 1, 2, 3, 4, 5, 6, 7, 8, 9]\n"
     ]
    }
   ],
   "source": [
    "# Creating List instances, a list can contain multiple types of objects, even nested lists\n",
    "\n",
    "list_1 = [1 , 2, 3, \"One\", \"Two\", \"Three\", 1.2, 1.3, 2.4, [1, 2, 3]]\n",
    "list_2 = list([1 , 2, 3, \"One\", \"Two\", \"Three\"])\n",
    "\n",
    "# Combining range function \n",
    "list_3 = list(range(10))\n",
    "\n",
    "print(list_1)\n",
    "print(list_2)\n",
    "print(list_3)"
   ]
  },
  {
   "cell_type": "code",
   "execution_count": 7,
   "metadata": {},
   "outputs": [
    {
     "name": "stdout",
     "output_type": "stream",
     "text": [
      "[1, 2, 300, 'One', 'Two', 'Three', 1.2, 1.3, 2.4, [1, 2, 3]]\n",
      "[1, 2, 300, 'One', 'Two', 'Three', 1.2, 1.3, 2.4, [1, 2, 3]]\n"
     ]
    }
   ],
   "source": [
    "# We can access elements of a list using [] operator\n",
    "\n",
    "print(list_1)\n",
    "\n",
    "# List are mutable, i.e., we can change the values of a specific index using the assignment operator '='\n",
    "list_1[2] = 300\n",
    "\n",
    "print(list_1)"
   ]
  },
  {
   "cell_type": "code",
   "execution_count": 8,
   "metadata": {},
   "outputs": [
    {
     "name": "stdout",
     "output_type": "stream",
     "text": [
      "1\n",
      "2\n",
      "300\n",
      "One\n",
      "Two\n",
      "Three\n",
      "1.2\n",
      "1.3\n",
      "2.4\n",
      "[1, 2, 3]\n"
     ]
    }
   ],
   "source": [
    "# Methods of traversing a list\n",
    "\n",
    "# Using the fact that a list is derived from the abstract base class 'sequence', \n",
    "# we can iterate through it without using any other function like 'range' \n",
    "# or 'enumerate'. We will get back to what a 'sequence' is and \n",
    "# how to implement custom 'sequence' classes later on.\n",
    "\n",
    "for value in list_1:\n",
    "    print(value)"
   ]
  },
  {
   "cell_type": "code",
   "execution_count": 9,
   "metadata": {},
   "outputs": [
    {
     "name": "stdout",
     "output_type": "stream",
     "text": [
      "Index: 0, Value: 1\n",
      "Index: 1, Value: 2\n",
      "Index: 2, Value: 300\n",
      "Index: 3, Value: One\n",
      "Index: 4, Value: Two\n",
      "Index: 5, Value: Three\n",
      "Index: 6, Value: 1.2\n",
      "Index: 7, Value: 1.3\n",
      "Index: 8, Value: 2.4\n",
      "Index: 9, Value: [1, 2, 3]\n"
     ]
    }
   ],
   "source": [
    "# We can also use enumerate\n",
    "for index, value in enumerate(list_1):\n",
    "    print(f\"Index: {index}, Value: {value}\")"
   ]
  },
  {
   "cell_type": "code",
   "execution_count": 10,
   "metadata": {},
   "outputs": [
    {
     "name": "stdout",
     "output_type": "stream",
     "text": [
      "Index: 0, Value: 1\n",
      "Index: 1, Value: 2\n",
      "Index: 2, Value: 300\n",
      "Index: 3, Value: One\n",
      "Index: 4, Value: Two\n",
      "Index: 5, Value: Three\n",
      "Index: 6, Value: 1.2\n",
      "Index: 7, Value: 1.3\n",
      "Index: 8, Value: 2.4\n",
      "Index: 9, Value: [1, 2, 3]\n"
     ]
    }
   ],
   "source": [
    "# We can also use range (not recommended for most cases)\n",
    "for i in range(len(list_1)):\n",
    "    print(f\"Index: {i}, Value: {list_1[i]}\")"
   ]
  },
  {
   "attachments": {},
   "cell_type": "markdown",
   "metadata": {},
   "source": [
    "### Using list to create and manipulate matrices"
   ]
  },
  {
   "cell_type": "code",
   "execution_count": 15,
   "metadata": {},
   "outputs": [
    {
     "name": "stdout",
     "output_type": "stream",
     "text": [
      "Accessing row 0, and column 0\n",
      "Accessing row 0, and column 1\n",
      "Accessing row 0, and column 2\n",
      "Accessing row 1, and column 0\n",
      "Accessing row 1, and column 1\n",
      "Accessing row 1, and column 2\n",
      "Accessing row 2, and column 0\n",
      "Accessing row 2, and column 1\n",
      "Accessing row 2, and column 2\n",
      "\n",
      "The result of A + B is: [[2, 3, 4], [5, 6, 7], [8, 9, 10]]\n"
     ]
    }
   ],
   "source": [
    "# This is a list of lists that can also be used as a matrix\n",
    "A = [[1, 2, 3], [4, 5, 6], [7, 8, 9]]\n",
    "B = [[1, 1, 1], [1, 1, 1], [1, 1, 1]]\n",
    "\n",
    "# C is a zero matrix where we will store the result of our addition\n",
    "C = [[0, 0, 0], [0, 0, 0], [0, 0, 0]]\n",
    "\n",
    "# We will implement a nested for loop to imitate matrix addition, C = A + B\n",
    "\n",
    "for i, _ in enumerate(A):\n",
    "    for j, _ in enumerate(B):\n",
    "        # Remember that python uses zero-indexing\n",
    "        # so 0th row is the 1st row and 0th column is the first column\n",
    "        print(f\"Accessing row {i}, and column {j}\")\n",
    "        C[i][j] = A[i][j] + B[i][j]\n",
    "\n",
    "# \\n is a escape character to start printing in a new line instead of the line we are currently at\n",
    "print(f\"\\nThe result of A + B is: {C}\")"
   ]
  }
 ],
 "metadata": {
  "kernelspec": {
   "display_name": "deep",
   "language": "python",
   "name": "python3"
  },
  "language_info": {
   "codemirror_mode": {
    "name": "ipython",
    "version": 3
   },
   "file_extension": ".py",
   "mimetype": "text/x-python",
   "name": "python",
   "nbconvert_exporter": "python",
   "pygments_lexer": "ipython3",
   "version": "3.10.8 | packaged by conda-forge | (main, Nov 24 2022, 14:07:00) [MSC v.1916 64 bit (AMD64)]"
  },
  "orig_nbformat": 4,
  "vscode": {
   "interpreter": {
    "hash": "750b0b0bcdd9fe2e206a310bba2895779907b3630475ba10ada1c3aa2da185e2"
   }
  }
 },
 "nbformat": 4,
 "nbformat_minor": 2
}
