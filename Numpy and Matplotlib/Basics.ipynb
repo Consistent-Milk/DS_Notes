{
 "cells": [
  {
   "attachments": {},
   "cell_type": "markdown",
   "metadata": {},
   "source": [
    "NumPy is huge and complex third-party library that is mainly used for high performance numerical computations in python. The core object of the numpy library is 'ndarray'. As we learn to use numpy, one of our main goals will be to become familiar with the 'ndarray' class and how NumPy leverages this class to enable high performance computing in python. We will see that most of the 'Global' functions offered through NumPy usually interacts with the 'ndarray' class. Anyone using Python for mathematical or scientific computations will eventually move on to using NumPy and another library built upon NumPy, called SciPy. We will slowly learn why that is the case from both implementation and hardware based perspective."
   ]
  },
  {
   "attachments": {},
   "cell_type": "markdown",
   "metadata": {},
   "source": [
    "One of the important things to keep in mind before we start, is that NumPy is a massive library that offers vast amounts of functionalities. Almost always, we will not be interested in learning everything a library can offer, instead we will want to familiarize ourselves with the basics and try to attain a workable level of understanding of the functionalities that are available. \n",
    "\n",
    "I had an opportunity to learn from a French Lead Machine Learning Engineer working for a company that exclusively develops complex Artificial Intelligence applications. I think this is a good place to directly quote one of the important lessons he taught me : 'When it comes to libraries, it is often more important to know WHAT we can do with them, instead of knowing HOW we can use them.'\n",
    "\n",
    "With that in mind, we will never even try to consciously memorize anything from a library. Instead we will try to learn how to read the detailed documentations provided by the creators of the respective libraries.\n",
    "\n",
    "Although I have added the reference manual in this repository, I personally prefer using the official sites search bar to look for specific information.  "
   ]
  },
  {
   "attachments": {},
   "cell_type": "markdown",
   "metadata": {},
   "source": [
    "### Section 1 : Creating ndarray objects"
   ]
  },
  {
   "cell_type": "code",
   "execution_count": 2,
   "metadata": {},
   "outputs": [],
   "source": [
    "import numpy as np"
   ]
  },
  {
   "attachments": {},
   "cell_type": "markdown",
   "metadata": {},
   "source": [
    "__Explicit Array Creation Syntax__"
   ]
  },
  {
   "cell_type": "code",
   "execution_count": 41,
   "metadata": {},
   "outputs": [
    {
     "name": "stdout",
     "output_type": "stream",
     "text": [
      "<class 'list'>\n",
      "[1 2 3 4 5 6]\n",
      "Dimension of a: 1\n",
      "<class 'numpy.ndarray'>\n"
     ]
    }
   ],
   "source": [
    "l = [1, 2, 3, 4, 5, 6]\n",
    "print(type(l))\n",
    "\n",
    "a = np.array([1, 2, 3, 4, 5, 6])\n",
    "print(a)\n",
    "print(f\"Dimension of a: {a.ndim}\")\n",
    "print(type(a))"
   ]
  },
  {
   "cell_type": "code",
   "execution_count": 40,
   "metadata": {},
   "outputs": [
    {
     "name": "stdout",
     "output_type": "stream",
     "text": [
      "[[ 1  2  3  4]\n",
      " [ 5  6  7  8]\n",
      " [ 9 10 11 12]]\n",
      "Dimension of a: 2\n",
      "[[[1 2]\n",
      "  [2 3]]\n",
      "\n",
      " [[2 3]\n",
      "  [3 4]]]\n",
      "Dimension of b: 3\n"
     ]
    }
   ],
   "source": [
    "a = np.array([[1, 2, 3, 4], [5, 6, 7, 8], [9, 10, 11, 12]])\n",
    "b = np.array([[[1, 2], [2, 3]], [[2, 3], [3,4]]])\n",
    "print(a)\n",
    "print(f\"Dimension of a: {a.ndim}\")\n",
    "print(b)\n",
    "print(f\"Dimension of b: {b.ndim}\")"
   ]
  },
  {
   "attachments": {},
   "cell_type": "markdown",
   "metadata": {},
   "source": [
    "__Array Initializers__"
   ]
  },
  {
   "attachments": {},
   "cell_type": "markdown",
   "metadata": {},
   "source": [
    "__np.zeros__\n",
    "\n",
    "This method can be used to initialize an array with all zero elements.\n",
    "\n",
    "Parameters:\n",
    "\n",
    "1. shape : This parameter can be used to define the shape and dimension of the initialized array\n",
    "\n",
    "2. dtype : This parameter can be used to initialize an array with a specified datatype such as np.int32, np.int64, np.float32, np.float64 etc\n"
   ]
  },
  {
   "cell_type": "code",
   "execution_count": 5,
   "metadata": {},
   "outputs": [
    {
     "name": "stdout",
     "output_type": "stream",
     "text": [
      "[[0 0 0]\n",
      " [0 0 0]\n",
      " [0 0 0]]\n",
      "\n",
      "[[0. 0.]\n",
      " [0. 0.]]\n"
     ]
    }
   ],
   "source": [
    "a = np.zeros(shape=(3, 3), dtype=np.int64)\n",
    "b = np.zeros(shape=(2, 2), dtype=np.float64)\n",
    "print(a)\n",
    "print()\n",
    "print(b)"
   ]
  },
  {
   "attachments": {},
   "cell_type": "markdown",
   "metadata": {},
   "source": [
    "__np.ones__\n",
    "\n",
    "This method can be used to initialize an array with all elements set to one.\n",
    "\n",
    "Parameters:\n",
    "\n",
    "1. shape : This parameter can be used to define the shape and dimension of the initialized array\n",
    "\n",
    "2. dtype : This parameter can be used to initialize an array with a specified datatype such as np.int32, np.int64, np.float32, np.float64 etc"
   ]
  },
  {
   "cell_type": "code",
   "execution_count": 6,
   "metadata": {},
   "outputs": [
    {
     "name": "stdout",
     "output_type": "stream",
     "text": [
      "[[1 1 1]\n",
      " [1 1 1]\n",
      " [1 1 1]]\n",
      "\n",
      "[[1. 1.]\n",
      " [1. 1.]]\n"
     ]
    }
   ],
   "source": [
    "a = np.ones(shape=(3, 3), dtype=np.int64)\n",
    "b = np.ones(shape=(2, 2), dtype=np.float64)\n",
    "print(a)\n",
    "print()\n",
    "print(b)"
   ]
  },
  {
   "attachments": {},
   "cell_type": "markdown",
   "metadata": {},
   "source": [
    "__np.empty__\n",
    "\n",
    "This method can be used to initialize an array with all elements set to 'garbage'(values that are currently stored in memory) values. \n",
    "\n",
    "Parameters:\n",
    "\n",
    "1. shape : This parameter can be used to define the shape and dimension of the initialized array\n",
    "\n",
    "2. dtype : This parameter can be used to initialize an array with a specified datatype such as np.int32, np.int64, np.float32, np.float64 etc"
   ]
  },
  {
   "cell_type": "code",
   "execution_count": 7,
   "metadata": {},
   "outputs": [
    {
     "name": "stdout",
     "output_type": "stream",
     "text": [
      "[[0 0 0]\n",
      " [0 0 0]\n",
      " [0 0 0]]\n",
      "\n",
      "[[1. 1.]\n",
      " [1. 1.]]\n"
     ]
    }
   ],
   "source": [
    "a_empty = np.empty(shape=(3, 3), dtype=np.int64)\n",
    "b_empty = np.empty(shape=(2, 2), dtype=np.float64)\n",
    "print(a_empty)\n",
    "print()\n",
    "print(b_empty)"
   ]
  },
  {
   "attachments": {},
   "cell_type": "markdown",
   "metadata": {},
   "source": [
    "__Array Creators__"
   ]
  },
  {
   "attachments": {},
   "cell_type": "markdown",
   "metadata": {},
   "source": [
    "__np.arange__\n",
    "\n",
    "https://numpy.org/doc/stable/reference/generated/numpy.arange.html#numpy-arange\n",
    "\n",
    "Return evenly spaced values within a given interval.\n",
    "\n",
    "Parameters:\n",
    "\n",
    "1. start : integer or real, optional\n",
    "\n",
    "    Start of interval. The interval includes this value. The default start value is 0.\n",
    "\n",
    "2. stop : integer or real\n",
    "\n",
    "    End of interval. The interval does not include this value, except in some cases where step is not an integer and floating point round-off affects the length of out.\n",
    "\n",
    "3. step : integer or real, optional\n",
    "\n",
    "    Spacing between values.\n",
    "\n",
    "2. dtype : This parameter can be used to initialize an array with a specified datatype such as np.int32, np.int64, np.float32, np.float64 etc"
   ]
  },
  {
   "cell_type": "code",
   "execution_count": 8,
   "metadata": {},
   "outputs": [
    {
     "name": "stdout",
     "output_type": "stream",
     "text": [
      "[ 0  1  2  3  4  5  6  7  8  9 10]\n",
      "\n",
      "[ 0  2  4  6  8 10]\n"
     ]
    }
   ],
   "source": [
    "a = np.arange(start=0, stop=11, dtype=np.int64)\n",
    "print(a)\n",
    "print()\n",
    "b = np.arange(start=0, stop=11, step=2, dtype=np.int64)\n",
    "print(b)"
   ]
  },
  {
   "attachments": {},
   "cell_type": "markdown",
   "metadata": {},
   "source": [
    "__np.linspace__\n",
    "\n",
    "https://numpy.org/doc/stable/reference/generated/numpy.linspace.html#numpy-linspace\n",
    "\n",
    "This method can be used to create an array with values that are spaced linearly in a specified interval."
   ]
  },
  {
   "cell_type": "code",
   "execution_count": 12,
   "metadata": {},
   "outputs": [
    {
     "name": "stdout",
     "output_type": "stream",
     "text": [
      "[ 0.      1.4286  2.8571  4.2857  5.7143  7.1429  8.5714 10.    ]\n",
      "[0.   1.25 2.5  3.75 5.   6.25 7.5  8.75]\n",
      "[ 0.      1.4286  2.8571  4.2857  5.7143  7.1429  8.5714 10.    ]\n"
     ]
    }
   ],
   "source": [
    "# np.set_printoptions lets us define floating point value precision\n",
    "# or how many values to print after decimal\n",
    "np.set_printoptions(precision=4)\n",
    "\n",
    "N = 8\n",
    "x1 = np.linspace(start=0, stop=10, num=N, endpoint=True)\n",
    "x2 = np.linspace(start=0, stop=10, num=N, endpoint=False)\n",
    "\n",
    "# By default endpoint is set to True\n",
    "x3 = np.linspace(start=0, stop=10, num=N)\n",
    "\n",
    "print(x1)\n",
    "print(x2)\n",
    "print(x3)"
   ]
  },
  {
   "attachments": {},
   "cell_type": "markdown",
   "metadata": {},
   "source": [
    "### Section 2 : ndarray Object Attributes"
   ]
  },
  {
   "attachments": {},
   "cell_type": "markdown",
   "metadata": {},
   "source": [
    "Another way to create ndarray objects is to use a PRNG, to initialize all values randomly.\n",
    "\n",
    "PRNG(Psuedo Random Number Generator) are used to generate sequences that seem to be random but are not 'truly' random as they are generated by using deterministic algorithms."
   ]
  },
  {
   "cell_type": "code",
   "execution_count": 20,
   "metadata": {},
   "outputs": [
    {
     "name": "stdout",
     "output_type": "stream",
     "text": [
      "PRNG used: Generator(PCG64)\n",
      "\n",
      "[[0.5118 0.9505 0.1442]\n",
      " [0.9486 0.3118 0.4233]\n",
      " [0.8277 0.4092 0.5496]]\n",
      "\n",
      "<class 'numpy.ndarray'>\n",
      "class 'numpy.ndarray'\n"
     ]
    }
   ],
   "source": [
    "prng = np.random.default_rng(seed=1)\n",
    "print(f\"PRNG used: {prng}\\n\")\n",
    "\n",
    "A = prng.random((3,3))\n",
    "print(A)\n",
    "print()\n",
    "print(type(A))\n",
    "\n",
    "# Only to ensure that the output shows up on github\n",
    "print(str(type(A)).replace(\"<\",\"\").replace(\">\",\"\"))"
   ]
  },
  {
   "attachments": {},
   "cell_type": "markdown",
   "metadata": {},
   "source": [
    "__Attributes/Properties of a ndarray object:__\n",
    "\n",
    "__ndim:__ Returns the Euclidean dimension (n of $R^{n}$) of an ndarray\n",
    "\n",
    "__size:__ Returns total elements of an ndarray\n",
    "\n",
    "__shape:__ Returns the dimensions of an ndarray"
   ]
  },
  {
   "cell_type": "code",
   "execution_count": 31,
   "metadata": {},
   "outputs": [
    {
     "name": "stdout",
     "output_type": "stream",
     "text": [
      "ndarray object A is: \n",
      "\n",
      " [[0.5118 0.9505 0.1442]\n",
      " [0.9486 0.3118 0.4233]\n",
      " [0.8277 0.4092 0.5496]]\n",
      "\n",
      "Euclidean Dimension of A is: 2\n",
      "\n",
      "Total number of elements in A is: 9\n",
      "\n",
      "The dimensions of A are: (3, 3)\n"
     ]
    }
   ],
   "source": [
    "print(f\"ndarray object A is: \\n\\n {A}\\n\")\n",
    "print(f\"Euclidean Dimension of A is: {A.ndim}\\n\")\n",
    "print(f\"Total number of elements in A is: {A.size}\\n\")\n",
    "print(f\"The dimensions of A are: {A.shape}\")"
   ]
  },
  {
   "cell_type": "code",
   "execution_count": null,
   "metadata": {},
   "outputs": [],
   "source": []
  }
 ],
 "metadata": {
  "kernelspec": {
   "display_name": "deep",
   "language": "python",
   "name": "python3"
  },
  "language_info": {
   "codemirror_mode": {
    "name": "ipython",
    "version": 3
   },
   "file_extension": ".py",
   "mimetype": "text/x-python",
   "name": "python",
   "nbconvert_exporter": "python",
   "pygments_lexer": "ipython3",
   "version": "3.10.8 | packaged by conda-forge | (main, Nov 24 2022, 14:07:00) [MSC v.1916 64 bit (AMD64)]"
  },
  "orig_nbformat": 4,
  "vscode": {
   "interpreter": {
    "hash": "750b0b0bcdd9fe2e206a310bba2895779907b3630475ba10ada1c3aa2da185e2"
   }
  }
 },
 "nbformat": 4,
 "nbformat_minor": 2
}
